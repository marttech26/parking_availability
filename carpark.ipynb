{
  "nbformat": 4,
  "nbformat_minor": 0,
  "metadata": {
    "colab": {
      "provenance": [],
      "gpuType": "T4",
      "include_colab_link": true
    },
    "kernelspec": {
      "name": "python3",
      "display_name": "Python 3"
    },
    "language_info": {
      "name": "python"
    },
    "accelerator": "GPU"
  },
  "cells": [
    {
      "cell_type": "markdown",
      "metadata": {
        "id": "view-in-github",
        "colab_type": "text"
      },
      "source": [
        "<a href=\"https://colab.research.google.com/github/marttech26/parking_availability/blob/main/carpark.ipynb\" target=\"_parent\"><img src=\"https://colab.research.google.com/assets/colab-badge.svg\" alt=\"Open In Colab\"/></a>"
      ]
    },
    {
      "cell_type": "code",
      "execution_count": 3,
      "metadata": {
        "colab": {
          "base_uri": "https://localhost:8080/"
        },
        "id": "Y8jET_e5y2au",
        "outputId": "70605fed-75fa-432a-a88f-afe0eeb0a35e"
      },
      "outputs": [
        {
          "output_type": "stream",
          "name": "stdout",
          "text": [
            "Requirement already satisfied: ultralytics in /usr/local/lib/python3.10/dist-packages (8.1.30)\n",
            "Requirement already satisfied: matplotlib>=3.3.0 in /usr/local/lib/python3.10/dist-packages (from ultralytics) (3.7.1)\n",
            "Requirement already satisfied: opencv-python>=4.6.0 in /usr/local/lib/python3.10/dist-packages (from ultralytics) (4.8.0.76)\n",
            "Requirement already satisfied: pillow>=7.1.2 in /usr/local/lib/python3.10/dist-packages (from ultralytics) (9.4.0)\n",
            "Requirement already satisfied: pyyaml>=5.3.1 in /usr/local/lib/python3.10/dist-packages (from ultralytics) (6.0.1)\n",
            "Requirement already satisfied: requests>=2.23.0 in /usr/local/lib/python3.10/dist-packages (from ultralytics) (2.31.0)\n",
            "Requirement already satisfied: scipy>=1.4.1 in /usr/local/lib/python3.10/dist-packages (from ultralytics) (1.11.4)\n",
            "Requirement already satisfied: torch>=1.8.0 in /usr/local/lib/python3.10/dist-packages (from ultralytics) (2.2.1+cu121)\n",
            "Requirement already satisfied: torchvision>=0.9.0 in /usr/local/lib/python3.10/dist-packages (from ultralytics) (0.17.1+cu121)\n",
            "Requirement already satisfied: tqdm>=4.64.0 in /usr/local/lib/python3.10/dist-packages (from ultralytics) (4.66.2)\n",
            "Requirement already satisfied: psutil in /usr/local/lib/python3.10/dist-packages (from ultralytics) (5.9.5)\n",
            "Requirement already satisfied: py-cpuinfo in /usr/local/lib/python3.10/dist-packages (from ultralytics) (9.0.0)\n",
            "Requirement already satisfied: thop>=0.1.1 in /usr/local/lib/python3.10/dist-packages (from ultralytics) (0.1.1.post2209072238)\n",
            "Requirement already satisfied: pandas>=1.1.4 in /usr/local/lib/python3.10/dist-packages (from ultralytics) (1.5.3)\n",
            "Requirement already satisfied: seaborn>=0.11.0 in /usr/local/lib/python3.10/dist-packages (from ultralytics) (0.13.1)\n",
            "Requirement already satisfied: contourpy>=1.0.1 in /usr/local/lib/python3.10/dist-packages (from matplotlib>=3.3.0->ultralytics) (1.2.0)\n",
            "Requirement already satisfied: cycler>=0.10 in /usr/local/lib/python3.10/dist-packages (from matplotlib>=3.3.0->ultralytics) (0.12.1)\n",
            "Requirement already satisfied: fonttools>=4.22.0 in /usr/local/lib/python3.10/dist-packages (from matplotlib>=3.3.0->ultralytics) (4.49.0)\n",
            "Requirement already satisfied: kiwisolver>=1.0.1 in /usr/local/lib/python3.10/dist-packages (from matplotlib>=3.3.0->ultralytics) (1.4.5)\n",
            "Requirement already satisfied: numpy>=1.20 in /usr/local/lib/python3.10/dist-packages (from matplotlib>=3.3.0->ultralytics) (1.25.2)\n",
            "Requirement already satisfied: packaging>=20.0 in /usr/local/lib/python3.10/dist-packages (from matplotlib>=3.3.0->ultralytics) (24.0)\n",
            "Requirement already satisfied: pyparsing>=2.3.1 in /usr/local/lib/python3.10/dist-packages (from matplotlib>=3.3.0->ultralytics) (3.1.2)\n",
            "Requirement already satisfied: python-dateutil>=2.7 in /usr/local/lib/python3.10/dist-packages (from matplotlib>=3.3.0->ultralytics) (2.8.2)\n",
            "Requirement already satisfied: pytz>=2020.1 in /usr/local/lib/python3.10/dist-packages (from pandas>=1.1.4->ultralytics) (2023.4)\n",
            "Requirement already satisfied: charset-normalizer<4,>=2 in /usr/local/lib/python3.10/dist-packages (from requests>=2.23.0->ultralytics) (3.3.2)\n",
            "Requirement already satisfied: idna<4,>=2.5 in /usr/local/lib/python3.10/dist-packages (from requests>=2.23.0->ultralytics) (3.6)\n",
            "Requirement already satisfied: urllib3<3,>=1.21.1 in /usr/local/lib/python3.10/dist-packages (from requests>=2.23.0->ultralytics) (2.0.7)\n",
            "Requirement already satisfied: certifi>=2017.4.17 in /usr/local/lib/python3.10/dist-packages (from requests>=2.23.0->ultralytics) (2024.2.2)\n",
            "Requirement already satisfied: filelock in /usr/local/lib/python3.10/dist-packages (from torch>=1.8.0->ultralytics) (3.13.1)\n",
            "Requirement already satisfied: typing-extensions>=4.8.0 in /usr/local/lib/python3.10/dist-packages (from torch>=1.8.0->ultralytics) (4.10.0)\n",
            "Requirement already satisfied: sympy in /usr/local/lib/python3.10/dist-packages (from torch>=1.8.0->ultralytics) (1.12)\n",
            "Requirement already satisfied: networkx in /usr/local/lib/python3.10/dist-packages (from torch>=1.8.0->ultralytics) (3.2.1)\n",
            "Requirement already satisfied: jinja2 in /usr/local/lib/python3.10/dist-packages (from torch>=1.8.0->ultralytics) (3.1.3)\n",
            "Requirement already satisfied: fsspec in /usr/local/lib/python3.10/dist-packages (from torch>=1.8.0->ultralytics) (2023.6.0)\n",
            "Requirement already satisfied: nvidia-cuda-nvrtc-cu12==12.1.105 in /usr/local/lib/python3.10/dist-packages (from torch>=1.8.0->ultralytics) (12.1.105)\n",
            "Requirement already satisfied: nvidia-cuda-runtime-cu12==12.1.105 in /usr/local/lib/python3.10/dist-packages (from torch>=1.8.0->ultralytics) (12.1.105)\n",
            "Requirement already satisfied: nvidia-cuda-cupti-cu12==12.1.105 in /usr/local/lib/python3.10/dist-packages (from torch>=1.8.0->ultralytics) (12.1.105)\n",
            "Requirement already satisfied: nvidia-cudnn-cu12==8.9.2.26 in /usr/local/lib/python3.10/dist-packages (from torch>=1.8.0->ultralytics) (8.9.2.26)\n",
            "Requirement already satisfied: nvidia-cublas-cu12==12.1.3.1 in /usr/local/lib/python3.10/dist-packages (from torch>=1.8.0->ultralytics) (12.1.3.1)\n",
            "Requirement already satisfied: nvidia-cufft-cu12==11.0.2.54 in /usr/local/lib/python3.10/dist-packages (from torch>=1.8.0->ultralytics) (11.0.2.54)\n",
            "Requirement already satisfied: nvidia-curand-cu12==10.3.2.106 in /usr/local/lib/python3.10/dist-packages (from torch>=1.8.0->ultralytics) (10.3.2.106)\n",
            "Requirement already satisfied: nvidia-cusolver-cu12==11.4.5.107 in /usr/local/lib/python3.10/dist-packages (from torch>=1.8.0->ultralytics) (11.4.5.107)\n",
            "Requirement already satisfied: nvidia-cusparse-cu12==12.1.0.106 in /usr/local/lib/python3.10/dist-packages (from torch>=1.8.0->ultralytics) (12.1.0.106)\n",
            "Requirement already satisfied: nvidia-nccl-cu12==2.19.3 in /usr/local/lib/python3.10/dist-packages (from torch>=1.8.0->ultralytics) (2.19.3)\n",
            "Requirement already satisfied: nvidia-nvtx-cu12==12.1.105 in /usr/local/lib/python3.10/dist-packages (from torch>=1.8.0->ultralytics) (12.1.105)\n",
            "Requirement already satisfied: triton==2.2.0 in /usr/local/lib/python3.10/dist-packages (from torch>=1.8.0->ultralytics) (2.2.0)\n",
            "Requirement already satisfied: nvidia-nvjitlink-cu12 in /usr/local/lib/python3.10/dist-packages (from nvidia-cusolver-cu12==11.4.5.107->torch>=1.8.0->ultralytics) (12.4.99)\n",
            "Requirement already satisfied: six>=1.5 in /usr/local/lib/python3.10/dist-packages (from python-dateutil>=2.7->matplotlib>=3.3.0->ultralytics) (1.16.0)\n",
            "Requirement already satisfied: MarkupSafe>=2.0 in /usr/local/lib/python3.10/dist-packages (from jinja2->torch>=1.8.0->ultralytics) (2.1.5)\n",
            "Requirement already satisfied: mpmath>=0.19 in /usr/local/lib/python3.10/dist-packages (from sympy->torch>=1.8.0->ultralytics) (1.3.0)\n",
            "Requirement already satisfied: opencv-python-headless in /usr/local/lib/python3.10/dist-packages (4.9.0.80)\n",
            "Requirement already satisfied: numpy>=1.21.2 in /usr/local/lib/python3.10/dist-packages (from opencv-python-headless) (1.25.2)\n",
            "Requirement already satisfied: labelme2yolo in /usr/local/lib/python3.10/dist-packages (0.1.6)\n",
            "Requirement already satisfied: numpy<1.27.0,>=1.23.1 in /usr/local/lib/python3.10/dist-packages (from labelme2yolo) (1.25.2)\n",
            "Requirement already satisfied: opencv-python>=4.1.2 in /usr/local/lib/python3.10/dist-packages (from labelme2yolo) (4.8.0.76)\n",
            "Requirement already satisfied: pillow<10.3,>=9.2 in /usr/local/lib/python3.10/dist-packages (from labelme2yolo) (9.4.0)\n",
            "Requirement already satisfied: rich in /usr/local/lib/python3.10/dist-packages (from labelme2yolo) (13.7.1)\n",
            "Requirement already satisfied: markdown-it-py>=2.2.0 in /usr/local/lib/python3.10/dist-packages (from rich->labelme2yolo) (3.0.0)\n",
            "Requirement already satisfied: pygments<3.0.0,>=2.13.0 in /usr/local/lib/python3.10/dist-packages (from rich->labelme2yolo) (2.16.1)\n",
            "Requirement already satisfied: mdurl~=0.1 in /usr/local/lib/python3.10/dist-packages (from markdown-it-py>=2.2.0->rich->labelme2yolo) (0.1.2)\n"
          ]
        }
      ],
      "source": [
        "%pip install ultralytics\n",
        "!pip install opencv-python-headless\n",
        "!pip install labelme2yolo"
      ]
    },
    {
      "cell_type": "code",
      "source": [
        "# Supress Warnings\n",
        "import warnings\n",
        "warnings.filterwarnings('ignore')\n",
        "\n",
        "\n",
        "# Visualisation\n",
        "from matplotlib import pyplot as plt\n",
        "import matplotlib.image as img\n",
        "from matplotlib.pyplot import figure\n",
        "from PIL import Image\n",
        "\n",
        "# Model Building\n",
        "import ultralytics\n",
        "from ultralytics import YOLO\n",
        "import labelme2yolo\n",
        "\n",
        "# Others\n",
        "import os\n",
        "import shutil\n",
        "import zipfile\n",
        "\n",
        "%matplotlib inline"
      ],
      "metadata": {
        "id": "ol34ezOIy-B4"
      },
      "execution_count": 4,
      "outputs": []
    },
    {
      "cell_type": "code",
      "source": [
        "from google.colab import drive\n",
        "\n",
        "drive.mount('/content/gdrive')"
      ],
      "metadata": {
        "colab": {
          "base_uri": "https://localhost:8080/"
        },
        "id": "BDgT8XPTzHlE",
        "outputId": "4c603ac9-6a3d-4f8f-beb2-edab8baf0140"
      },
      "execution_count": 5,
      "outputs": [
        {
          "output_type": "stream",
          "name": "stdout",
          "text": [
            "Drive already mounted at /content/gdrive; to attempt to forcibly remount, call drive.mount(\"/content/gdrive\", force_remount=True).\n"
          ]
        }
      ]
    },
    {
      "cell_type": "code",
      "source": [
        "!nvidia-smi"
      ],
      "metadata": {
        "colab": {
          "base_uri": "https://localhost:8080/"
        },
        "id": "wjtmT3rcorhb",
        "outputId": "c1d3f032-3998-454e-e718-2da122521575"
      },
      "execution_count": 6,
      "outputs": [
        {
          "output_type": "stream",
          "name": "stdout",
          "text": [
            "Thu Mar 21 15:35:09 2024       \n",
            "+---------------------------------------------------------------------------------------+\n",
            "| NVIDIA-SMI 535.104.05             Driver Version: 535.104.05   CUDA Version: 12.2     |\n",
            "|-----------------------------------------+----------------------+----------------------+\n",
            "| GPU  Name                 Persistence-M | Bus-Id        Disp.A | Volatile Uncorr. ECC |\n",
            "| Fan  Temp   Perf          Pwr:Usage/Cap |         Memory-Usage | GPU-Util  Compute M. |\n",
            "|                                         |                      |               MIG M. |\n",
            "|=========================================+======================+======================|\n",
            "|   0  Tesla T4                       Off | 00000000:00:04.0 Off |                    0 |\n",
            "| N/A   41C    P8              11W /  70W |      0MiB / 15360MiB |      0%      Default |\n",
            "|                                         |                      |                  N/A |\n",
            "+-----------------------------------------+----------------------+----------------------+\n",
            "                                                                                         \n",
            "+---------------------------------------------------------------------------------------+\n",
            "| Processes:                                                                            |\n",
            "|  GPU   GI   CI        PID   Type   Process name                            GPU Memory |\n",
            "|        ID   ID                                                             Usage      |\n",
            "|=======================================================================================|\n",
            "|  No running processes found                                                           |\n",
            "+---------------------------------------------------------------------------------------+\n"
          ]
        }
      ]
    },
    {
      "cell_type": "code",
      "source": [
        "#Loading the model\n",
        "model = YOLO('yolov8n.pt')"
      ],
      "metadata": {
        "id": "qE2_rj8_z5XK"
      },
      "execution_count": 17,
      "outputs": []
    },
    {
      "cell_type": "code",
      "source": [
        "# Display model information (optional)\n",
        "model.info()"
      ],
      "metadata": {
        "colab": {
          "base_uri": "https://localhost:8080/"
        },
        "id": "u0SdyRqpISnn",
        "outputId": "b09be058-bf81-43e1-8049-369ec073252b"
      },
      "execution_count": 18,
      "outputs": [
        {
          "output_type": "stream",
          "name": "stdout",
          "text": [
            "YOLOv8n summary: 225 layers, 3157200 parameters, 0 gradients, 8.9 GFLOPs\n"
          ]
        },
        {
          "output_type": "execute_result",
          "data": {
            "text/plain": [
              "(225, 3157200, 0, 8.8575488)"
            ]
          },
          "metadata": {},
          "execution_count": 18
        }
      ]
    },
    {
      "cell_type": "code",
      "source": [
        "# Train the model on the dataset for 150 epochs\n",
        "results = model.train(data='/content/gdrive/MyDrive/car park/data.yaml', epochs=100)"
      ],
      "metadata": {
        "colab": {
          "base_uri": "https://localhost:8080/"
        },
        "id": "Dw-rBNV-0Nmt",
        "outputId": "94fae241-755e-43b1-c443-6bc1aba20836"
      },
      "execution_count": 19,
      "outputs": [
        {
          "metadata": {
            "tags": null
          },
          "name": "stdout",
          "output_type": "stream",
          "text": [
            "Ultralytics YOLOv8.1.30 🚀 Python-3.10.12 torch-2.2.1+cu121 CUDA:0 (Tesla T4, 15102MiB)\n",
            "\u001b[34m\u001b[1mengine/trainer: \u001b[0mtask=detect, mode=train, model=yolov8n.pt, data=/content/gdrive/MyDrive/car park/data.yaml, epochs=100, time=None, patience=100, batch=16, imgsz=640, save=True, save_period=-1, cache=False, device=None, workers=8, project=None, name=train2, exist_ok=False, pretrained=True, optimizer=auto, verbose=True, seed=0, deterministic=True, single_cls=False, rect=False, cos_lr=False, close_mosaic=10, resume=False, amp=True, fraction=1.0, profile=False, freeze=None, multi_scale=False, overlap_mask=True, mask_ratio=4, dropout=0.0, val=True, split=val, save_json=False, save_hybrid=False, conf=None, iou=0.7, max_det=300, half=False, dnn=False, plots=True, source=None, vid_stride=1, stream_buffer=False, visualize=False, augment=False, agnostic_nms=False, classes=None, retina_masks=False, embed=None, show=False, save_frames=False, save_txt=False, save_conf=False, save_crop=False, show_labels=True, show_conf=True, show_boxes=True, line_width=None, format=torchscript, keras=False, optimize=False, int8=False, dynamic=False, simplify=False, opset=None, workspace=4, nms=False, lr0=0.01, lrf=0.01, momentum=0.937, weight_decay=0.0005, warmup_epochs=3.0, warmup_momentum=0.8, warmup_bias_lr=0.1, box=7.5, cls=0.5, dfl=1.5, pose=12.0, kobj=1.0, label_smoothing=0.0, nbs=64, hsv_h=0.015, hsv_s=0.7, hsv_v=0.4, degrees=0.0, translate=0.1, scale=0.5, shear=0.0, perspective=0.0, flipud=0.0, fliplr=0.5, mosaic=1.0, mixup=0.0, copy_paste=0.0, auto_augment=randaugment, erasing=0.4, crop_fraction=1.0, cfg=None, tracker=botsort.yaml, save_dir=runs/detect/train2\n",
            "Overriding model.yaml nc=80 with nc=2\n",
            "\n",
            "                   from  n    params  module                                       arguments                     \n",
            "  0                  -1  1       464  ultralytics.nn.modules.conv.Conv             [3, 16, 3, 2]                 \n",
            "  1                  -1  1      4672  ultralytics.nn.modules.conv.Conv             [16, 32, 3, 2]                \n",
            "  2                  -1  1      7360  ultralytics.nn.modules.block.C2f             [32, 32, 1, True]             \n",
            "  3                  -1  1     18560  ultralytics.nn.modules.conv.Conv             [32, 64, 3, 2]                \n",
            "  4                  -1  2     49664  ultralytics.nn.modules.block.C2f             [64, 64, 2, True]             \n",
            "  5                  -1  1     73984  ultralytics.nn.modules.conv.Conv             [64, 128, 3, 2]               \n",
            "  6                  -1  2    197632  ultralytics.nn.modules.block.C2f             [128, 128, 2, True]           \n",
            "  7                  -1  1    295424  ultralytics.nn.modules.conv.Conv             [128, 256, 3, 2]              \n",
            "  8                  -1  1    460288  ultralytics.nn.modules.block.C2f             [256, 256, 1, True]           \n",
            "  9                  -1  1    164608  ultralytics.nn.modules.block.SPPF            [256, 256, 5]                 \n",
            " 10                  -1  1         0  torch.nn.modules.upsampling.Upsample         [None, 2, 'nearest']          \n",
            " 11             [-1, 6]  1         0  ultralytics.nn.modules.conv.Concat           [1]                           \n",
            " 12                  -1  1    148224  ultralytics.nn.modules.block.C2f             [384, 128, 1]                 \n",
            " 13                  -1  1         0  torch.nn.modules.upsampling.Upsample         [None, 2, 'nearest']          \n",
            " 14             [-1, 4]  1         0  ultralytics.nn.modules.conv.Concat           [1]                           \n",
            " 15                  -1  1     37248  ultralytics.nn.modules.block.C2f             [192, 64, 1]                  \n",
            " 16                  -1  1     36992  ultralytics.nn.modules.conv.Conv             [64, 64, 3, 2]                \n",
            " 17            [-1, 12]  1         0  ultralytics.nn.modules.conv.Concat           [1]                           \n",
            " 18                  -1  1    123648  ultralytics.nn.modules.block.C2f             [192, 128, 1]                 \n",
            " 19                  -1  1    147712  ultralytics.nn.modules.conv.Conv             [128, 128, 3, 2]              \n",
            " 20             [-1, 9]  1         0  ultralytics.nn.modules.conv.Concat           [1]                           \n",
            " 21                  -1  1    493056  ultralytics.nn.modules.block.C2f             [384, 256, 1]                 \n",
            " 22        [15, 18, 21]  1    751702  ultralytics.nn.modules.head.Detect           [2, [64, 128, 256]]           \n",
            "Model summary: 225 layers, 3011238 parameters, 3011222 gradients, 8.2 GFLOPs\n",
            "\n",
            "Transferred 319/355 items from pretrained weights\n",
            "\u001b[34m\u001b[1mTensorBoard: \u001b[0mStart with 'tensorboard --logdir runs/detect/train2', view at http://localhost:6006/\n",
            "Freezing layer 'model.22.dfl.conv.weight'\n",
            "\u001b[34m\u001b[1mAMP: \u001b[0mrunning Automatic Mixed Precision (AMP) checks with YOLOv8n...\n",
            "\u001b[34m\u001b[1mAMP: \u001b[0mchecks passed ✅\n"
          ]
        },
        {
          "metadata": {
            "tags": null
          },
          "name": "stderr",
          "output_type": "stream",
          "text": [
            "\u001b[34m\u001b[1mtrain: \u001b[0mScanning /content/gdrive/MyDrive/car park/train... 2704 images, 235 backgrounds, 0 corrupt: 100%|██████████| 2704/2704 [01:34<00:00, 28.66it/s]\n"
          ]
        },
        {
          "metadata": {
            "tags": null
          },
          "name": "stdout",
          "output_type": "stream",
          "text": [
            "\u001b[34m\u001b[1mtrain: \u001b[0mNew cache created: /content/gdrive/MyDrive/car park/train.cache\n",
            "WARNING ⚠️ Box and segment counts should be equal, but got len(segments) = 6038, len(boxes) = 7413. To resolve this only boxes will be used and all segments will be removed. To avoid this please supply either a detect or segment dataset, not a detect-segment mixed dataset.\n",
            "\u001b[34m\u001b[1malbumentations: \u001b[0mBlur(p=0.01, blur_limit=(3, 7)), MedianBlur(p=0.01, blur_limit=(3, 7)), ToGray(p=0.01), CLAHE(p=0.01, clip_limit=(1, 4.0), tile_grid_size=(8, 8))\n"
          ]
        },
        {
          "metadata": {
            "tags": null
          },
          "name": "stderr",
          "output_type": "stream",
          "text": [
            "\u001b[34m\u001b[1mval: \u001b[0mScanning /content/gdrive/MyDrive/car park/val... 30 images, 0 backgrounds, 0 corrupt: 100%|██████████| 30/30 [00:21<00:00,  1.39it/s]"
          ]
        },
        {
          "metadata": {
            "tags": null
          },
          "name": "stdout",
          "output_type": "stream",
          "text": [
            "\u001b[34m\u001b[1mval: \u001b[0mNew cache created: /content/gdrive/MyDrive/car park/val.cache\n",
            "WARNING ⚠️ Box and segment counts should be equal, but got len(segments) = 61, len(boxes) = 76. To resolve this only boxes will be used and all segments will be removed. To avoid this please supply either a detect or segment dataset, not a detect-segment mixed dataset.\n"
          ]
        },
        {
          "metadata": {
            "tags": null
          },
          "name": "stderr",
          "output_type": "stream",
          "text": [
            "\n"
          ]
        },
        {
          "metadata": {
            "tags": null
          },
          "name": "stdout",
          "output_type": "stream",
          "text": [
            "Plotting labels to runs/detect/train2/labels.jpg... \n",
            "\u001b[34m\u001b[1moptimizer:\u001b[0m 'optimizer=auto' found, ignoring 'lr0=0.01' and 'momentum=0.937' and determining best 'optimizer', 'lr0' and 'momentum' automatically... \n",
            "\u001b[34m\u001b[1moptimizer:\u001b[0m AdamW(lr=0.001667, momentum=0.9) with parameter groups 57 weight(decay=0.0), 64 weight(decay=0.0005), 63 bias(decay=0.0)\n",
            "\u001b[34m\u001b[1mTensorBoard: \u001b[0mmodel graph visualization added ✅\n",
            "Image sizes 640 train, 640 val\n",
            "Using 2 dataloader workers\n",
            "Logging results to \u001b[1mruns/detect/train2\u001b[0m\n",
            "Starting training for 100 epochs...\n",
            "\n",
            "      Epoch    GPU_mem   box_loss   cls_loss   dfl_loss  Instances       Size\n"
          ]
        },
        {
          "metadata": {
            "tags": null
          },
          "name": "stderr",
          "output_type": "stream",
          "text": [
            "      1/100      2.63G      1.583      2.381      1.638         57        640: 100%|██████████| 169/169 [01:26<00:00,  1.96it/s]\n",
            "                 Class     Images  Instances      Box(P          R      mAP50  mAP50-95): 100%|██████████| 1/1 [00:02<00:00,  2.26s/it]"
          ]
        },
        {
          "metadata": {
            "tags": null
          },
          "name": "stdout",
          "output_type": "stream",
          "text": [
            "                   all         30         76      0.626      0.432      0.505      0.356\n"
          ]
        },
        {
          "metadata": {
            "tags": null
          },
          "name": "stderr",
          "output_type": "stream",
          "text": [
            "\n"
          ]
        },
        {
          "metadata": {
            "tags": null
          },
          "name": "stdout",
          "output_type": "stream",
          "text": [
            "\n",
            "      Epoch    GPU_mem   box_loss   cls_loss   dfl_loss  Instances       Size\n"
          ]
        },
        {
          "metadata": {
            "tags": null
          },
          "name": "stderr",
          "output_type": "stream",
          "text": [
            "      2/100      2.38G      1.568      1.943        1.6         71        640: 100%|██████████| 169/169 [01:20<00:00,  2.10it/s]\n",
            "                 Class     Images  Instances      Box(P          R      mAP50  mAP50-95): 100%|██████████| 1/1 [00:00<00:00,  2.57it/s]"
          ]
        },
        {
          "metadata": {
            "tags": null
          },
          "name": "stdout",
          "output_type": "stream",
          "text": [
            "                   all         30         76       0.57      0.333      0.406      0.257\n"
          ]
        },
        {
          "metadata": {
            "tags": null
          },
          "name": "stderr",
          "output_type": "stream",
          "text": [
            "\n"
          ]
        },
        {
          "metadata": {
            "tags": null
          },
          "name": "stdout",
          "output_type": "stream",
          "text": [
            "\n",
            "      Epoch    GPU_mem   box_loss   cls_loss   dfl_loss  Instances       Size\n"
          ]
        },
        {
          "metadata": {
            "tags": null
          },
          "name": "stderr",
          "output_type": "stream",
          "text": [
            "      3/100      2.34G      1.549      1.821      1.583         86        640: 100%|██████████| 169/169 [01:22<00:00,  2.06it/s]\n",
            "                 Class     Images  Instances      Box(P          R      mAP50  mAP50-95): 100%|██████████| 1/1 [00:00<00:00,  2.65it/s]"
          ]
        },
        {
          "metadata": {
            "tags": null
          },
          "name": "stdout",
          "output_type": "stream",
          "text": [
            "                   all         30         76      0.797      0.494      0.564      0.401\n"
          ]
        },
        {
          "metadata": {
            "tags": null
          },
          "name": "stderr",
          "output_type": "stream",
          "text": [
            "\n"
          ]
        },
        {
          "metadata": {
            "tags": null
          },
          "name": "stdout",
          "output_type": "stream",
          "text": [
            "\n",
            "      Epoch    GPU_mem   box_loss   cls_loss   dfl_loss  Instances       Size\n"
          ]
        },
        {
          "metadata": {
            "tags": null
          },
          "name": "stderr",
          "output_type": "stream",
          "text": [
            "      4/100      2.38G      1.519      1.734      1.555         76        640: 100%|██████████| 169/169 [01:18<00:00,  2.15it/s]\n",
            "                 Class     Images  Instances      Box(P          R      mAP50  mAP50-95): 100%|██████████| 1/1 [00:00<00:00,  2.34it/s]"
          ]
        },
        {
          "metadata": {
            "tags": null
          },
          "name": "stdout",
          "output_type": "stream",
          "text": [
            "                   all         30         76      0.951      0.429      0.501      0.321\n"
          ]
        },
        {
          "metadata": {
            "tags": null
          },
          "name": "stderr",
          "output_type": "stream",
          "text": [
            "\n"
          ]
        },
        {
          "metadata": {
            "tags": null
          },
          "name": "stdout",
          "output_type": "stream",
          "text": [
            "\n",
            "      Epoch    GPU_mem   box_loss   cls_loss   dfl_loss  Instances       Size\n"
          ]
        },
        {
          "metadata": {
            "tags": null
          },
          "name": "stderr",
          "output_type": "stream",
          "text": [
            "      5/100      2.37G      1.473      1.641      1.519         62        640: 100%|██████████| 169/169 [01:20<00:00,  2.10it/s]\n",
            "                 Class     Images  Instances      Box(P          R      mAP50  mAP50-95): 100%|██████████| 1/1 [00:00<00:00,  2.06it/s]"
          ]
        },
        {
          "metadata": {
            "tags": null
          },
          "name": "stdout",
          "output_type": "stream",
          "text": [
            "                   all         30         76      0.993      0.414      0.565      0.421\n"
          ]
        },
        {
          "metadata": {
            "tags": null
          },
          "name": "stderr",
          "output_type": "stream",
          "text": [
            "\n"
          ]
        },
        {
          "metadata": {
            "tags": null
          },
          "name": "stdout",
          "output_type": "stream",
          "text": [
            "\n",
            "      Epoch    GPU_mem   box_loss   cls_loss   dfl_loss  Instances       Size\n"
          ]
        },
        {
          "metadata": {
            "tags": null
          },
          "name": "stderr",
          "output_type": "stream",
          "text": [
            "      6/100      2.37G      1.431      1.589      1.493         81        640: 100%|██████████| 169/169 [01:20<00:00,  2.11it/s]\n",
            "                 Class     Images  Instances      Box(P          R      mAP50  mAP50-95): 100%|██████████| 1/1 [00:00<00:00,  1.07it/s]"
          ]
        },
        {
          "metadata": {
            "tags": null
          },
          "name": "stdout",
          "output_type": "stream",
          "text": [
            "                   all         30         76      0.787      0.595      0.631      0.432\n"
          ]
        },
        {
          "metadata": {
            "tags": null
          },
          "name": "stderr",
          "output_type": "stream",
          "text": [
            "\n"
          ]
        },
        {
          "metadata": {
            "tags": null
          },
          "name": "stdout",
          "output_type": "stream",
          "text": [
            "\n",
            "      Epoch    GPU_mem   box_loss   cls_loss   dfl_loss  Instances       Size\n"
          ]
        },
        {
          "metadata": {
            "tags": null
          },
          "name": "stderr",
          "output_type": "stream",
          "text": [
            "      7/100      2.37G      1.394      1.513      1.473         72        640: 100%|██████████| 169/169 [01:18<00:00,  2.17it/s]\n",
            "                 Class     Images  Instances      Box(P          R      mAP50  mAP50-95): 100%|██████████| 1/1 [00:00<00:00,  1.68it/s]"
          ]
        },
        {
          "metadata": {
            "tags": null
          },
          "name": "stdout",
          "output_type": "stream",
          "text": [
            "                   all         30         76      0.756      0.622      0.662      0.469\n"
          ]
        },
        {
          "metadata": {
            "tags": null
          },
          "name": "stderr",
          "output_type": "stream",
          "text": [
            "\n"
          ]
        },
        {
          "metadata": {
            "tags": null
          },
          "name": "stdout",
          "output_type": "stream",
          "text": [
            "\n",
            "      Epoch    GPU_mem   box_loss   cls_loss   dfl_loss  Instances       Size\n"
          ]
        },
        {
          "metadata": {
            "tags": null
          },
          "name": "stderr",
          "output_type": "stream",
          "text": [
            "      8/100      2.37G       1.35      1.464      1.435        103        640: 100%|██████████| 169/169 [01:20<00:00,  2.09it/s]\n",
            "                 Class     Images  Instances      Box(P          R      mAP50  mAP50-95): 100%|██████████| 1/1 [00:00<00:00,  1.95it/s]"
          ]
        },
        {
          "metadata": {
            "tags": null
          },
          "name": "stdout",
          "output_type": "stream",
          "text": [
            "                   all         30         76      0.802      0.531      0.587      0.415\n"
          ]
        },
        {
          "metadata": {
            "tags": null
          },
          "name": "stderr",
          "output_type": "stream",
          "text": [
            "\n"
          ]
        },
        {
          "metadata": {
            "tags": null
          },
          "name": "stdout",
          "output_type": "stream",
          "text": [
            "\n",
            "      Epoch    GPU_mem   box_loss   cls_loss   dfl_loss  Instances       Size\n"
          ]
        },
        {
          "metadata": {
            "tags": null
          },
          "name": "stderr",
          "output_type": "stream",
          "text": [
            "      9/100      2.37G      1.336      1.424      1.425         70        640: 100%|██████████| 169/169 [01:18<00:00,  2.15it/s]\n",
            "                 Class     Images  Instances      Box(P          R      mAP50  mAP50-95): 100%|██████████| 1/1 [00:00<00:00,  1.55it/s]"
          ]
        },
        {
          "metadata": {
            "tags": null
          },
          "name": "stdout",
          "output_type": "stream",
          "text": [
            "                   all         30         76      0.622      0.568      0.595      0.433\n"
          ]
        },
        {
          "metadata": {
            "tags": null
          },
          "name": "stderr",
          "output_type": "stream",
          "text": [
            "\n"
          ]
        },
        {
          "metadata": {
            "tags": null
          },
          "name": "stdout",
          "output_type": "stream",
          "text": [
            "\n",
            "      Epoch    GPU_mem   box_loss   cls_loss   dfl_loss  Instances       Size\n"
          ]
        },
        {
          "metadata": {
            "tags": null
          },
          "name": "stderr",
          "output_type": "stream",
          "text": [
            "     10/100      2.36G      1.292      1.381        1.4         87        640: 100%|██████████| 169/169 [01:18<00:00,  2.15it/s]\n",
            "                 Class     Images  Instances      Box(P          R      mAP50  mAP50-95): 100%|██████████| 1/1 [00:00<00:00,  1.83it/s]"
          ]
        },
        {
          "metadata": {
            "tags": null
          },
          "name": "stdout",
          "output_type": "stream",
          "text": [
            "                   all         30         76      0.844      0.559      0.623      0.463\n"
          ]
        },
        {
          "metadata": {
            "tags": null
          },
          "name": "stderr",
          "output_type": "stream",
          "text": [
            "\n"
          ]
        },
        {
          "metadata": {
            "tags": null
          },
          "name": "stdout",
          "output_type": "stream",
          "text": [
            "\n",
            "      Epoch    GPU_mem   box_loss   cls_loss   dfl_loss  Instances       Size\n"
          ]
        },
        {
          "metadata": {
            "tags": null
          },
          "name": "stderr",
          "output_type": "stream",
          "text": [
            "     11/100      2.36G      1.288      1.374      1.397         83        640: 100%|██████████| 169/169 [01:19<00:00,  2.14it/s]\n",
            "                 Class     Images  Instances      Box(P          R      mAP50  mAP50-95): 100%|██████████| 1/1 [00:00<00:00,  1.81it/s]"
          ]
        },
        {
          "metadata": {
            "tags": null
          },
          "name": "stdout",
          "output_type": "stream",
          "text": [
            "                   all         30         76       0.71      0.593      0.653      0.467\n"
          ]
        },
        {
          "metadata": {
            "tags": null
          },
          "name": "stderr",
          "output_type": "stream",
          "text": [
            "\n"
          ]
        },
        {
          "metadata": {
            "tags": null
          },
          "name": "stdout",
          "output_type": "stream",
          "text": [
            "\n",
            "      Epoch    GPU_mem   box_loss   cls_loss   dfl_loss  Instances       Size\n"
          ]
        },
        {
          "metadata": {
            "tags": null
          },
          "name": "stderr",
          "output_type": "stream",
          "text": [
            "     12/100      2.36G      1.269      1.335      1.383         77        640: 100%|██████████| 169/169 [01:18<00:00,  2.15it/s]\n",
            "                 Class     Images  Instances      Box(P          R      mAP50  mAP50-95): 100%|██████████| 1/1 [00:00<00:00,  1.79it/s]"
          ]
        },
        {
          "metadata": {
            "tags": null
          },
          "name": "stdout",
          "output_type": "stream",
          "text": [
            "                   all         30         76      0.622       0.63      0.636       0.47\n"
          ]
        },
        {
          "metadata": {
            "tags": null
          },
          "name": "stderr",
          "output_type": "stream",
          "text": [
            "\n"
          ]
        },
        {
          "metadata": {
            "tags": null
          },
          "name": "stdout",
          "output_type": "stream",
          "text": [
            "\n",
            "      Epoch    GPU_mem   box_loss   cls_loss   dfl_loss  Instances       Size\n"
          ]
        },
        {
          "metadata": {
            "tags": null
          },
          "name": "stderr",
          "output_type": "stream",
          "text": [
            "     13/100      2.36G      1.256      1.311      1.368         82        640: 100%|██████████| 169/169 [01:19<00:00,  2.13it/s]\n",
            "                 Class     Images  Instances      Box(P          R      mAP50  mAP50-95): 100%|██████████| 1/1 [00:00<00:00,  2.04it/s]"
          ]
        },
        {
          "metadata": {
            "tags": null
          },
          "name": "stdout",
          "output_type": "stream",
          "text": [
            "                   all         30         76      0.765      0.634      0.716      0.493\n"
          ]
        },
        {
          "metadata": {
            "tags": null
          },
          "name": "stderr",
          "output_type": "stream",
          "text": [
            "\n"
          ]
        },
        {
          "metadata": {
            "tags": null
          },
          "name": "stdout",
          "output_type": "stream",
          "text": [
            "\n",
            "      Epoch    GPU_mem   box_loss   cls_loss   dfl_loss  Instances       Size\n"
          ]
        },
        {
          "metadata": {
            "tags": null
          },
          "name": "stderr",
          "output_type": "stream",
          "text": [
            "     14/100      2.37G      1.237      1.301      1.373         57        640: 100%|██████████| 169/169 [01:21<00:00,  2.08it/s]\n",
            "                 Class     Images  Instances      Box(P          R      mAP50  mAP50-95): 100%|██████████| 1/1 [00:00<00:00,  2.61it/s]"
          ]
        },
        {
          "metadata": {
            "tags": null
          },
          "name": "stdout",
          "output_type": "stream",
          "text": [
            "                   all         30         76      0.594      0.681      0.631      0.463\n"
          ]
        },
        {
          "metadata": {
            "tags": null
          },
          "name": "stderr",
          "output_type": "stream",
          "text": [
            "\n"
          ]
        },
        {
          "metadata": {
            "tags": null
          },
          "name": "stdout",
          "output_type": "stream",
          "text": [
            "\n",
            "      Epoch    GPU_mem   box_loss   cls_loss   dfl_loss  Instances       Size\n"
          ]
        },
        {
          "metadata": {
            "tags": null
          },
          "name": "stderr",
          "output_type": "stream",
          "text": [
            "     15/100      2.37G      1.225      1.278      1.355         51        640: 100%|██████████| 169/169 [01:20<00:00,  2.10it/s]\n",
            "                 Class     Images  Instances      Box(P          R      mAP50  mAP50-95): 100%|██████████| 1/1 [00:00<00:00,  1.68it/s]"
          ]
        },
        {
          "metadata": {
            "tags": null
          },
          "name": "stdout",
          "output_type": "stream",
          "text": [
            "                   all         30         76      0.717      0.671      0.677      0.519\n"
          ]
        },
        {
          "metadata": {
            "tags": null
          },
          "name": "stderr",
          "output_type": "stream",
          "text": [
            "\n"
          ]
        },
        {
          "metadata": {
            "tags": null
          },
          "name": "stdout",
          "output_type": "stream",
          "text": [
            "\n",
            "      Epoch    GPU_mem   box_loss   cls_loss   dfl_loss  Instances       Size\n"
          ]
        },
        {
          "metadata": {
            "tags": null
          },
          "name": "stderr",
          "output_type": "stream",
          "text": [
            "     16/100      2.36G      1.209      1.242      1.337         64        640: 100%|██████████| 169/169 [01:19<00:00,  2.14it/s]\n",
            "                 Class     Images  Instances      Box(P          R      mAP50  mAP50-95): 100%|██████████| 1/1 [00:00<00:00,  1.56it/s]"
          ]
        },
        {
          "metadata": {
            "tags": null
          },
          "name": "stdout",
          "output_type": "stream",
          "text": [
            "                   all         30         76      0.728      0.595      0.624      0.476\n"
          ]
        },
        {
          "metadata": {
            "tags": null
          },
          "name": "stderr",
          "output_type": "stream",
          "text": [
            "\n"
          ]
        },
        {
          "metadata": {
            "tags": null
          },
          "name": "stdout",
          "output_type": "stream",
          "text": [
            "\n",
            "      Epoch    GPU_mem   box_loss   cls_loss   dfl_loss  Instances       Size\n"
          ]
        },
        {
          "metadata": {
            "tags": null
          },
          "name": "stderr",
          "output_type": "stream",
          "text": [
            "     17/100      2.37G      1.195      1.235      1.337         71        640: 100%|██████████| 169/169 [01:20<00:00,  2.09it/s]\n",
            "                 Class     Images  Instances      Box(P          R      mAP50  mAP50-95): 100%|██████████| 1/1 [00:00<00:00,  2.54it/s]"
          ]
        },
        {
          "metadata": {
            "tags": null
          },
          "name": "stdout",
          "output_type": "stream",
          "text": [
            "                   all         30         76      0.682      0.656      0.673      0.509\n"
          ]
        },
        {
          "metadata": {
            "tags": null
          },
          "name": "stderr",
          "output_type": "stream",
          "text": [
            "\n"
          ]
        },
        {
          "metadata": {
            "tags": null
          },
          "name": "stdout",
          "output_type": "stream",
          "text": [
            "\n",
            "      Epoch    GPU_mem   box_loss   cls_loss   dfl_loss  Instances       Size\n"
          ]
        },
        {
          "metadata": {
            "tags": null
          },
          "name": "stderr",
          "output_type": "stream",
          "text": [
            "     18/100      2.37G      1.194       1.23      1.339         79        640: 100%|██████████| 169/169 [01:20<00:00,  2.10it/s]\n",
            "                 Class     Images  Instances      Box(P          R      mAP50  mAP50-95): 100%|██████████| 1/1 [00:00<00:00,  2.10it/s]"
          ]
        },
        {
          "metadata": {
            "tags": null
          },
          "name": "stdout",
          "output_type": "stream",
          "text": [
            "                   all         30         76      0.619      0.598      0.607      0.458\n"
          ]
        },
        {
          "metadata": {
            "tags": null
          },
          "name": "stderr",
          "output_type": "stream",
          "text": [
            "\n"
          ]
        },
        {
          "metadata": {
            "tags": null
          },
          "name": "stdout",
          "output_type": "stream",
          "text": [
            "\n",
            "      Epoch    GPU_mem   box_loss   cls_loss   dfl_loss  Instances       Size\n"
          ]
        },
        {
          "metadata": {
            "tags": null
          },
          "name": "stderr",
          "output_type": "stream",
          "text": [
            "     19/100      2.36G      1.187      1.205      1.323         73        640: 100%|██████████| 169/169 [01:18<00:00,  2.15it/s]\n",
            "                 Class     Images  Instances      Box(P          R      mAP50  mAP50-95): 100%|██████████| 1/1 [00:00<00:00,  1.30it/s]"
          ]
        },
        {
          "metadata": {
            "tags": null
          },
          "name": "stdout",
          "output_type": "stream",
          "text": [
            "                   all         30         76      0.813      0.634      0.673       0.51\n"
          ]
        },
        {
          "metadata": {
            "tags": null
          },
          "name": "stderr",
          "output_type": "stream",
          "text": [
            "\n"
          ]
        },
        {
          "metadata": {
            "tags": null
          },
          "name": "stdout",
          "output_type": "stream",
          "text": [
            "\n",
            "      Epoch    GPU_mem   box_loss   cls_loss   dfl_loss  Instances       Size\n"
          ]
        },
        {
          "metadata": {
            "tags": null
          },
          "name": "stderr",
          "output_type": "stream",
          "text": [
            "     20/100      2.37G      1.164      1.192      1.312         62        640: 100%|██████████| 169/169 [01:19<00:00,  2.12it/s]\n",
            "                 Class     Images  Instances      Box(P          R      mAP50  mAP50-95): 100%|██████████| 1/1 [00:00<00:00,  1.97it/s]"
          ]
        },
        {
          "metadata": {
            "tags": null
          },
          "name": "stdout",
          "output_type": "stream",
          "text": [
            "                   all         30         76      0.755      0.712      0.677      0.522\n"
          ]
        },
        {
          "metadata": {
            "tags": null
          },
          "name": "stderr",
          "output_type": "stream",
          "text": [
            "\n"
          ]
        },
        {
          "metadata": {
            "tags": null
          },
          "name": "stdout",
          "output_type": "stream",
          "text": [
            "\n",
            "      Epoch    GPU_mem   box_loss   cls_loss   dfl_loss  Instances       Size\n"
          ]
        },
        {
          "metadata": {
            "tags": null
          },
          "name": "stderr",
          "output_type": "stream",
          "text": [
            "     21/100      2.37G       1.17      1.197      1.315         80        640: 100%|██████████| 169/169 [01:21<00:00,  2.07it/s]\n",
            "                 Class     Images  Instances      Box(P          R      mAP50  mAP50-95): 100%|██████████| 1/1 [00:00<00:00,  1.92it/s]"
          ]
        },
        {
          "metadata": {
            "tags": null
          },
          "name": "stdout",
          "output_type": "stream",
          "text": [
            "                   all         30         76      0.623      0.622      0.604      0.468\n"
          ]
        },
        {
          "metadata": {
            "tags": null
          },
          "name": "stderr",
          "output_type": "stream",
          "text": [
            "\n"
          ]
        },
        {
          "metadata": {
            "tags": null
          },
          "name": "stdout",
          "output_type": "stream",
          "text": [
            "\n",
            "      Epoch    GPU_mem   box_loss   cls_loss   dfl_loss  Instances       Size\n"
          ]
        },
        {
          "metadata": {
            "tags": null
          },
          "name": "stderr",
          "output_type": "stream",
          "text": [
            "     22/100      2.37G      1.159      1.174      1.306         67        640: 100%|██████████| 169/169 [01:20<00:00,  2.10it/s]\n",
            "                 Class     Images  Instances      Box(P          R      mAP50  mAP50-95): 100%|██████████| 1/1 [00:00<00:00,  1.19it/s]"
          ]
        },
        {
          "metadata": {
            "tags": null
          },
          "name": "stdout",
          "output_type": "stream",
          "text": [
            "                   all         30         76      0.678       0.62      0.643        0.5\n"
          ]
        },
        {
          "metadata": {
            "tags": null
          },
          "name": "stderr",
          "output_type": "stream",
          "text": [
            "\n"
          ]
        },
        {
          "metadata": {
            "tags": null
          },
          "name": "stdout",
          "output_type": "stream",
          "text": [
            "\n",
            "      Epoch    GPU_mem   box_loss   cls_loss   dfl_loss  Instances       Size\n"
          ]
        },
        {
          "metadata": {
            "tags": null
          },
          "name": "stderr",
          "output_type": "stream",
          "text": [
            "     23/100      2.37G      1.159      1.176      1.303         73        640: 100%|██████████| 169/169 [01:19<00:00,  2.12it/s]\n",
            "                 Class     Images  Instances      Box(P          R      mAP50  mAP50-95): 100%|██████████| 1/1 [00:00<00:00,  1.73it/s]"
          ]
        },
        {
          "metadata": {
            "tags": null
          },
          "name": "stdout",
          "output_type": "stream",
          "text": [
            "                   all         30         76      0.607       0.72      0.679      0.518\n"
          ]
        },
        {
          "metadata": {
            "tags": null
          },
          "name": "stderr",
          "output_type": "stream",
          "text": [
            "\n"
          ]
        },
        {
          "metadata": {
            "tags": null
          },
          "name": "stdout",
          "output_type": "stream",
          "text": [
            "\n",
            "      Epoch    GPU_mem   box_loss   cls_loss   dfl_loss  Instances       Size\n"
          ]
        },
        {
          "metadata": {
            "tags": null
          },
          "name": "stderr",
          "output_type": "stream",
          "text": [
            "     24/100      2.37G      1.132      1.152      1.287         77        640: 100%|██████████| 169/169 [01:21<00:00,  2.08it/s]\n",
            "                 Class     Images  Instances      Box(P          R      mAP50  mAP50-95): 100%|██████████| 1/1 [00:00<00:00,  2.09it/s]"
          ]
        },
        {
          "metadata": {
            "tags": null
          },
          "name": "stdout",
          "output_type": "stream",
          "text": [
            "                   all         30         76      0.609      0.609      0.616      0.481\n"
          ]
        },
        {
          "metadata": {
            "tags": null
          },
          "name": "stderr",
          "output_type": "stream",
          "text": [
            "\n"
          ]
        },
        {
          "metadata": {
            "tags": null
          },
          "name": "stdout",
          "output_type": "stream",
          "text": [
            "\n",
            "      Epoch    GPU_mem   box_loss   cls_loss   dfl_loss  Instances       Size\n"
          ]
        },
        {
          "metadata": {
            "tags": null
          },
          "name": "stderr",
          "output_type": "stream",
          "text": [
            "     25/100      2.37G      1.114      1.111      1.272         70        640: 100%|██████████| 169/169 [01:21<00:00,  2.07it/s]\n",
            "                 Class     Images  Instances      Box(P          R      mAP50  mAP50-95): 100%|██████████| 1/1 [00:00<00:00,  3.29it/s]"
          ]
        },
        {
          "metadata": {
            "tags": null
          },
          "name": "stdout",
          "output_type": "stream",
          "text": [
            "                   all         30         76      0.789      0.683      0.698      0.543\n"
          ]
        },
        {
          "metadata": {
            "tags": null
          },
          "name": "stderr",
          "output_type": "stream",
          "text": [
            "\n"
          ]
        },
        {
          "metadata": {
            "tags": null
          },
          "name": "stdout",
          "output_type": "stream",
          "text": [
            "\n",
            "      Epoch    GPU_mem   box_loss   cls_loss   dfl_loss  Instances       Size\n"
          ]
        },
        {
          "metadata": {
            "tags": null
          },
          "name": "stderr",
          "output_type": "stream",
          "text": [
            "     26/100      2.37G      1.107      1.099      1.271         71        640: 100%|██████████| 169/169 [01:20<00:00,  2.11it/s]\n",
            "                 Class     Images  Instances      Box(P          R      mAP50  mAP50-95): 100%|██████████| 1/1 [00:00<00:00,  1.53it/s]"
          ]
        },
        {
          "metadata": {
            "tags": null
          },
          "name": "stdout",
          "output_type": "stream",
          "text": [
            "                   all         30         76      0.774      0.632      0.697      0.516\n"
          ]
        },
        {
          "metadata": {
            "tags": null
          },
          "name": "stderr",
          "output_type": "stream",
          "text": [
            "\n"
          ]
        },
        {
          "metadata": {
            "tags": null
          },
          "name": "stdout",
          "output_type": "stream",
          "text": [
            "\n",
            "      Epoch    GPU_mem   box_loss   cls_loss   dfl_loss  Instances       Size\n"
          ]
        },
        {
          "metadata": {
            "tags": null
          },
          "name": "stderr",
          "output_type": "stream",
          "text": [
            "     27/100      2.37G      1.097      1.082      1.266         80        640: 100%|██████████| 169/169 [01:20<00:00,  2.10it/s]\n",
            "                 Class     Images  Instances      Box(P          R      mAP50  mAP50-95): 100%|██████████| 1/1 [00:00<00:00,  2.19it/s]"
          ]
        },
        {
          "metadata": {
            "tags": null
          },
          "name": "stdout",
          "output_type": "stream",
          "text": [
            "                   all         30         76      0.766      0.639      0.709      0.536\n"
          ]
        },
        {
          "metadata": {
            "tags": null
          },
          "name": "stderr",
          "output_type": "stream",
          "text": [
            "\n"
          ]
        },
        {
          "metadata": {
            "tags": null
          },
          "name": "stdout",
          "output_type": "stream",
          "text": [
            "\n",
            "      Epoch    GPU_mem   box_loss   cls_loss   dfl_loss  Instances       Size\n"
          ]
        },
        {
          "metadata": {
            "tags": null
          },
          "name": "stderr",
          "output_type": "stream",
          "text": [
            "     28/100      2.37G      1.095      1.088      1.263        109        640: 100%|██████████| 169/169 [01:21<00:00,  2.08it/s]\n",
            "                 Class     Images  Instances      Box(P          R      mAP50  mAP50-95): 100%|██████████| 1/1 [00:00<00:00,  2.18it/s]"
          ]
        },
        {
          "metadata": {
            "tags": null
          },
          "name": "stdout",
          "output_type": "stream",
          "text": [
            "                   all         30         76      0.636      0.659       0.65      0.504\n"
          ]
        },
        {
          "metadata": {
            "tags": null
          },
          "name": "stderr",
          "output_type": "stream",
          "text": [
            "\n"
          ]
        },
        {
          "metadata": {
            "tags": null
          },
          "name": "stdout",
          "output_type": "stream",
          "text": [
            "\n",
            "      Epoch    GPU_mem   box_loss   cls_loss   dfl_loss  Instances       Size\n"
          ]
        },
        {
          "metadata": {
            "tags": null
          },
          "name": "stderr",
          "output_type": "stream",
          "text": [
            "     29/100      2.36G      1.092      1.089      1.267         76        640: 100%|██████████| 169/169 [01:19<00:00,  2.12it/s]\n",
            "                 Class     Images  Instances      Box(P          R      mAP50  mAP50-95): 100%|██████████| 1/1 [00:00<00:00,  1.88it/s]"
          ]
        },
        {
          "metadata": {
            "tags": null
          },
          "name": "stdout",
          "output_type": "stream",
          "text": [
            "                   all         30         76       0.65      0.583      0.605      0.476\n"
          ]
        },
        {
          "metadata": {
            "tags": null
          },
          "name": "stderr",
          "output_type": "stream",
          "text": [
            "\n"
          ]
        },
        {
          "metadata": {
            "tags": null
          },
          "name": "stdout",
          "output_type": "stream",
          "text": [
            "\n",
            "      Epoch    GPU_mem   box_loss   cls_loss   dfl_loss  Instances       Size\n"
          ]
        },
        {
          "metadata": {
            "tags": null
          },
          "name": "stderr",
          "output_type": "stream",
          "text": [
            "     30/100      2.37G      1.087      1.069      1.261         83        640: 100%|██████████| 169/169 [01:18<00:00,  2.16it/s]\n",
            "                 Class     Images  Instances      Box(P          R      mAP50  mAP50-95): 100%|██████████| 1/1 [00:00<00:00,  2.73it/s]"
          ]
        },
        {
          "metadata": {
            "tags": null
          },
          "name": "stdout",
          "output_type": "stream",
          "text": [
            "                   all         30         76      0.709      0.681      0.691      0.523\n"
          ]
        },
        {
          "metadata": {
            "tags": null
          },
          "name": "stderr",
          "output_type": "stream",
          "text": [
            "\n"
          ]
        },
        {
          "metadata": {
            "tags": null
          },
          "name": "stdout",
          "output_type": "stream",
          "text": [
            "\n",
            "      Epoch    GPU_mem   box_loss   cls_loss   dfl_loss  Instances       Size\n"
          ]
        },
        {
          "metadata": {
            "tags": null
          },
          "name": "stderr",
          "output_type": "stream",
          "text": [
            "     31/100      2.34G      1.076      1.059      1.254         64        640: 100%|██████████| 169/169 [01:18<00:00,  2.14it/s]\n",
            "                 Class     Images  Instances      Box(P          R      mAP50  mAP50-95): 100%|██████████| 1/1 [00:00<00:00,  1.87it/s]"
          ]
        },
        {
          "metadata": {
            "tags": null
          },
          "name": "stdout",
          "output_type": "stream",
          "text": [
            "                   all         30         76      0.566       0.61      0.609      0.473\n"
          ]
        },
        {
          "metadata": {
            "tags": null
          },
          "name": "stderr",
          "output_type": "stream",
          "text": [
            "\n"
          ]
        },
        {
          "metadata": {
            "tags": null
          },
          "name": "stdout",
          "output_type": "stream",
          "text": [
            "\n",
            "      Epoch    GPU_mem   box_loss   cls_loss   dfl_loss  Instances       Size\n"
          ]
        },
        {
          "metadata": {
            "tags": null
          },
          "name": "stderr",
          "output_type": "stream",
          "text": [
            "     32/100      2.37G      1.066       1.07      1.247         71        640: 100%|██████████| 169/169 [01:18<00:00,  2.16it/s]\n",
            "                 Class     Images  Instances      Box(P          R      mAP50  mAP50-95): 100%|██████████| 1/1 [00:00<00:00,  1.39it/s]"
          ]
        },
        {
          "metadata": {
            "tags": null
          },
          "name": "stdout",
          "output_type": "stream",
          "text": [
            "                   all         30         76      0.576      0.571      0.588      0.463\n"
          ]
        },
        {
          "metadata": {
            "tags": null
          },
          "name": "stderr",
          "output_type": "stream",
          "text": [
            "\n"
          ]
        },
        {
          "metadata": {
            "tags": null
          },
          "name": "stdout",
          "output_type": "stream",
          "text": [
            "\n",
            "      Epoch    GPU_mem   box_loss   cls_loss   dfl_loss  Instances       Size\n"
          ]
        },
        {
          "metadata": {
            "tags": null
          },
          "name": "stderr",
          "output_type": "stream",
          "text": [
            "     33/100      2.36G      1.068      1.054       1.24         73        640: 100%|██████████| 169/169 [01:18<00:00,  2.16it/s]\n",
            "                 Class     Images  Instances      Box(P          R      mAP50  mAP50-95): 100%|██████████| 1/1 [00:00<00:00,  2.27it/s]"
          ]
        },
        {
          "metadata": {
            "tags": null
          },
          "name": "stdout",
          "output_type": "stream",
          "text": [
            "                   all         30         76      0.709      0.634      0.632      0.482\n"
          ]
        },
        {
          "metadata": {
            "tags": null
          },
          "name": "stderr",
          "output_type": "stream",
          "text": [
            "\n"
          ]
        },
        {
          "metadata": {
            "tags": null
          },
          "name": "stdout",
          "output_type": "stream",
          "text": [
            "\n",
            "      Epoch    GPU_mem   box_loss   cls_loss   dfl_loss  Instances       Size\n"
          ]
        },
        {
          "metadata": {
            "tags": null
          },
          "name": "stderr",
          "output_type": "stream",
          "text": [
            "     34/100      2.37G      1.057      1.053       1.25         90        640: 100%|██████████| 169/169 [01:22<00:00,  2.05it/s]\n",
            "                 Class     Images  Instances      Box(P          R      mAP50  mAP50-95): 100%|██████████| 1/1 [00:00<00:00,  2.51it/s]"
          ]
        },
        {
          "metadata": {
            "tags": null
          },
          "name": "stdout",
          "output_type": "stream",
          "text": [
            "                   all         30         76      0.614      0.702      0.653      0.497\n"
          ]
        },
        {
          "metadata": {
            "tags": null
          },
          "name": "stderr",
          "output_type": "stream",
          "text": [
            "\n"
          ]
        },
        {
          "metadata": {
            "tags": null
          },
          "name": "stdout",
          "output_type": "stream",
          "text": [
            "\n",
            "      Epoch    GPU_mem   box_loss   cls_loss   dfl_loss  Instances       Size\n"
          ]
        },
        {
          "metadata": {
            "tags": null
          },
          "name": "stderr",
          "output_type": "stream",
          "text": [
            "     35/100      2.36G      1.038      1.026      1.228         78        640: 100%|██████████| 169/169 [01:22<00:00,  2.05it/s]\n",
            "                 Class     Images  Instances      Box(P          R      mAP50  mAP50-95): 100%|██████████| 1/1 [00:00<00:00,  1.69it/s]"
          ]
        },
        {
          "metadata": {
            "tags": null
          },
          "name": "stdout",
          "output_type": "stream",
          "text": [
            "                   all         30         76      0.622      0.691      0.655      0.492\n"
          ]
        },
        {
          "metadata": {
            "tags": null
          },
          "name": "stderr",
          "output_type": "stream",
          "text": [
            "\n"
          ]
        },
        {
          "metadata": {
            "tags": null
          },
          "name": "stdout",
          "output_type": "stream",
          "text": [
            "\n",
            "      Epoch    GPU_mem   box_loss   cls_loss   dfl_loss  Instances       Size\n"
          ]
        },
        {
          "metadata": {
            "tags": null
          },
          "name": "stderr",
          "output_type": "stream",
          "text": [
            "     36/100      2.37G       1.04      1.015       1.23         80        640: 100%|██████████| 169/169 [01:19<00:00,  2.12it/s]\n",
            "                 Class     Images  Instances      Box(P          R      mAP50  mAP50-95): 100%|██████████| 1/1 [00:00<00:00,  1.21it/s]"
          ]
        },
        {
          "metadata": {
            "tags": null
          },
          "name": "stdout",
          "output_type": "stream",
          "text": [
            "                   all         30         76      0.783      0.695      0.709       0.54\n"
          ]
        },
        {
          "metadata": {
            "tags": null
          },
          "name": "stderr",
          "output_type": "stream",
          "text": [
            "\n"
          ]
        },
        {
          "metadata": {
            "tags": null
          },
          "name": "stdout",
          "output_type": "stream",
          "text": [
            "\n",
            "      Epoch    GPU_mem   box_loss   cls_loss   dfl_loss  Instances       Size\n"
          ]
        },
        {
          "metadata": {
            "tags": null
          },
          "name": "stderr",
          "output_type": "stream",
          "text": [
            "     37/100      2.34G      1.027      1.012      1.217         85        640: 100%|██████████| 169/169 [01:22<00:00,  2.05it/s]\n",
            "                 Class     Images  Instances      Box(P          R      mAP50  mAP50-95): 100%|██████████| 1/1 [00:00<00:00,  2.64it/s]"
          ]
        },
        {
          "metadata": {
            "tags": null
          },
          "name": "stdout",
          "output_type": "stream",
          "text": [
            "                   all         30         76      0.652      0.598       0.61      0.477\n"
          ]
        },
        {
          "metadata": {
            "tags": null
          },
          "name": "stderr",
          "output_type": "stream",
          "text": [
            "\n"
          ]
        },
        {
          "metadata": {
            "tags": null
          },
          "name": "stdout",
          "output_type": "stream",
          "text": [
            "\n",
            "      Epoch    GPU_mem   box_loss   cls_loss   dfl_loss  Instances       Size\n"
          ]
        },
        {
          "metadata": {
            "tags": null
          },
          "name": "stderr",
          "output_type": "stream",
          "text": [
            "     38/100      2.37G      1.025      1.012      1.217         88        640: 100%|██████████| 169/169 [01:23<00:00,  2.02it/s]\n",
            "                 Class     Images  Instances      Box(P          R      mAP50  mAP50-95): 100%|██████████| 1/1 [00:00<00:00,  1.81it/s]"
          ]
        },
        {
          "metadata": {
            "tags": null
          },
          "name": "stdout",
          "output_type": "stream",
          "text": [
            "                   all         30         76      0.817      0.606      0.664      0.502\n"
          ]
        },
        {
          "metadata": {
            "tags": null
          },
          "name": "stderr",
          "output_type": "stream",
          "text": [
            "\n"
          ]
        },
        {
          "metadata": {
            "tags": null
          },
          "name": "stdout",
          "output_type": "stream",
          "text": [
            "\n",
            "      Epoch    GPU_mem   box_loss   cls_loss   dfl_loss  Instances       Size\n"
          ]
        },
        {
          "metadata": {
            "tags": null
          },
          "name": "stderr",
          "output_type": "stream",
          "text": [
            "     39/100      2.36G      1.024     0.9966      1.218         64        640: 100%|██████████| 169/169 [01:23<00:00,  2.02it/s]\n",
            "                 Class     Images  Instances      Box(P          R      mAP50  mAP50-95): 100%|██████████| 1/1 [00:00<00:00,  2.12it/s]"
          ]
        },
        {
          "metadata": {
            "tags": null
          },
          "name": "stdout",
          "output_type": "stream",
          "text": [
            "                   all         30         76      0.678      0.705      0.679      0.513\n"
          ]
        },
        {
          "metadata": {
            "tags": null
          },
          "name": "stderr",
          "output_type": "stream",
          "text": [
            "\n"
          ]
        },
        {
          "metadata": {
            "tags": null
          },
          "name": "stdout",
          "output_type": "stream",
          "text": [
            "\n",
            "      Epoch    GPU_mem   box_loss   cls_loss   dfl_loss  Instances       Size\n"
          ]
        },
        {
          "metadata": {
            "tags": null
          },
          "name": "stderr",
          "output_type": "stream",
          "text": [
            "     40/100      2.34G       1.02     0.9794      1.211         89        640: 100%|██████████| 169/169 [01:21<00:00,  2.06it/s]\n",
            "                 Class     Images  Instances      Box(P          R      mAP50  mAP50-95): 100%|██████████| 1/1 [00:00<00:00,  1.71it/s]"
          ]
        },
        {
          "metadata": {
            "tags": null
          },
          "name": "stdout",
          "output_type": "stream",
          "text": [
            "                   all         30         76      0.649      0.618      0.631      0.473\n"
          ]
        },
        {
          "metadata": {
            "tags": null
          },
          "name": "stderr",
          "output_type": "stream",
          "text": [
            "\n"
          ]
        },
        {
          "metadata": {
            "tags": null
          },
          "name": "stdout",
          "output_type": "stream",
          "text": [
            "\n",
            "      Epoch    GPU_mem   box_loss   cls_loss   dfl_loss  Instances       Size\n"
          ]
        },
        {
          "metadata": {
            "tags": null
          },
          "name": "stderr",
          "output_type": "stream",
          "text": [
            "     41/100      2.37G      1.009     0.9894       1.21         53        640: 100%|██████████| 169/169 [01:21<00:00,  2.06it/s]\n",
            "                 Class     Images  Instances      Box(P          R      mAP50  mAP50-95): 100%|██████████| 1/1 [00:00<00:00,  2.07it/s]"
          ]
        },
        {
          "metadata": {
            "tags": null
          },
          "name": "stdout",
          "output_type": "stream",
          "text": [
            "                   all         30         76      0.649       0.67      0.627      0.477\n"
          ]
        },
        {
          "metadata": {
            "tags": null
          },
          "name": "stderr",
          "output_type": "stream",
          "text": [
            "\n"
          ]
        },
        {
          "metadata": {
            "tags": null
          },
          "name": "stdout",
          "output_type": "stream",
          "text": [
            "\n",
            "      Epoch    GPU_mem   box_loss   cls_loss   dfl_loss  Instances       Size\n"
          ]
        },
        {
          "metadata": {
            "tags": null
          },
          "name": "stderr",
          "output_type": "stream",
          "text": [
            "     42/100      2.37G      1.002     0.9709      1.211         77        640: 100%|██████████| 169/169 [01:20<00:00,  2.11it/s]\n",
            "                 Class     Images  Instances      Box(P          R      mAP50  mAP50-95): 100%|██████████| 1/1 [00:00<00:00,  1.99it/s]"
          ]
        },
        {
          "metadata": {
            "tags": null
          },
          "name": "stdout",
          "output_type": "stream",
          "text": [
            "                   all         30         76      0.665      0.632      0.631      0.485\n"
          ]
        },
        {
          "metadata": {
            "tags": null
          },
          "name": "stderr",
          "output_type": "stream",
          "text": [
            "\n"
          ]
        },
        {
          "metadata": {
            "tags": null
          },
          "name": "stdout",
          "output_type": "stream",
          "text": [
            "\n",
            "      Epoch    GPU_mem   box_loss   cls_loss   dfl_loss  Instances       Size\n"
          ]
        },
        {
          "metadata": {
            "tags": null
          },
          "name": "stderr",
          "output_type": "stream",
          "text": [
            "     43/100      2.37G     0.9933     0.9708      1.207         66        640: 100%|██████████| 169/169 [01:21<00:00,  2.08it/s]\n",
            "                 Class     Images  Instances      Box(P          R      mAP50  mAP50-95): 100%|██████████| 1/1 [00:00<00:00,  2.37it/s]"
          ]
        },
        {
          "metadata": {
            "tags": null
          },
          "name": "stdout",
          "output_type": "stream",
          "text": [
            "                   all         30         76      0.671      0.668      0.639      0.486\n"
          ]
        },
        {
          "metadata": {
            "tags": null
          },
          "name": "stderr",
          "output_type": "stream",
          "text": [
            "\n"
          ]
        },
        {
          "metadata": {
            "tags": null
          },
          "name": "stdout",
          "output_type": "stream",
          "text": [
            "\n",
            "      Epoch    GPU_mem   box_loss   cls_loss   dfl_loss  Instances       Size\n"
          ]
        },
        {
          "metadata": {
            "tags": null
          },
          "name": "stderr",
          "output_type": "stream",
          "text": [
            "     44/100      2.38G     0.9971     0.9694      1.207         77        640: 100%|██████████| 169/169 [01:18<00:00,  2.16it/s]\n",
            "                 Class     Images  Instances      Box(P          R      mAP50  mAP50-95): 100%|██████████| 1/1 [00:00<00:00,  1.54it/s]"
          ]
        },
        {
          "metadata": {
            "tags": null
          },
          "name": "stdout",
          "output_type": "stream",
          "text": [
            "                   all         30         76        0.7      0.655      0.675      0.524\n"
          ]
        },
        {
          "metadata": {
            "tags": null
          },
          "name": "stderr",
          "output_type": "stream",
          "text": [
            "\n"
          ]
        },
        {
          "metadata": {
            "tags": null
          },
          "name": "stdout",
          "output_type": "stream",
          "text": [
            "\n",
            "      Epoch    GPU_mem   box_loss   cls_loss   dfl_loss  Instances       Size\n"
          ]
        },
        {
          "metadata": {
            "tags": null
          },
          "name": "stderr",
          "output_type": "stream",
          "text": [
            "     45/100      2.36G     0.9818     0.9612      1.198         73        640: 100%|██████████| 169/169 [01:19<00:00,  2.13it/s]\n",
            "                 Class     Images  Instances      Box(P          R      mAP50  mAP50-95): 100%|██████████| 1/1 [00:00<00:00,  1.64it/s]"
          ]
        },
        {
          "metadata": {
            "tags": null
          },
          "name": "stdout",
          "output_type": "stream",
          "text": [
            "                   all         30         76      0.611      0.672      0.662      0.501\n"
          ]
        },
        {
          "metadata": {
            "tags": null
          },
          "name": "stderr",
          "output_type": "stream",
          "text": [
            "\n"
          ]
        },
        {
          "metadata": {
            "tags": null
          },
          "name": "stdout",
          "output_type": "stream",
          "text": [
            "\n",
            "      Epoch    GPU_mem   box_loss   cls_loss   dfl_loss  Instances       Size\n"
          ]
        },
        {
          "metadata": {
            "tags": null
          },
          "name": "stderr",
          "output_type": "stream",
          "text": [
            "     46/100      2.38G     0.9838      0.947      1.195         64        640: 100%|██████████| 169/169 [01:19<00:00,  2.12it/s]\n",
            "                 Class     Images  Instances      Box(P          R      mAP50  mAP50-95): 100%|██████████| 1/1 [00:00<00:00,  1.65it/s]"
          ]
        },
        {
          "metadata": {
            "tags": null
          },
          "name": "stdout",
          "output_type": "stream",
          "text": [
            "                   all         30         76      0.628      0.683      0.616      0.467\n"
          ]
        },
        {
          "metadata": {
            "tags": null
          },
          "name": "stderr",
          "output_type": "stream",
          "text": [
            "\n"
          ]
        },
        {
          "metadata": {
            "tags": null
          },
          "name": "stdout",
          "output_type": "stream",
          "text": [
            "\n",
            "      Epoch    GPU_mem   box_loss   cls_loss   dfl_loss  Instances       Size\n"
          ]
        },
        {
          "output_type": "stream",
          "name": "stderr",
          "text": [
            "     47/100      2.37G     0.9686     0.9368      1.181         71        640: 100%|██████████| 169/169 [01:20<00:00,  2.11it/s]\n",
            "                 Class     Images  Instances      Box(P          R      mAP50  mAP50-95): 100%|██████████| 1/1 [00:00<00:00,  1.69it/s]"
          ]
        },
        {
          "output_type": "stream",
          "name": "stdout",
          "text": [
            "                   all         30         76      0.704      0.695      0.691      0.496\n"
          ]
        },
        {
          "output_type": "stream",
          "name": "stderr",
          "text": [
            "\n"
          ]
        },
        {
          "output_type": "stream",
          "name": "stdout",
          "text": [
            "\n",
            "      Epoch    GPU_mem   box_loss   cls_loss   dfl_loss  Instances       Size\n"
          ]
        },
        {
          "output_type": "stream",
          "name": "stderr",
          "text": [
            "     48/100      2.34G     0.9664     0.9317       1.18         92        640: 100%|██████████| 169/169 [01:17<00:00,  2.18it/s]\n",
            "                 Class     Images  Instances      Box(P          R      mAP50  mAP50-95): 100%|██████████| 1/1 [00:00<00:00,  1.68it/s]"
          ]
        },
        {
          "output_type": "stream",
          "name": "stdout",
          "text": [
            "                   all         30         76      0.579      0.646      0.591      0.481\n"
          ]
        },
        {
          "output_type": "stream",
          "name": "stderr",
          "text": [
            "\n"
          ]
        },
        {
          "output_type": "stream",
          "name": "stdout",
          "text": [
            "\n",
            "      Epoch    GPU_mem   box_loss   cls_loss   dfl_loss  Instances       Size\n"
          ]
        },
        {
          "output_type": "stream",
          "name": "stderr",
          "text": [
            "     49/100      2.36G     0.9635     0.9294      1.182         80        640: 100%|██████████| 169/169 [01:20<00:00,  2.10it/s]\n",
            "                 Class     Images  Instances      Box(P          R      mAP50  mAP50-95): 100%|██████████| 1/1 [00:00<00:00,  1.49it/s]"
          ]
        },
        {
          "output_type": "stream",
          "name": "stdout",
          "text": [
            "                   all         30         76      0.728       0.61      0.626      0.474\n"
          ]
        },
        {
          "output_type": "stream",
          "name": "stderr",
          "text": [
            "\n"
          ]
        },
        {
          "output_type": "stream",
          "name": "stdout",
          "text": [
            "\n",
            "      Epoch    GPU_mem   box_loss   cls_loss   dfl_loss  Instances       Size\n"
          ]
        },
        {
          "output_type": "stream",
          "name": "stderr",
          "text": [
            "     50/100      2.37G     0.9507     0.9061      1.176         60        640: 100%|██████████| 169/169 [01:20<00:00,  2.10it/s]\n",
            "                 Class     Images  Instances      Box(P          R      mAP50  mAP50-95): 100%|██████████| 1/1 [00:00<00:00,  1.75it/s]"
          ]
        },
        {
          "output_type": "stream",
          "name": "stdout",
          "text": [
            "                   all         30         76      0.593      0.646      0.608      0.482\n"
          ]
        },
        {
          "output_type": "stream",
          "name": "stderr",
          "text": [
            "\n"
          ]
        },
        {
          "output_type": "stream",
          "name": "stdout",
          "text": [
            "\n",
            "      Epoch    GPU_mem   box_loss   cls_loss   dfl_loss  Instances       Size\n"
          ]
        },
        {
          "output_type": "stream",
          "name": "stderr",
          "text": [
            "     51/100      2.37G     0.9522     0.9087      1.175         79        640: 100%|██████████| 169/169 [01:20<00:00,  2.11it/s]\n",
            "                 Class     Images  Instances      Box(P          R      mAP50  mAP50-95): 100%|██████████| 1/1 [00:00<00:00,  1.85it/s]"
          ]
        },
        {
          "output_type": "stream",
          "name": "stdout",
          "text": [
            "                   all         30         76      0.622      0.706       0.61       0.47\n"
          ]
        },
        {
          "output_type": "stream",
          "name": "stderr",
          "text": [
            "\n"
          ]
        },
        {
          "output_type": "stream",
          "name": "stdout",
          "text": [
            "\n",
            "      Epoch    GPU_mem   box_loss   cls_loss   dfl_loss  Instances       Size\n"
          ]
        },
        {
          "output_type": "stream",
          "name": "stderr",
          "text": [
            "     52/100      2.36G     0.9507     0.9068      1.171         91        640: 100%|██████████| 169/169 [01:19<00:00,  2.12it/s]\n",
            "                 Class     Images  Instances      Box(P          R      mAP50  mAP50-95): 100%|██████████| 1/1 [00:00<00:00,  2.05it/s]"
          ]
        },
        {
          "output_type": "stream",
          "name": "stdout",
          "text": [
            "                   all         30         76      0.585      0.707      0.617      0.477\n"
          ]
        },
        {
          "output_type": "stream",
          "name": "stderr",
          "text": [
            "\n"
          ]
        },
        {
          "output_type": "stream",
          "name": "stdout",
          "text": [
            "\n",
            "      Epoch    GPU_mem   box_loss   cls_loss   dfl_loss  Instances       Size\n"
          ]
        },
        {
          "output_type": "stream",
          "name": "stderr",
          "text": [
            "     53/100      2.36G     0.9506     0.9011      1.175         67        640: 100%|██████████| 169/169 [01:17<00:00,  2.17it/s]\n",
            "                 Class     Images  Instances      Box(P          R      mAP50  mAP50-95): 100%|██████████| 1/1 [00:00<00:00,  1.29it/s]"
          ]
        },
        {
          "output_type": "stream",
          "name": "stdout",
          "text": [
            "                   all         30         76      0.662      0.634      0.629      0.489\n"
          ]
        },
        {
          "output_type": "stream",
          "name": "stderr",
          "text": [
            "\n"
          ]
        },
        {
          "output_type": "stream",
          "name": "stdout",
          "text": [
            "\n",
            "      Epoch    GPU_mem   box_loss   cls_loss   dfl_loss  Instances       Size\n"
          ]
        },
        {
          "output_type": "stream",
          "name": "stderr",
          "text": [
            "     54/100      2.36G     0.9261     0.8844      1.159         97        640: 100%|██████████| 169/169 [01:16<00:00,  2.20it/s]\n",
            "                 Class     Images  Instances      Box(P          R      mAP50  mAP50-95): 100%|██████████| 1/1 [00:00<00:00,  1.73it/s]"
          ]
        },
        {
          "output_type": "stream",
          "name": "stdout",
          "text": [
            "                   all         30         76      0.659      0.683      0.676      0.521\n"
          ]
        },
        {
          "output_type": "stream",
          "name": "stderr",
          "text": [
            "\n"
          ]
        },
        {
          "output_type": "stream",
          "name": "stdout",
          "text": [
            "\n",
            "      Epoch    GPU_mem   box_loss   cls_loss   dfl_loss  Instances       Size\n"
          ]
        },
        {
          "output_type": "stream",
          "name": "stderr",
          "text": [
            "     55/100      2.37G     0.9366      0.888       1.16         90        640: 100%|██████████| 169/169 [01:18<00:00,  2.15it/s]\n",
            "                 Class     Images  Instances      Box(P          R      mAP50  mAP50-95): 100%|██████████| 1/1 [00:00<00:00,  2.12it/s]"
          ]
        },
        {
          "output_type": "stream",
          "name": "stdout",
          "text": [
            "                   all         30         76      0.633      0.763      0.695      0.538\n"
          ]
        },
        {
          "output_type": "stream",
          "name": "stderr",
          "text": [
            "\n"
          ]
        },
        {
          "output_type": "stream",
          "name": "stdout",
          "text": [
            "\n",
            "      Epoch    GPU_mem   box_loss   cls_loss   dfl_loss  Instances       Size\n"
          ]
        },
        {
          "output_type": "stream",
          "name": "stderr",
          "text": [
            "     56/100      2.37G     0.9284     0.8953      1.163         74        640: 100%|██████████| 169/169 [01:20<00:00,  2.11it/s]\n",
            "                 Class     Images  Instances      Box(P          R      mAP50  mAP50-95): 100%|██████████| 1/1 [00:00<00:00,  2.14it/s]"
          ]
        },
        {
          "output_type": "stream",
          "name": "stdout",
          "text": [
            "                   all         30         76      0.572      0.725       0.62      0.492\n"
          ]
        },
        {
          "output_type": "stream",
          "name": "stderr",
          "text": [
            "\n"
          ]
        },
        {
          "output_type": "stream",
          "name": "stdout",
          "text": [
            "\n",
            "      Epoch    GPU_mem   box_loss   cls_loss   dfl_loss  Instances       Size\n"
          ]
        },
        {
          "output_type": "stream",
          "name": "stderr",
          "text": [
            "     57/100      2.37G     0.9107     0.8646      1.145         55        640: 100%|██████████| 169/169 [01:17<00:00,  2.17it/s]\n",
            "                 Class     Images  Instances      Box(P          R      mAP50  mAP50-95): 100%|██████████| 1/1 [00:00<00:00,  1.11it/s]"
          ]
        },
        {
          "output_type": "stream",
          "name": "stdout",
          "text": [
            "                   all         30         76      0.591      0.715       0.64      0.495\n"
          ]
        },
        {
          "output_type": "stream",
          "name": "stderr",
          "text": [
            "\n"
          ]
        },
        {
          "output_type": "stream",
          "name": "stdout",
          "text": [
            "\n",
            "      Epoch    GPU_mem   box_loss   cls_loss   dfl_loss  Instances       Size\n"
          ]
        },
        {
          "output_type": "stream",
          "name": "stderr",
          "text": [
            "     58/100      2.34G     0.9052     0.8638      1.152         76        640: 100%|██████████| 169/169 [01:16<00:00,  2.21it/s]\n",
            "                 Class     Images  Instances      Box(P          R      mAP50  mAP50-95): 100%|██████████| 1/1 [00:00<00:00,  2.27it/s]"
          ]
        },
        {
          "output_type": "stream",
          "name": "stdout",
          "text": [
            "                   all         30         76      0.617      0.705      0.651      0.505\n"
          ]
        },
        {
          "output_type": "stream",
          "name": "stderr",
          "text": [
            "\n"
          ]
        },
        {
          "output_type": "stream",
          "name": "stdout",
          "text": [
            "\n",
            "      Epoch    GPU_mem   box_loss   cls_loss   dfl_loss  Instances       Size\n"
          ]
        },
        {
          "output_type": "stream",
          "name": "stderr",
          "text": [
            "     59/100      2.37G     0.9141     0.8707      1.143         83        640: 100%|██████████| 169/169 [01:20<00:00,  2.10it/s]\n",
            "                 Class     Images  Instances      Box(P          R      mAP50  mAP50-95): 100%|██████████| 1/1 [00:00<00:00,  2.04it/s]"
          ]
        },
        {
          "output_type": "stream",
          "name": "stdout",
          "text": [
            "                   all         30         76      0.598       0.69      0.625       0.48\n"
          ]
        },
        {
          "output_type": "stream",
          "name": "stderr",
          "text": [
            "\n"
          ]
        },
        {
          "output_type": "stream",
          "name": "stdout",
          "text": [
            "\n",
            "      Epoch    GPU_mem   box_loss   cls_loss   dfl_loss  Instances       Size\n"
          ]
        },
        {
          "output_type": "stream",
          "name": "stderr",
          "text": [
            "     60/100      2.37G     0.9106     0.8612      1.145         90        640: 100%|██████████| 169/169 [01:22<00:00,  2.06it/s]\n",
            "                 Class     Images  Instances      Box(P          R      mAP50  mAP50-95): 100%|██████████| 1/1 [00:00<00:00,  1.80it/s]"
          ]
        },
        {
          "output_type": "stream",
          "name": "stdout",
          "text": [
            "                   all         30         76       0.62      0.659      0.641      0.501\n"
          ]
        },
        {
          "output_type": "stream",
          "name": "stderr",
          "text": [
            "\n"
          ]
        },
        {
          "output_type": "stream",
          "name": "stdout",
          "text": [
            "\n",
            "      Epoch    GPU_mem   box_loss   cls_loss   dfl_loss  Instances       Size\n"
          ]
        },
        {
          "output_type": "stream",
          "name": "stderr",
          "text": [
            "     61/100      2.36G     0.9048      0.856      1.144         62        640: 100%|██████████| 169/169 [01:21<00:00,  2.07it/s]\n",
            "                 Class     Images  Instances      Box(P          R      mAP50  mAP50-95): 100%|██████████| 1/1 [00:00<00:00,  1.44it/s]"
          ]
        },
        {
          "output_type": "stream",
          "name": "stdout",
          "text": [
            "                   all         30         76       0.63      0.695      0.651      0.508\n"
          ]
        },
        {
          "output_type": "stream",
          "name": "stderr",
          "text": [
            "\n"
          ]
        },
        {
          "output_type": "stream",
          "name": "stdout",
          "text": [
            "\n",
            "      Epoch    GPU_mem   box_loss   cls_loss   dfl_loss  Instances       Size\n"
          ]
        },
        {
          "output_type": "stream",
          "name": "stderr",
          "text": [
            "     62/100      2.37G     0.8986     0.8535      1.143         60        640: 100%|██████████| 169/169 [01:20<00:00,  2.09it/s]\n",
            "                 Class     Images  Instances      Box(P          R      mAP50  mAP50-95): 100%|██████████| 1/1 [00:00<00:00,  1.13it/s]"
          ]
        },
        {
          "output_type": "stream",
          "name": "stdout",
          "text": [
            "                   all         30         76      0.609      0.634      0.629      0.485\n"
          ]
        },
        {
          "output_type": "stream",
          "name": "stderr",
          "text": [
            "\n"
          ]
        },
        {
          "output_type": "stream",
          "name": "stdout",
          "text": [
            "\n",
            "      Epoch    GPU_mem   box_loss   cls_loss   dfl_loss  Instances       Size\n"
          ]
        },
        {
          "output_type": "stream",
          "name": "stderr",
          "text": [
            "     63/100      2.36G     0.8954     0.8468      1.144         78        640: 100%|██████████| 169/169 [01:21<00:00,  2.08it/s]\n",
            "                 Class     Images  Instances      Box(P          R      mAP50  mAP50-95): 100%|██████████| 1/1 [00:00<00:00,  1.80it/s]"
          ]
        },
        {
          "output_type": "stream",
          "name": "stdout",
          "text": [
            "                   all         30         76      0.583      0.693      0.613      0.484\n"
          ]
        },
        {
          "output_type": "stream",
          "name": "stderr",
          "text": [
            "\n"
          ]
        },
        {
          "output_type": "stream",
          "name": "stdout",
          "text": [
            "\n",
            "      Epoch    GPU_mem   box_loss   cls_loss   dfl_loss  Instances       Size\n"
          ]
        },
        {
          "output_type": "stream",
          "name": "stderr",
          "text": [
            "     64/100      2.37G     0.8974     0.8445      1.136         94        640: 100%|██████████| 169/169 [01:19<00:00,  2.12it/s]\n",
            "                 Class     Images  Instances      Box(P          R      mAP50  mAP50-95): 100%|██████████| 1/1 [00:00<00:00,  2.08it/s]"
          ]
        },
        {
          "output_type": "stream",
          "name": "stdout",
          "text": [
            "                   all         30         76      0.593      0.693      0.641       0.51\n"
          ]
        },
        {
          "output_type": "stream",
          "name": "stderr",
          "text": [
            "\n"
          ]
        },
        {
          "output_type": "stream",
          "name": "stdout",
          "text": [
            "\n",
            "      Epoch    GPU_mem   box_loss   cls_loss   dfl_loss  Instances       Size\n"
          ]
        },
        {
          "output_type": "stream",
          "name": "stderr",
          "text": [
            "     65/100      2.37G     0.8847      0.833      1.138         66        640: 100%|██████████| 169/169 [01:20<00:00,  2.09it/s]\n",
            "                 Class     Images  Instances      Box(P          R      mAP50  mAP50-95): 100%|██████████| 1/1 [00:00<00:00,  2.07it/s]"
          ]
        },
        {
          "output_type": "stream",
          "name": "stdout",
          "text": [
            "                   all         30         76       0.57      0.707      0.621      0.484\n"
          ]
        },
        {
          "output_type": "stream",
          "name": "stderr",
          "text": [
            "\n"
          ]
        },
        {
          "output_type": "stream",
          "name": "stdout",
          "text": [
            "\n",
            "      Epoch    GPU_mem   box_loss   cls_loss   dfl_loss  Instances       Size\n"
          ]
        },
        {
          "output_type": "stream",
          "name": "stderr",
          "text": [
            "     66/100      2.37G     0.8892     0.8412       1.14         70        640: 100%|██████████| 169/169 [01:20<00:00,  2.10it/s]\n",
            "                 Class     Images  Instances      Box(P          R      mAP50  mAP50-95): 100%|██████████| 1/1 [00:00<00:00,  1.89it/s]"
          ]
        },
        {
          "output_type": "stream",
          "name": "stdout",
          "text": [
            "                   all         30         76      0.681      0.625      0.634      0.511\n"
          ]
        },
        {
          "output_type": "stream",
          "name": "stderr",
          "text": [
            "\n"
          ]
        },
        {
          "output_type": "stream",
          "name": "stdout",
          "text": [
            "\n",
            "      Epoch    GPU_mem   box_loss   cls_loss   dfl_loss  Instances       Size\n"
          ]
        },
        {
          "output_type": "stream",
          "name": "stderr",
          "text": [
            "     67/100      2.36G      0.889     0.8404      1.136         72        640: 100%|██████████| 169/169 [01:20<00:00,  2.11it/s]\n",
            "                 Class     Images  Instances      Box(P          R      mAP50  mAP50-95): 100%|██████████| 1/1 [00:00<00:00,  1.91it/s]"
          ]
        },
        {
          "output_type": "stream",
          "name": "stdout",
          "text": [
            "                   all         30         76      0.599      0.683      0.636      0.506\n"
          ]
        },
        {
          "output_type": "stream",
          "name": "stderr",
          "text": [
            "\n"
          ]
        },
        {
          "output_type": "stream",
          "name": "stdout",
          "text": [
            "\n",
            "      Epoch    GPU_mem   box_loss   cls_loss   dfl_loss  Instances       Size\n"
          ]
        },
        {
          "output_type": "stream",
          "name": "stderr",
          "text": [
            "     68/100      2.37G     0.8857     0.8304      1.134         63        640: 100%|██████████| 169/169 [01:16<00:00,  2.20it/s]\n",
            "                 Class     Images  Instances      Box(P          R      mAP50  mAP50-95): 100%|██████████| 1/1 [00:00<00:00,  1.97it/s]"
          ]
        },
        {
          "output_type": "stream",
          "name": "stdout",
          "text": [
            "                   all         30         76      0.589      0.744      0.639      0.497\n"
          ]
        },
        {
          "output_type": "stream",
          "name": "stderr",
          "text": [
            "\n"
          ]
        },
        {
          "output_type": "stream",
          "name": "stdout",
          "text": [
            "\n",
            "      Epoch    GPU_mem   box_loss   cls_loss   dfl_loss  Instances       Size\n"
          ]
        },
        {
          "output_type": "stream",
          "name": "stderr",
          "text": [
            "     69/100      2.36G     0.8589     0.8078       1.12         94        640: 100%|██████████| 169/169 [01:18<00:00,  2.15it/s]\n",
            "                 Class     Images  Instances      Box(P          R      mAP50  mAP50-95): 100%|██████████| 1/1 [00:00<00:00,  1.91it/s]"
          ]
        },
        {
          "output_type": "stream",
          "name": "stdout",
          "text": [
            "                   all         30         76      0.561      0.695      0.626      0.489\n"
          ]
        },
        {
          "output_type": "stream",
          "name": "stderr",
          "text": [
            "\n"
          ]
        },
        {
          "output_type": "stream",
          "name": "stdout",
          "text": [
            "\n",
            "      Epoch    GPU_mem   box_loss   cls_loss   dfl_loss  Instances       Size\n"
          ]
        },
        {
          "output_type": "stream",
          "name": "stderr",
          "text": [
            "     70/100      2.37G     0.8662     0.8066      1.122         86        640: 100%|██████████| 169/169 [01:17<00:00,  2.19it/s]\n",
            "                 Class     Images  Instances      Box(P          R      mAP50  mAP50-95): 100%|██████████| 1/1 [00:00<00:00,  2.04it/s]"
          ]
        },
        {
          "output_type": "stream",
          "name": "stdout",
          "text": [
            "                   all         30         76      0.602       0.72      0.642      0.507\n"
          ]
        },
        {
          "output_type": "stream",
          "name": "stderr",
          "text": [
            "\n"
          ]
        },
        {
          "output_type": "stream",
          "name": "stdout",
          "text": [
            "\n",
            "      Epoch    GPU_mem   box_loss   cls_loss   dfl_loss  Instances       Size\n"
          ]
        },
        {
          "output_type": "stream",
          "name": "stderr",
          "text": [
            "     71/100      2.37G      0.862      0.804      1.119         58        640: 100%|██████████| 169/169 [01:18<00:00,  2.16it/s]\n",
            "                 Class     Images  Instances      Box(P          R      mAP50  mAP50-95): 100%|██████████| 1/1 [00:00<00:00,  1.66it/s]"
          ]
        },
        {
          "output_type": "stream",
          "name": "stdout",
          "text": [
            "                   all         30         76      0.653      0.681      0.666      0.508\n"
          ]
        },
        {
          "output_type": "stream",
          "name": "stderr",
          "text": [
            "\n"
          ]
        },
        {
          "output_type": "stream",
          "name": "stdout",
          "text": [
            "\n",
            "      Epoch    GPU_mem   box_loss   cls_loss   dfl_loss  Instances       Size\n"
          ]
        },
        {
          "output_type": "stream",
          "name": "stderr",
          "text": [
            "     72/100      2.37G     0.8595     0.7936      1.118         91        640: 100%|██████████| 169/169 [01:17<00:00,  2.18it/s]\n",
            "                 Class     Images  Instances      Box(P          R      mAP50  mAP50-95): 100%|██████████| 1/1 [00:00<00:00,  2.36it/s]"
          ]
        },
        {
          "output_type": "stream",
          "name": "stdout",
          "text": [
            "                   all         30         76      0.599      0.718      0.624      0.497\n"
          ]
        },
        {
          "output_type": "stream",
          "name": "stderr",
          "text": [
            "\n"
          ]
        },
        {
          "output_type": "stream",
          "name": "stdout",
          "text": [
            "\n",
            "      Epoch    GPU_mem   box_loss   cls_loss   dfl_loss  Instances       Size\n"
          ]
        },
        {
          "output_type": "stream",
          "name": "stderr",
          "text": [
            "     73/100      2.38G     0.8517     0.8064      1.116         85        640: 100%|██████████| 169/169 [01:16<00:00,  2.20it/s]\n",
            "                 Class     Images  Instances      Box(P          R      mAP50  mAP50-95): 100%|██████████| 1/1 [00:00<00:00,  1.80it/s]"
          ]
        },
        {
          "output_type": "stream",
          "name": "stdout",
          "text": [
            "                   all         30         76      0.648      0.683      0.653      0.509\n"
          ]
        },
        {
          "output_type": "stream",
          "name": "stderr",
          "text": [
            "\n"
          ]
        },
        {
          "output_type": "stream",
          "name": "stdout",
          "text": [
            "\n",
            "      Epoch    GPU_mem   box_loss   cls_loss   dfl_loss  Instances       Size\n"
          ]
        },
        {
          "output_type": "stream",
          "name": "stderr",
          "text": [
            "     74/100      2.36G     0.8521     0.7777      1.109         72        640: 100%|██████████| 169/169 [01:15<00:00,  2.23it/s]\n",
            "                 Class     Images  Instances      Box(P          R      mAP50  mAP50-95): 100%|██████████| 1/1 [00:00<00:00,  2.74it/s]"
          ]
        },
        {
          "output_type": "stream",
          "name": "stdout",
          "text": [
            "                   all         30         76      0.626      0.683      0.648      0.502\n"
          ]
        },
        {
          "output_type": "stream",
          "name": "stderr",
          "text": [
            "\n"
          ]
        },
        {
          "output_type": "stream",
          "name": "stdout",
          "text": [
            "\n",
            "      Epoch    GPU_mem   box_loss   cls_loss   dfl_loss  Instances       Size\n"
          ]
        },
        {
          "output_type": "stream",
          "name": "stderr",
          "text": [
            "     75/100      2.34G     0.8424     0.7776      1.101        102        640: 100%|██████████| 169/169 [01:18<00:00,  2.14it/s]\n",
            "                 Class     Images  Instances      Box(P          R      mAP50  mAP50-95): 100%|██████████| 1/1 [00:00<00:00,  1.94it/s]"
          ]
        },
        {
          "output_type": "stream",
          "name": "stdout",
          "text": [
            "                   all         30         76      0.637      0.724      0.664      0.518\n"
          ]
        },
        {
          "output_type": "stream",
          "name": "stderr",
          "text": [
            "\n"
          ]
        },
        {
          "output_type": "stream",
          "name": "stdout",
          "text": [
            "\n",
            "      Epoch    GPU_mem   box_loss   cls_loss   dfl_loss  Instances       Size\n"
          ]
        },
        {
          "output_type": "stream",
          "name": "stderr",
          "text": [
            "     76/100      2.37G     0.8343     0.7755      1.103         78        640: 100%|██████████| 169/169 [01:19<00:00,  2.12it/s]\n",
            "                 Class     Images  Instances      Box(P          R      mAP50  mAP50-95): 100%|██████████| 1/1 [00:00<00:00,  1.93it/s]"
          ]
        },
        {
          "output_type": "stream",
          "name": "stdout",
          "text": [
            "                   all         30         76      0.646      0.671      0.644      0.509\n"
          ]
        },
        {
          "output_type": "stream",
          "name": "stderr",
          "text": [
            "\n"
          ]
        },
        {
          "output_type": "stream",
          "name": "stdout",
          "text": [
            "\n",
            "      Epoch    GPU_mem   box_loss   cls_loss   dfl_loss  Instances       Size\n"
          ]
        },
        {
          "output_type": "stream",
          "name": "stderr",
          "text": [
            "     77/100      2.37G     0.8406     0.7748      1.106         95        640: 100%|██████████| 169/169 [01:24<00:00,  2.00it/s]\n",
            "                 Class     Images  Instances      Box(P          R      mAP50  mAP50-95): 100%|██████████| 1/1 [00:00<00:00,  2.85it/s]"
          ]
        },
        {
          "output_type": "stream",
          "name": "stdout",
          "text": [
            "                   all         30         76      0.703      0.629       0.65      0.499\n"
          ]
        },
        {
          "output_type": "stream",
          "name": "stderr",
          "text": [
            "\n"
          ]
        },
        {
          "output_type": "stream",
          "name": "stdout",
          "text": [
            "\n",
            "      Epoch    GPU_mem   box_loss   cls_loss   dfl_loss  Instances       Size\n"
          ]
        },
        {
          "output_type": "stream",
          "name": "stderr",
          "text": [
            "     78/100      2.34G     0.8312     0.7617      1.101         67        640: 100%|██████████| 169/169 [01:24<00:00,  2.01it/s]\n",
            "                 Class     Images  Instances      Box(P          R      mAP50  mAP50-95): 100%|██████████| 1/1 [00:00<00:00,  2.39it/s]"
          ]
        },
        {
          "output_type": "stream",
          "name": "stdout",
          "text": [
            "                   all         30         76      0.662       0.72      0.676      0.518\n"
          ]
        },
        {
          "output_type": "stream",
          "name": "stderr",
          "text": [
            "\n"
          ]
        },
        {
          "output_type": "stream",
          "name": "stdout",
          "text": [
            "\n",
            "      Epoch    GPU_mem   box_loss   cls_loss   dfl_loss  Instances       Size\n"
          ]
        },
        {
          "output_type": "stream",
          "name": "stderr",
          "text": [
            "     79/100      2.36G     0.8237     0.7557        1.1         77        640: 100%|██████████| 169/169 [01:25<00:00,  1.97it/s]\n",
            "                 Class     Images  Instances      Box(P          R      mAP50  mAP50-95): 100%|██████████| 1/1 [00:00<00:00,  1.81it/s]"
          ]
        },
        {
          "output_type": "stream",
          "name": "stdout",
          "text": [
            "                   all         30         76      0.712      0.667      0.654      0.514\n"
          ]
        },
        {
          "output_type": "stream",
          "name": "stderr",
          "text": [
            "\n"
          ]
        },
        {
          "output_type": "stream",
          "name": "stdout",
          "text": [
            "\n",
            "      Epoch    GPU_mem   box_loss   cls_loss   dfl_loss  Instances       Size\n"
          ]
        },
        {
          "output_type": "stream",
          "name": "stderr",
          "text": [
            "     80/100      2.35G      0.825     0.7642      1.097         71        640: 100%|██████████| 169/169 [01:26<00:00,  1.94it/s]\n",
            "                 Class     Images  Instances      Box(P          R      mAP50  mAP50-95): 100%|██████████| 1/1 [00:00<00:00,  1.67it/s]"
          ]
        },
        {
          "output_type": "stream",
          "name": "stdout",
          "text": [
            "                   all         30         76      0.648       0.73      0.663      0.509\n"
          ]
        },
        {
          "output_type": "stream",
          "name": "stderr",
          "text": [
            "\n"
          ]
        },
        {
          "output_type": "stream",
          "name": "stdout",
          "text": [
            "\n",
            "      Epoch    GPU_mem   box_loss   cls_loss   dfl_loss  Instances       Size\n"
          ]
        },
        {
          "output_type": "stream",
          "name": "stderr",
          "text": [
            "     81/100      2.37G     0.8227     0.7462      1.098         87        640: 100%|██████████| 169/169 [01:26<00:00,  1.95it/s]\n",
            "                 Class     Images  Instances      Box(P          R      mAP50  mAP50-95): 100%|██████████| 1/1 [00:00<00:00,  1.62it/s]"
          ]
        },
        {
          "output_type": "stream",
          "name": "stdout",
          "text": [
            "                   all         30         76      0.642      0.751      0.664      0.522\n"
          ]
        },
        {
          "output_type": "stream",
          "name": "stderr",
          "text": [
            "\n"
          ]
        },
        {
          "output_type": "stream",
          "name": "stdout",
          "text": [
            "\n",
            "      Epoch    GPU_mem   box_loss   cls_loss   dfl_loss  Instances       Size\n"
          ]
        },
        {
          "output_type": "stream",
          "name": "stderr",
          "text": [
            "     82/100      2.36G     0.8141     0.7434      1.094        100        640: 100%|██████████| 169/169 [01:25<00:00,  1.97it/s]\n",
            "                 Class     Images  Instances      Box(P          R      mAP50  mAP50-95): 100%|██████████| 1/1 [00:00<00:00,  1.04it/s]"
          ]
        },
        {
          "output_type": "stream",
          "name": "stdout",
          "text": [
            "                   all         30         76      0.633      0.735      0.654      0.513\n"
          ]
        },
        {
          "output_type": "stream",
          "name": "stderr",
          "text": [
            "\n"
          ]
        },
        {
          "output_type": "stream",
          "name": "stdout",
          "text": [
            "\n",
            "      Epoch    GPU_mem   box_loss   cls_loss   dfl_loss  Instances       Size\n"
          ]
        },
        {
          "output_type": "stream",
          "name": "stderr",
          "text": [
            "     83/100      2.24G     0.8198     0.7511      1.093         80        640: 100%|██████████| 169/169 [01:26<00:00,  1.96it/s]\n",
            "                 Class     Images  Instances      Box(P          R      mAP50  mAP50-95): 100%|██████████| 1/1 [00:00<00:00,  2.40it/s]"
          ]
        },
        {
          "output_type": "stream",
          "name": "stdout",
          "text": [
            "                   all         30         76      0.678      0.683      0.667      0.524\n"
          ]
        },
        {
          "output_type": "stream",
          "name": "stderr",
          "text": [
            "\n"
          ]
        },
        {
          "output_type": "stream",
          "name": "stdout",
          "text": [
            "\n",
            "      Epoch    GPU_mem   box_loss   cls_loss   dfl_loss  Instances       Size\n"
          ]
        },
        {
          "output_type": "stream",
          "name": "stderr",
          "text": [
            "     84/100      2.36G      0.807     0.7335      1.087         85        640: 100%|██████████| 169/169 [01:25<00:00,  1.97it/s]\n",
            "                 Class     Images  Instances      Box(P          R      mAP50  mAP50-95): 100%|██████████| 1/1 [00:00<00:00,  2.24it/s]"
          ]
        },
        {
          "output_type": "stream",
          "name": "stdout",
          "text": [
            "                   all         30         76      0.634       0.72      0.647      0.506\n"
          ]
        },
        {
          "output_type": "stream",
          "name": "stderr",
          "text": [
            "\n"
          ]
        },
        {
          "output_type": "stream",
          "name": "stdout",
          "text": [
            "\n",
            "      Epoch    GPU_mem   box_loss   cls_loss   dfl_loss  Instances       Size\n"
          ]
        },
        {
          "output_type": "stream",
          "name": "stderr",
          "text": [
            "     85/100      2.36G     0.8075     0.7398       1.09         81        640: 100%|██████████| 169/169 [01:26<00:00,  1.96it/s]\n",
            "                 Class     Images  Instances      Box(P          R      mAP50  mAP50-95): 100%|██████████| 1/1 [00:00<00:00,  2.01it/s]"
          ]
        },
        {
          "output_type": "stream",
          "name": "stdout",
          "text": [
            "                   all         30         76      0.624      0.744      0.636      0.499\n"
          ]
        },
        {
          "output_type": "stream",
          "name": "stderr",
          "text": [
            "\n"
          ]
        },
        {
          "output_type": "stream",
          "name": "stdout",
          "text": [
            "\n",
            "      Epoch    GPU_mem   box_loss   cls_loss   dfl_loss  Instances       Size\n"
          ]
        },
        {
          "output_type": "stream",
          "name": "stderr",
          "text": [
            "     86/100      2.37G     0.8084     0.7517      1.095         93        640: 100%|██████████| 169/169 [01:26<00:00,  1.95it/s]\n",
            "                 Class     Images  Instances      Box(P          R      mAP50  mAP50-95): 100%|██████████| 1/1 [00:00<00:00,  1.51it/s]"
          ]
        },
        {
          "output_type": "stream",
          "name": "stdout",
          "text": [
            "                   all         30         76      0.629      0.742      0.646       0.51\n"
          ]
        },
        {
          "output_type": "stream",
          "name": "stderr",
          "text": [
            "\n"
          ]
        },
        {
          "output_type": "stream",
          "name": "stdout",
          "text": [
            "\n",
            "      Epoch    GPU_mem   box_loss   cls_loss   dfl_loss  Instances       Size\n"
          ]
        },
        {
          "output_type": "stream",
          "name": "stderr",
          "text": [
            "     87/100      2.36G     0.7908     0.7303      1.082         75        640: 100%|██████████| 169/169 [01:26<00:00,  1.96it/s]\n",
            "                 Class     Images  Instances      Box(P          R      mAP50  mAP50-95): 100%|██████████| 1/1 [00:00<00:00,  2.40it/s]"
          ]
        },
        {
          "output_type": "stream",
          "name": "stdout",
          "text": [
            "                   all         30         76      0.618      0.707      0.641      0.514\n"
          ]
        },
        {
          "output_type": "stream",
          "name": "stderr",
          "text": [
            "\n"
          ]
        },
        {
          "output_type": "stream",
          "name": "stdout",
          "text": [
            "\n",
            "      Epoch    GPU_mem   box_loss   cls_loss   dfl_loss  Instances       Size\n"
          ]
        },
        {
          "output_type": "stream",
          "name": "stderr",
          "text": [
            "     88/100      2.36G      0.788     0.7209      1.076        102        640: 100%|██████████| 169/169 [01:25<00:00,  1.98it/s]\n",
            "                 Class     Images  Instances      Box(P          R      mAP50  mAP50-95): 100%|██████████| 1/1 [00:00<00:00,  2.32it/s]"
          ]
        },
        {
          "output_type": "stream",
          "name": "stdout",
          "text": [
            "                   all         30         76      0.615      0.765       0.64      0.503\n"
          ]
        },
        {
          "output_type": "stream",
          "name": "stderr",
          "text": [
            "\n"
          ]
        },
        {
          "output_type": "stream",
          "name": "stdout",
          "text": [
            "\n",
            "      Epoch    GPU_mem   box_loss   cls_loss   dfl_loss  Instances       Size\n"
          ]
        },
        {
          "output_type": "stream",
          "name": "stderr",
          "text": [
            "     89/100      2.36G     0.7956     0.7137      1.085         96        640: 100%|██████████| 169/169 [01:26<00:00,  1.96it/s]\n",
            "                 Class     Images  Instances      Box(P          R      mAP50  mAP50-95): 100%|██████████| 1/1 [00:00<00:00,  1.17it/s]"
          ]
        },
        {
          "output_type": "stream",
          "name": "stdout",
          "text": [
            "                   all         30         76      0.605       0.72      0.631      0.509\n"
          ]
        },
        {
          "output_type": "stream",
          "name": "stderr",
          "text": [
            "\n"
          ]
        },
        {
          "output_type": "stream",
          "name": "stdout",
          "text": [
            "\n",
            "      Epoch    GPU_mem   box_loss   cls_loss   dfl_loss  Instances       Size\n"
          ]
        },
        {
          "output_type": "stream",
          "name": "stderr",
          "text": [
            "     90/100      2.38G     0.7898     0.7157      1.085         66        640: 100%|██████████| 169/169 [01:25<00:00,  1.98it/s]\n",
            "                 Class     Images  Instances      Box(P          R      mAP50  mAP50-95): 100%|██████████| 1/1 [00:00<00:00,  1.00it/s]"
          ]
        },
        {
          "output_type": "stream",
          "name": "stdout",
          "text": [
            "                   all         30         76      0.628      0.732      0.642      0.509\n"
          ]
        },
        {
          "output_type": "stream",
          "name": "stderr",
          "text": [
            "\n"
          ]
        },
        {
          "output_type": "stream",
          "name": "stdout",
          "text": [
            "Closing dataloader mosaic\n",
            "\u001b[34m\u001b[1malbumentations: \u001b[0mBlur(p=0.01, blur_limit=(3, 7)), MedianBlur(p=0.01, blur_limit=(3, 7)), ToGray(p=0.01), CLAHE(p=0.01, clip_limit=(1, 4.0), tile_grid_size=(8, 8))\n",
            "\n",
            "      Epoch    GPU_mem   box_loss   cls_loss   dfl_loss  Instances       Size\n"
          ]
        },
        {
          "output_type": "stream",
          "name": "stderr",
          "text": [
            "     91/100      2.33G     0.7162     0.6146      1.041         40        640: 100%|██████████| 169/169 [01:25<00:00,  1.99it/s]\n",
            "                 Class     Images  Instances      Box(P          R      mAP50  mAP50-95): 100%|██████████| 1/1 [00:00<00:00,  1.81it/s]"
          ]
        },
        {
          "output_type": "stream",
          "name": "stdout",
          "text": [
            "                   all         30         76      0.639      0.701      0.664      0.522\n"
          ]
        },
        {
          "output_type": "stream",
          "name": "stderr",
          "text": [
            "\n"
          ]
        },
        {
          "output_type": "stream",
          "name": "stdout",
          "text": [
            "\n",
            "      Epoch    GPU_mem   box_loss   cls_loss   dfl_loss  Instances       Size\n"
          ]
        },
        {
          "output_type": "stream",
          "name": "stderr",
          "text": [
            "     92/100      2.33G     0.7062     0.5936      1.035         44        640: 100%|██████████| 169/169 [01:21<00:00,  2.08it/s]\n",
            "                 Class     Images  Instances      Box(P          R      mAP50  mAP50-95): 100%|██████████| 1/1 [00:00<00:00,  1.21it/s]"
          ]
        },
        {
          "output_type": "stream",
          "name": "stdout",
          "text": [
            "                   all         30         76      0.657      0.768      0.662      0.512\n"
          ]
        },
        {
          "output_type": "stream",
          "name": "stderr",
          "text": [
            "\n"
          ]
        },
        {
          "output_type": "stream",
          "name": "stdout",
          "text": [
            "\n",
            "      Epoch    GPU_mem   box_loss   cls_loss   dfl_loss  Instances       Size\n"
          ]
        },
        {
          "output_type": "stream",
          "name": "stderr",
          "text": [
            "     93/100      2.34G     0.6914      0.591      1.027         42        640: 100%|██████████| 169/169 [01:21<00:00,  2.07it/s]\n",
            "                 Class     Images  Instances      Box(P          R      mAP50  mAP50-95): 100%|██████████| 1/1 [00:00<00:00,  1.99it/s]"
          ]
        },
        {
          "output_type": "stream",
          "name": "stdout",
          "text": [
            "                   all         30         76      0.671      0.738      0.678       0.52\n"
          ]
        },
        {
          "output_type": "stream",
          "name": "stderr",
          "text": [
            "\n"
          ]
        },
        {
          "output_type": "stream",
          "name": "stdout",
          "text": [
            "\n",
            "      Epoch    GPU_mem   box_loss   cls_loss   dfl_loss  Instances       Size\n"
          ]
        },
        {
          "output_type": "stream",
          "name": "stderr",
          "text": [
            "     94/100      2.33G     0.6762     0.5705      1.016         43        640: 100%|██████████| 169/169 [01:21<00:00,  2.08it/s]\n",
            "                 Class     Images  Instances      Box(P          R      mAP50  mAP50-95): 100%|██████████| 1/1 [00:00<00:00,  1.73it/s]"
          ]
        },
        {
          "output_type": "stream",
          "name": "stdout",
          "text": [
            "                   all         30         76      0.654       0.72       0.66      0.525\n"
          ]
        },
        {
          "output_type": "stream",
          "name": "stderr",
          "text": [
            "\n"
          ]
        },
        {
          "output_type": "stream",
          "name": "stdout",
          "text": [
            "\n",
            "      Epoch    GPU_mem   box_loss   cls_loss   dfl_loss  Instances       Size\n"
          ]
        },
        {
          "output_type": "stream",
          "name": "stderr",
          "text": [
            "     95/100      2.33G     0.6767     0.5662      1.021         32        640: 100%|██████████| 169/169 [01:22<00:00,  2.05it/s]\n",
            "                 Class     Images  Instances      Box(P          R      mAP50  mAP50-95): 100%|██████████| 1/1 [00:00<00:00,  2.16it/s]"
          ]
        },
        {
          "output_type": "stream",
          "name": "stdout",
          "text": [
            "                   all         30         76      0.659       0.72      0.659      0.519\n"
          ]
        },
        {
          "output_type": "stream",
          "name": "stderr",
          "text": [
            "\n"
          ]
        },
        {
          "output_type": "stream",
          "name": "stdout",
          "text": [
            "\n",
            "      Epoch    GPU_mem   box_loss   cls_loss   dfl_loss  Instances       Size\n"
          ]
        },
        {
          "output_type": "stream",
          "name": "stderr",
          "text": [
            "     96/100      2.33G     0.6733     0.5647      1.017         45        640: 100%|██████████| 169/169 [01:22<00:00,  2.04it/s]\n",
            "                 Class     Images  Instances      Box(P          R      mAP50  mAP50-95): 100%|██████████| 1/1 [00:00<00:00,  1.93it/s]"
          ]
        },
        {
          "output_type": "stream",
          "name": "stdout",
          "text": [
            "                   all         30         76      0.647      0.744      0.671      0.523\n"
          ]
        },
        {
          "output_type": "stream",
          "name": "stderr",
          "text": [
            "\n"
          ]
        },
        {
          "output_type": "stream",
          "name": "stdout",
          "text": [
            "\n",
            "      Epoch    GPU_mem   box_loss   cls_loss   dfl_loss  Instances       Size\n"
          ]
        },
        {
          "output_type": "stream",
          "name": "stderr",
          "text": [
            "     97/100      2.33G     0.6683     0.5551      1.014         39        640: 100%|██████████| 169/169 [01:23<00:00,  2.02it/s]\n",
            "                 Class     Images  Instances      Box(P          R      mAP50  mAP50-95): 100%|██████████| 1/1 [00:00<00:00,  1.85it/s]"
          ]
        },
        {
          "output_type": "stream",
          "name": "stdout",
          "text": [
            "                   all         30         76      0.653      0.751      0.672      0.533\n"
          ]
        },
        {
          "output_type": "stream",
          "name": "stderr",
          "text": [
            "\n"
          ]
        },
        {
          "output_type": "stream",
          "name": "stdout",
          "text": [
            "\n",
            "      Epoch    GPU_mem   box_loss   cls_loss   dfl_loss  Instances       Size\n"
          ]
        },
        {
          "output_type": "stream",
          "name": "stderr",
          "text": [
            "     98/100      2.33G     0.6679     0.5619      1.012         45        640: 100%|██████████| 169/169 [01:22<00:00,  2.04it/s]\n",
            "                 Class     Images  Instances      Box(P          R      mAP50  mAP50-95): 100%|██████████| 1/1 [00:00<00:00,  1.94it/s]"
          ]
        },
        {
          "output_type": "stream",
          "name": "stdout",
          "text": [
            "                   all         30         76      0.647      0.756       0.67      0.527\n"
          ]
        },
        {
          "output_type": "stream",
          "name": "stderr",
          "text": [
            "\n"
          ]
        },
        {
          "output_type": "stream",
          "name": "stdout",
          "text": [
            "\n",
            "      Epoch    GPU_mem   box_loss   cls_loss   dfl_loss  Instances       Size\n"
          ]
        },
        {
          "output_type": "stream",
          "name": "stderr",
          "text": [
            "     99/100      2.33G     0.6604       0.55      1.011         50        640: 100%|██████████| 169/169 [01:20<00:00,  2.09it/s]\n",
            "                 Class     Images  Instances      Box(P          R      mAP50  mAP50-95): 100%|██████████| 1/1 [00:00<00:00,  1.23it/s]"
          ]
        },
        {
          "output_type": "stream",
          "name": "stdout",
          "text": [
            "                   all         30         76      0.637       0.75      0.668      0.527\n"
          ]
        },
        {
          "output_type": "stream",
          "name": "stderr",
          "text": [
            "\n"
          ]
        },
        {
          "output_type": "stream",
          "name": "stdout",
          "text": [
            "\n",
            "      Epoch    GPU_mem   box_loss   cls_loss   dfl_loss  Instances       Size\n"
          ]
        },
        {
          "output_type": "stream",
          "name": "stderr",
          "text": [
            "    100/100      2.33G     0.6537     0.5476      1.005         46        640: 100%|██████████| 169/169 [01:21<00:00,  2.07it/s]\n",
            "                 Class     Images  Instances      Box(P          R      mAP50  mAP50-95): 100%|██████████| 1/1 [00:00<00:00,  1.92it/s]"
          ]
        },
        {
          "output_type": "stream",
          "name": "stdout",
          "text": [
            "                   all         30         76      0.651      0.743      0.667       0.53\n"
          ]
        },
        {
          "output_type": "stream",
          "name": "stderr",
          "text": [
            "\n"
          ]
        },
        {
          "output_type": "stream",
          "name": "stdout",
          "text": [
            "\n",
            "100 epochs completed in 2.303 hours.\n",
            "Optimizer stripped from runs/detect/train2/weights/last.pt, 6.3MB\n",
            "Optimizer stripped from runs/detect/train2/weights/best.pt, 6.2MB\n",
            "\n",
            "Validating runs/detect/train2/weights/best.pt...\n",
            "Ultralytics YOLOv8.1.30 🚀 Python-3.10.12 torch-2.2.1+cu121 CUDA:0 (Tesla T4, 15102MiB)\n",
            "Model summary (fused): 168 layers, 3006038 parameters, 0 gradients, 8.1 GFLOPs\n"
          ]
        },
        {
          "output_type": "stream",
          "name": "stderr",
          "text": [
            "                 Class     Images  Instances      Box(P          R      mAP50  mAP50-95): 100%|██████████| 1/1 [00:00<00:00,  2.03it/s]\n"
          ]
        },
        {
          "output_type": "stream",
          "name": "stdout",
          "text": [
            "                   all         30         76      0.785      0.683      0.698      0.544\n",
            "              OCCUPIED         30         41      0.674      0.366      0.415      0.253\n",
            "                 EMPTY         30         35      0.897          1      0.981      0.835\n",
            "Speed: 0.2ms preprocess, 2.7ms inference, 0.0ms loss, 1.6ms postprocess per image\n",
            "Results saved to \u001b[1mruns/detect/train2\u001b[0m\n"
          ]
        }
      ]
    },
    {
      "cell_type": "code",
      "source": [
        "import shutil\n",
        "\n",
        "# Define the paths\n",
        "source_folder = '/content/runs/detect/train2'  # Path to the folder you want to copy\n",
        "destination_folder = '/content/gdrive/MyDrive/car park/results_parking'  # Destination path in Google Drive\n",
        "\n",
        "# Copy the folder recursively\n",
        "shutil.copytree(source_folder, destination_folder)\n"
      ],
      "metadata": {
        "colab": {
          "base_uri": "https://localhost:8080/",
          "height": 35
        },
        "id": "mvFfQoqePHO1",
        "outputId": "f38bad30-a8ac-49f2-90fb-e6ee521697cf"
      },
      "execution_count": 20,
      "outputs": [
        {
          "output_type": "execute_result",
          "data": {
            "text/plain": [
              "'/content/gdrive/MyDrive/car park/results_parking'"
            ],
            "application/vnd.google.colaboratory.intrinsic+json": {
              "type": "string"
            }
          },
          "metadata": {},
          "execution_count": 20
        }
      ]
    },
    {
      "cell_type": "code",
      "source": [
        "figure(figsize=(15, 10), dpi=80)\n",
        "# reading the image\n",
        "results = img.imread('runs/detect/train2/results.png')\n",
        "# displaying the image\n",
        "plt.imshow(results)"
      ],
      "metadata": {
        "colab": {
          "base_uri": "https://localhost:8080/",
          "height": 473
        },
        "id": "jniHLMWr0ZMA",
        "outputId": "7a7fb274-f4b9-4c38-bce8-7b21a3a683c2"
      },
      "execution_count": 21,
      "outputs": [
        {
          "output_type": "execute_result",
          "data": {
            "text/plain": [
              "<matplotlib.image.AxesImage at 0x79ec5e1d3d00>"
            ]
          },
          "metadata": {},
          "execution_count": 21
        },
        {
          "output_type": "display_data",
          "data": {
            "text/plain": [
              "<Figure size 1200x800 with 1 Axes>"
            ],
            "image/png": "[encoded data removed]"
          },
          "metadata": {}
        }
      ]
    },
    {
      "cell_type": "code",
      "source": [
        "figure(figsize=(20,15), dpi=80)\n",
        "# reading the image\n",
        "cf = img.imread('runs/detect/train2/confusion_matrix.png')\n",
        "# displaying the image\n",
        "plt.imshow(cf)"
      ],
      "metadata": {
        "colab": {
          "base_uri": "https://localhost:8080/",
          "height": 676
        },
        "id": "31kxp-UnJAhf",
        "outputId": "45b892a3-8aa8-491b-8a85-498f82d47a6b"
      },
      "execution_count": 22,
      "outputs": [
        {
          "output_type": "execute_result",
          "data": {
            "text/plain": [
              "<matplotlib.image.AxesImage at 0x79ec69fbccd0>"
            ]
          },
          "metadata": {},
          "execution_count": 22
        },
        {
          "output_type": "display_data",
          "data": {
            "text/plain": [
              "<Figure size 1600x1200 with 1 Axes>"
            ],
            "image/png": "[encoded data removed]"
          },
          "metadata": {}
        }
      ]
    },
    {
      "cell_type": "code",
      "source": [
        "figure(figsize=(20,15), dpi=80)\n",
        "# reading the image\n",
        "cf = img.imread('runs/detect/train2/confusion_matrix_normalized.png')\n",
        "# displaying the image\n",
        "plt.imshow(cf)"
      ],
      "metadata": {
        "colab": {
          "base_uri": "https://localhost:8080/",
          "height": 676
        },
        "id": "XiLH2p6Oehou",
        "outputId": "a2cfb3e3-a3e4-4c95-966f-bbb3d80de182"
      },
      "execution_count": 23,
      "outputs": [
        {
          "output_type": "execute_result",
          "data": {
            "text/plain": [
              "<matplotlib.image.AxesImage at 0x79ec64674220>"
            ]
          },
          "metadata": {},
          "execution_count": 23
        },
        {
          "output_type": "display_data",
          "data": {
            "text/plain": [
              "<Figure size 1600x1200 with 1 Axes>"
            ],
            "image/png": "[encoded data removed]"
          },
          "metadata": {}
        }
      ]
    },
    {
      "cell_type": "markdown",
      "source": [
        "Making Predictions on the Submission Video"
      ],
      "metadata": {
        "id": "K5oBypA4KDzL"
      }
    },
    {
      "cell_type": "code",
      "source": [
        "#load model\n",
        "model = YOLO('/content/gdrive/MyDrive/car park/results_parking/weights/best.pt')"
      ],
      "metadata": {
        "id": "kGiE5EBwJ_jP"
      },
      "execution_count": 7,
      "outputs": []
    },
    {
      "cell_type": "code",
      "source": [
        "# run predictions\n",
        "results = model('/content/gdrive/MyDrive/car park/Test videos/park_1.mp4', show =True, save= True)"
      ],
      "metadata": {
        "colab": {
          "base_uri": "https://localhost:8080/"
        },
        "id": "6NuDZAQ0aPAI",
        "outputId": "6cf397ee-e037-4257-9177-90273e29270b"
      },
      "execution_count": 9,
      "outputs": [
        {
          "output_type": "stream",
          "name": "stdout",
          "text": [
            "WARNING ⚠️ Environment does not support cv2.imshow() or PIL Image.show()\n",
            "\n",
            "\n",
            "\n",
            "WARNING ⚠️ inference results will accumulate in RAM unless `stream=True` is passed, causing potential out-of-memory\n",
            "errors for large sources or long-running streams and videos. See https://docs.ultralytics.com/modes/predict/ for help.\n",
            "\n",
            "Example:\n",
            "    results = model(source=..., stream=True)  # generator of Results objects\n",
            "    for r in results:\n",
            "        boxes = r.boxes  # Boxes object for bbox outputs\n",
            "        masks = r.masks  # Masks object for segment masks outputs\n",
            "        probs = r.probs  # Class probabilities for classification outputs\n",
            "\n",
            "video 1/1 (frame 1/952) /content/gdrive/MyDrive/car park/Test videos/park_1.mp4: 384x640 (no detections), 219.5ms\n",
            "video 1/1 (frame 2/952) /content/gdrive/MyDrive/car park/Test videos/park_1.mp4: 384x640 (no detections), 13.5ms\n",
            "video 1/1 (frame 3/952) /content/gdrive/MyDrive/car park/Test videos/park_1.mp4: 384x640 (no detections), 13.3ms\n",
            "video 1/1 (frame 4/952) /content/gdrive/MyDrive/car park/Test videos/park_1.mp4: 384x640 (no detections), 17.1ms\n",
            "video 1/1 (frame 5/952) /content/gdrive/MyDrive/car park/Test videos/park_1.mp4: 384x640 (no detections), 13.7ms\n",
            "video 1/1 (frame 6/952) /content/gdrive/MyDrive/car park/Test videos/park_1.mp4: 384x640 (no detections), 40.3ms\n",
            "video 1/1 (frame 7/952) /content/gdrive/MyDrive/car park/Test videos/park_1.mp4: 384x640 (no detections), 11.4ms\n",
            "video 1/1 (frame 8/952) /content/gdrive/MyDrive/car park/Test videos/park_1.mp4: 384x640 (no detections), 37.7ms\n",
            "video 1/1 (frame 9/952) /content/gdrive/MyDrive/car park/Test videos/park_1.mp4: 384x640 (no detections), 39.4ms\n",
            "video 1/1 (frame 10/952) /content/gdrive/MyDrive/car park/Test videos/park_1.mp4: 384x640 (no detections), 13.3ms\n",
            "video 1/1 (frame 11/952) /content/gdrive/MyDrive/car park/Test videos/park_1.mp4: 384x640 (no detections), 14.0ms\n",
            "video 1/1 (frame 12/952) /content/gdrive/MyDrive/car park/Test videos/park_1.mp4: 384x640 (no detections), 13.1ms\n",
            "video 1/1 (frame 13/952) /content/gdrive/MyDrive/car park/Test videos/park_1.mp4: 384x640 (no detections), 19.7ms\n",
            "video 1/1 (frame 14/952) /content/gdrive/MyDrive/car park/Test videos/park_1.mp4: 384x640 (no detections), 17.7ms\n",
            "video 1/1 (frame 15/952) /content/gdrive/MyDrive/car park/Test videos/park_1.mp4: 384x640 (no detections), 13.1ms\n",
            "video 1/1 (frame 16/952) /content/gdrive/MyDrive/car park/Test videos/park_1.mp4: 384x640 (no detections), 13.7ms\n",
            "video 1/1 (frame 17/952) /content/gdrive/MyDrive/car park/Test videos/park_1.mp4: 384x640 (no detections), 12.7ms\n",
            "video 1/1 (frame 18/952) /content/gdrive/MyDrive/car park/Test videos/park_1.mp4: 384x640 (no detections), 12.3ms\n",
            "video 1/1 (frame 19/952) /content/gdrive/MyDrive/car park/Test videos/park_1.mp4: 384x640 (no detections), 17.2ms\n",
            "video 1/1 (frame 20/952) /content/gdrive/MyDrive/car park/Test videos/park_1.mp4: 384x640 (no detections), 13.4ms\n",
            "video 1/1 (frame 21/952) /content/gdrive/MyDrive/car park/Test videos/park_1.mp4: 384x640 (no detections), 46.1ms\n",
            "video 1/1 (frame 22/952) /content/gdrive/MyDrive/car park/Test videos/park_1.mp4: 384x640 (no detections), 13.7ms\n",
            "video 1/1 (frame 23/952) /content/gdrive/MyDrive/car park/Test videos/park_1.mp4: 384x640 (no detections), 12.6ms\n",
            "video 1/1 (frame 24/952) /content/gdrive/MyDrive/car park/Test videos/park_1.mp4: 384x640 (no detections), 27.3ms\n",
            "video 1/1 (frame 25/952) /content/gdrive/MyDrive/car park/Test videos/park_1.mp4: 384x640 (no detections), 12.0ms\n",
            "video 1/1 (frame 26/952) /content/gdrive/MyDrive/car park/Test videos/park_1.mp4: 384x640 (no detections), 45.5ms\n",
            "video 1/1 (frame 27/952) /content/gdrive/MyDrive/car park/Test videos/park_1.mp4: 384x640 (no detections), 13.4ms\n",
            "video 1/1 (frame 28/952) /content/gdrive/MyDrive/car park/Test videos/park_1.mp4: 384x640 (no detections), 13.3ms\n",
            "video 1/1 (frame 29/952) /content/gdrive/MyDrive/car park/Test videos/park_1.mp4: 384x640 (no detections), 12.9ms\n",
            "video 1/1 (frame 30/952) /content/gdrive/MyDrive/car park/Test videos/park_1.mp4: 384x640 (no detections), 33.0ms\n",
            "video 1/1 (frame 31/952) /content/gdrive/MyDrive/car park/Test videos/park_1.mp4: 384x640 (no detections), 15.1ms\n",
            "video 1/1 (frame 32/952) /content/gdrive/MyDrive/car park/Test videos/park_1.mp4: 384x640 (no detections), 14.4ms\n",
            "video 1/1 (frame 33/952) /content/gdrive/MyDrive/car park/Test videos/park_1.mp4: 384x640 (no detections), 26.3ms\n",
            "video 1/1 (frame 34/952) /content/gdrive/MyDrive/car park/Test videos/park_1.mp4: 384x640 (no detections), 24.8ms\n",
            "video 1/1 (frame 35/952) /content/gdrive/MyDrive/car park/Test videos/park_1.mp4: 384x640 (no detections), 27.7ms\n",
            "video 1/1 (frame 36/952) /content/gdrive/MyDrive/car park/Test videos/park_1.mp4: 384x640 (no detections), 20.4ms\n",
            "video 1/1 (frame 37/952) /content/gdrive/MyDrive/car park/Test videos/park_1.mp4: 384x640 (no detections), 14.0ms\n",
            "video 1/1 (frame 38/952) /content/gdrive/MyDrive/car park/Test videos/park_1.mp4: 384x640 (no detections), 22.0ms\n",
            "video 1/1 (frame 39/952) /content/gdrive/MyDrive/car park/Test videos/park_1.mp4: 384x640 (no detections), 12.8ms\n",
            "video 1/1 (frame 40/952) /content/gdrive/MyDrive/car park/Test videos/park_1.mp4: 384x640 (no detections), 14.0ms\n",
            "video 1/1 (frame 41/952) /content/gdrive/MyDrive/car park/Test videos/park_1.mp4: 384x640 (no detections), 16.0ms\n",
            "video 1/1 (frame 42/952) /content/gdrive/MyDrive/car park/Test videos/park_1.mp4: 384x640 (no detections), 13.2ms\n",
            "video 1/1 (frame 43/952) /content/gdrive/MyDrive/car park/Test videos/park_1.mp4: 384x640 (no detections), 14.5ms\n",
            "video 1/1 (frame 44/952) /content/gdrive/MyDrive/car park/Test videos/park_1.mp4: 384x640 (no detections), 11.4ms\n",
            "video 1/1 (frame 45/952) /content/gdrive/MyDrive/car park/Test videos/park_1.mp4: 384x640 (no detections), 13.1ms\n",
            "video 1/1 (frame 46/952) /content/gdrive/MyDrive/car park/Test videos/park_1.mp4: 384x640 (no detections), 14.2ms\n",
            "video 1/1 (frame 47/952) /content/gdrive/MyDrive/car park/Test videos/park_1.mp4: 384x640 (no detections), 14.4ms\n",
            "video 1/1 (frame 48/952) /content/gdrive/MyDrive/car park/Test videos/park_1.mp4: 384x640 (no detections), 13.6ms\n",
            "video 1/1 (frame 49/952) /content/gdrive/MyDrive/car park/Test videos/park_1.mp4: 384x640 (no detections), 18.2ms\n",
            "video 1/1 (frame 50/952) /content/gdrive/MyDrive/car park/Test videos/park_1.mp4: 384x640 (no detections), 12.6ms\n",
            "video 1/1 (frame 51/952) /content/gdrive/MyDrive/car park/Test videos/park_1.mp4: 384x640 (no detections), 13.3ms\n",
            "video 1/1 (frame 52/952) /content/gdrive/MyDrive/car park/Test videos/park_1.mp4: 384x640 (no detections), 13.4ms\n",
            "video 1/1 (frame 53/952) /content/gdrive/MyDrive/car park/Test videos/park_1.mp4: 384x640 (no detections), 40.0ms\n",
            "video 1/1 (frame 54/952) /content/gdrive/MyDrive/car park/Test videos/park_1.mp4: 384x640 (no detections), 13.4ms\n",
            "video 1/1 (frame 55/952) /content/gdrive/MyDrive/car park/Test videos/park_1.mp4: 384x640 (no detections), 14.1ms\n",
            "video 1/1 (frame 56/952) /content/gdrive/MyDrive/car park/Test videos/park_1.mp4: 384x640 (no detections), 33.5ms\n",
            "video 1/1 (frame 57/952) /content/gdrive/MyDrive/car park/Test videos/park_1.mp4: 384x640 (no detections), 12.9ms\n",
            "video 1/1 (frame 58/952) /content/gdrive/MyDrive/car park/Test videos/park_1.mp4: 384x640 (no detections), 16.0ms\n",
            "video 1/1 (frame 59/952) /content/gdrive/MyDrive/car park/Test videos/park_1.mp4: 384x640 (no detections), 23.5ms\n",
            "video 1/1 (frame 60/952) /content/gdrive/MyDrive/car park/Test videos/park_1.mp4: 384x640 (no detections), 38.5ms\n",
            "video 1/1 (frame 61/952) /content/gdrive/MyDrive/car park/Test videos/park_1.mp4: 384x640 (no detections), 15.8ms\n",
            "video 1/1 (frame 62/952) /content/gdrive/MyDrive/car park/Test videos/park_1.mp4: 384x640 (no detections), 13.5ms\n",
            "video 1/1 (frame 63/952) /content/gdrive/MyDrive/car park/Test videos/park_1.mp4: 384x640 (no detections), 11.5ms\n",
            "video 1/1 (frame 64/952) /content/gdrive/MyDrive/car park/Test videos/park_1.mp4: 384x640 (no detections), 15.9ms\n",
            "video 1/1 (frame 65/952) /content/gdrive/MyDrive/car park/Test videos/park_1.mp4: 384x640 (no detections), 14.0ms\n",
            "video 1/1 (frame 66/952) /content/gdrive/MyDrive/car park/Test videos/park_1.mp4: 384x640 (no detections), 12.7ms\n",
            "video 1/1 (frame 67/952) /content/gdrive/MyDrive/car park/Test videos/park_1.mp4: 384x640 (no detections), 13.6ms\n",
            "video 1/1 (frame 68/952) /content/gdrive/MyDrive/car park/Test videos/park_1.mp4: 384x640 (no detections), 15.9ms\n",
            "video 1/1 (frame 69/952) /content/gdrive/MyDrive/car park/Test videos/park_1.mp4: 384x640 (no detections), 62.9ms\n",
            "video 1/1 (frame 70/952) /content/gdrive/MyDrive/car park/Test videos/park_1.mp4: 384x640 (no detections), 45.4ms\n",
            "video 1/1 (frame 71/952) /content/gdrive/MyDrive/car park/Test videos/park_1.mp4: 384x640 (no detections), 28.2ms\n",
            "video 1/1 (frame 72/952) /content/gdrive/MyDrive/car park/Test videos/park_1.mp4: 384x640 (no detections), 39.9ms\n",
            "video 1/1 (frame 73/952) /content/gdrive/MyDrive/car park/Test videos/park_1.mp4: 384x640 (no detections), 40.4ms\n",
            "video 1/1 (frame 74/952) /content/gdrive/MyDrive/car park/Test videos/park_1.mp4: 384x640 (no detections), 43.7ms\n",
            "video 1/1 (frame 75/952) /content/gdrive/MyDrive/car park/Test videos/park_1.mp4: 384x640 (no detections), 45.4ms\n",
            "video 1/1 (frame 76/952) /content/gdrive/MyDrive/car park/Test videos/park_1.mp4: 384x640 (no detections), 28.0ms\n",
            "video 1/1 (frame 77/952) /content/gdrive/MyDrive/car park/Test videos/park_1.mp4: 384x640 (no detections), 27.6ms\n",
            "video 1/1 (frame 78/952) /content/gdrive/MyDrive/car park/Test videos/park_1.mp4: 384x640 (no detections), 24.3ms\n",
            "video 1/1 (frame 79/952) /content/gdrive/MyDrive/car park/Test videos/park_1.mp4: 384x640 (no detections), 35.8ms\n",
            "video 1/1 (frame 80/952) /content/gdrive/MyDrive/car park/Test videos/park_1.mp4: 384x640 (no detections), 36.0ms\n",
            "video 1/1 (frame 81/952) /content/gdrive/MyDrive/car park/Test videos/park_1.mp4: 384x640 (no detections), 22.5ms\n",
            "video 1/1 (frame 82/952) /content/gdrive/MyDrive/car park/Test videos/park_1.mp4: 384x640 (no detections), 14.6ms\n",
            "video 1/1 (frame 83/952) /content/gdrive/MyDrive/car park/Test videos/park_1.mp4: 384x640 (no detections), 33.7ms\n",
            "video 1/1 (frame 84/952) /content/gdrive/MyDrive/car park/Test videos/park_1.mp4: 384x640 (no detections), 38.8ms\n",
            "video 1/1 (frame 85/952) /content/gdrive/MyDrive/car park/Test videos/park_1.mp4: 384x640 (no detections), 42.2ms\n",
            "video 1/1 (frame 86/952) /content/gdrive/MyDrive/car park/Test videos/park_1.mp4: 384x640 (no detections), 40.3ms\n",
            "video 1/1 (frame 87/952) /content/gdrive/MyDrive/car park/Test videos/park_1.mp4: 384x640 (no detections), 21.1ms\n",
            "video 1/1 (frame 88/952) /content/gdrive/MyDrive/car park/Test videos/park_1.mp4: 384x640 (no detections), 24.0ms\n",
            "video 1/1 (frame 89/952) /content/gdrive/MyDrive/car park/Test videos/park_1.mp4: 384x640 (no detections), 36.7ms\n",
            "video 1/1 (frame 90/952) /content/gdrive/MyDrive/car park/Test videos/park_1.mp4: 384x640 (no detections), 50.0ms\n",
            "video 1/1 (frame 91/952) /content/gdrive/MyDrive/car park/Test videos/park_1.mp4: 384x640 (no detections), 47.2ms\n",
            "video 1/1 (frame 92/952) /content/gdrive/MyDrive/car park/Test videos/park_1.mp4: 384x640 (no detections), 14.7ms\n",
            "video 1/1 (frame 93/952) /content/gdrive/MyDrive/car park/Test videos/park_1.mp4: 384x640 (no detections), 32.0ms\n",
            "video 1/1 (frame 94/952) /content/gdrive/MyDrive/car park/Test videos/park_1.mp4: 384x640 (no detections), 44.7ms\n",
            "video 1/1 (frame 95/952) /content/gdrive/MyDrive/car park/Test videos/park_1.mp4: 384x640 (no detections), 27.7ms\n",
            "video 1/1 (frame 96/952) /content/gdrive/MyDrive/car park/Test videos/park_1.mp4: 384x640 (no detections), 36.3ms\n",
            "video 1/1 (frame 97/952) /content/gdrive/MyDrive/car park/Test videos/park_1.mp4: 384x640 (no detections), 44.9ms\n",
            "video 1/1 (frame 98/952) /content/gdrive/MyDrive/car park/Test videos/park_1.mp4: 384x640 (no detections), 12.8ms\n",
            "video 1/1 (frame 99/952) /content/gdrive/MyDrive/car park/Test videos/park_1.mp4: 384x640 (no detections), 34.4ms\n",
            "video 1/1 (frame 100/952) /content/gdrive/MyDrive/car park/Test videos/park_1.mp4: 384x640 (no detections), 30.0ms\n",
            "video 1/1 (frame 101/952) /content/gdrive/MyDrive/car park/Test videos/park_1.mp4: 384x640 (no detections), 64.9ms\n",
            "video 1/1 (frame 102/952) /content/gdrive/MyDrive/car park/Test videos/park_1.mp4: 384x640 (no detections), 43.8ms\n",
            "video 1/1 (frame 103/952) /content/gdrive/MyDrive/car park/Test videos/park_1.mp4: 384x640 (no detections), 35.5ms\n",
            "video 1/1 (frame 104/952) /content/gdrive/MyDrive/car park/Test videos/park_1.mp4: 384x640 (no detections), 63.0ms\n",
            "video 1/1 (frame 105/952) /content/gdrive/MyDrive/car park/Test videos/park_1.mp4: 384x640 (no detections), 34.3ms\n",
            "video 1/1 (frame 106/952) /content/gdrive/MyDrive/car park/Test videos/park_1.mp4: 384x640 (no detections), 15.5ms\n",
            "video 1/1 (frame 107/952) /content/gdrive/MyDrive/car park/Test videos/park_1.mp4: 384x640 (no detections), 19.9ms\n",
            "video 1/1 (frame 108/952) /content/gdrive/MyDrive/car park/Test videos/park_1.mp4: 384x640 (no detections), 13.7ms\n",
            "video 1/1 (frame 109/952) /content/gdrive/MyDrive/car park/Test videos/park_1.mp4: 384x640 (no detections), 14.8ms\n",
            "video 1/1 (frame 110/952) /content/gdrive/MyDrive/car park/Test videos/park_1.mp4: 384x640 (no detections), 35.6ms\n",
            "video 1/1 (frame 111/952) /content/gdrive/MyDrive/car park/Test videos/park_1.mp4: 384x640 (no detections), 11.6ms\n",
            "video 1/1 (frame 112/952) /content/gdrive/MyDrive/car park/Test videos/park_1.mp4: 384x640 (no detections), 26.3ms\n",
            "video 1/1 (frame 113/952) /content/gdrive/MyDrive/car park/Test videos/park_1.mp4: 384x640 (no detections), 14.5ms\n",
            "video 1/1 (frame 114/952) /content/gdrive/MyDrive/car park/Test videos/park_1.mp4: 384x640 (no detections), 12.3ms\n",
            "video 1/1 (frame 115/952) /content/gdrive/MyDrive/car park/Test videos/park_1.mp4: 384x640 (no detections), 12.3ms\n",
            "video 1/1 (frame 116/952) /content/gdrive/MyDrive/car park/Test videos/park_1.mp4: 384x640 (no detections), 12.9ms\n",
            "video 1/1 (frame 117/952) /content/gdrive/MyDrive/car park/Test videos/park_1.mp4: 384x640 (no detections), 25.3ms\n",
            "video 1/1 (frame 118/952) /content/gdrive/MyDrive/car park/Test videos/park_1.mp4: 384x640 (no detections), 13.4ms\n",
            "video 1/1 (frame 119/952) /content/gdrive/MyDrive/car park/Test videos/park_1.mp4: 384x640 (no detections), 14.2ms\n",
            "video 1/1 (frame 120/952) /content/gdrive/MyDrive/car park/Test videos/park_1.mp4: 384x640 (no detections), 13.2ms\n",
            "video 1/1 (frame 121/952) /content/gdrive/MyDrive/car park/Test videos/park_1.mp4: 384x640 (no detections), 19.1ms\n",
            "video 1/1 (frame 122/952) /content/gdrive/MyDrive/car park/Test videos/park_1.mp4: 384x640 (no detections), 13.6ms\n",
            "video 1/1 (frame 123/952) /content/gdrive/MyDrive/car park/Test videos/park_1.mp4: 384x640 (no detections), 14.4ms\n",
            "video 1/1 (frame 124/952) /content/gdrive/MyDrive/car park/Test videos/park_1.mp4: 384x640 (no detections), 14.7ms\n",
            "video 1/1 (frame 125/952) /content/gdrive/MyDrive/car park/Test videos/park_1.mp4: 384x640 (no detections), 21.4ms\n",
            "video 1/1 (frame 126/952) /content/gdrive/MyDrive/car park/Test videos/park_1.mp4: 384x640 (no detections), 13.1ms\n",
            "video 1/1 (frame 127/952) /content/gdrive/MyDrive/car park/Test videos/park_1.mp4: 384x640 (no detections), 35.1ms\n",
            "video 1/1 (frame 128/952) /content/gdrive/MyDrive/car park/Test videos/park_1.mp4: 384x640 (no detections), 13.1ms\n",
            "video 1/1 (frame 129/952) /content/gdrive/MyDrive/car park/Test videos/park_1.mp4: 384x640 (no detections), 15.4ms\n",
            "video 1/1 (frame 130/952) /content/gdrive/MyDrive/car park/Test videos/park_1.mp4: 384x640 (no detections), 13.4ms\n",
            "video 1/1 (frame 131/952) /content/gdrive/MyDrive/car park/Test videos/park_1.mp4: 384x640 (no detections), 12.7ms\n",
            "video 1/1 (frame 132/952) /content/gdrive/MyDrive/car park/Test videos/park_1.mp4: 384x640 (no detections), 14.4ms\n",
            "video 1/1 (frame 133/952) /content/gdrive/MyDrive/car park/Test videos/park_1.mp4: 384x640 (no detections), 13.8ms\n",
            "video 1/1 (frame 134/952) /content/gdrive/MyDrive/car park/Test videos/park_1.mp4: 384x640 (no detections), 13.7ms\n",
            "video 1/1 (frame 135/952) /content/gdrive/MyDrive/car park/Test videos/park_1.mp4: 384x640 (no detections), 19.5ms\n",
            "video 1/1 (frame 136/952) /content/gdrive/MyDrive/car park/Test videos/park_1.mp4: 384x640 (no detections), 82.5ms\n",
            "video 1/1 (frame 137/952) /content/gdrive/MyDrive/car park/Test videos/park_1.mp4: 384x640 (no detections), 23.2ms\n",
            "video 1/1 (frame 138/952) /content/gdrive/MyDrive/car park/Test videos/park_1.mp4: 384x640 (no detections), 14.7ms\n",
            "video 1/1 (frame 139/952) /content/gdrive/MyDrive/car park/Test videos/park_1.mp4: 384x640 (no detections), 13.7ms\n",
            "video 1/1 (frame 140/952) /content/gdrive/MyDrive/car park/Test videos/park_1.mp4: 384x640 (no detections), 19.8ms\n",
            "video 1/1 (frame 141/952) /content/gdrive/MyDrive/car park/Test videos/park_1.mp4: 384x640 (no detections), 13.3ms\n",
            "video 1/1 (frame 142/952) /content/gdrive/MyDrive/car park/Test videos/park_1.mp4: 384x640 (no detections), 14.3ms\n",
            "video 1/1 (frame 143/952) /content/gdrive/MyDrive/car park/Test videos/park_1.mp4: 384x640 (no detections), 17.8ms\n",
            "video 1/1 (frame 144/952) /content/gdrive/MyDrive/car park/Test videos/park_1.mp4: 384x640 (no detections), 13.5ms\n",
            "video 1/1 (frame 145/952) /content/gdrive/MyDrive/car park/Test videos/park_1.mp4: 384x640 (no detections), 13.9ms\n",
            "video 1/1 (frame 146/952) /content/gdrive/MyDrive/car park/Test videos/park_1.mp4: 384x640 (no detections), 24.9ms\n",
            "video 1/1 (frame 147/952) /content/gdrive/MyDrive/car park/Test videos/park_1.mp4: 384x640 (no detections), 15.0ms\n",
            "video 1/1 (frame 148/952) /content/gdrive/MyDrive/car park/Test videos/park_1.mp4: 384x640 (no detections), 63.9ms\n",
            "video 1/1 (frame 149/952) /content/gdrive/MyDrive/car park/Test videos/park_1.mp4: 384x640 (no detections), 16.8ms\n",
            "video 1/1 (frame 150/952) /content/gdrive/MyDrive/car park/Test videos/park_1.mp4: 384x640 (no detections), 46.9ms\n",
            "video 1/1 (frame 151/952) /content/gdrive/MyDrive/car park/Test videos/park_1.mp4: 384x640 (no detections), 26.0ms\n",
            "video 1/1 (frame 152/952) /content/gdrive/MyDrive/car park/Test videos/park_1.mp4: 384x640 (no detections), 17.9ms\n",
            "video 1/1 (frame 153/952) /content/gdrive/MyDrive/car park/Test videos/park_1.mp4: 384x640 (no detections), 30.3ms\n",
            "video 1/1 (frame 154/952) /content/gdrive/MyDrive/car park/Test videos/park_1.mp4: 384x640 (no detections), 17.7ms\n",
            "video 1/1 (frame 155/952) /content/gdrive/MyDrive/car park/Test videos/park_1.mp4: 384x640 (no detections), 23.7ms\n",
            "video 1/1 (frame 156/952) /content/gdrive/MyDrive/car park/Test videos/park_1.mp4: 384x640 (no detections), 16.0ms\n",
            "video 1/1 (frame 157/952) /content/gdrive/MyDrive/car park/Test videos/park_1.mp4: 384x640 (no detections), 30.6ms\n",
            "video 1/1 (frame 158/952) /content/gdrive/MyDrive/car park/Test videos/park_1.mp4: 384x640 (no detections), 22.0ms\n",
            "video 1/1 (frame 159/952) /content/gdrive/MyDrive/car park/Test videos/park_1.mp4: 384x640 (no detections), 50.4ms\n",
            "video 1/1 (frame 160/952) /content/gdrive/MyDrive/car park/Test videos/park_1.mp4: 384x640 (no detections), 13.4ms\n",
            "video 1/1 (frame 161/952) /content/gdrive/MyDrive/car park/Test videos/park_1.mp4: 384x640 1 EMPTY, 15.7ms\n",
            "video 1/1 (frame 162/952) /content/gdrive/MyDrive/car park/Test videos/park_1.mp4: 384x640 1 EMPTY, 16.4ms\n",
            "video 1/1 (frame 163/952) /content/gdrive/MyDrive/car park/Test videos/park_1.mp4: 384x640 1 EMPTY, 13.4ms\n",
            "video 1/1 (frame 164/952) /content/gdrive/MyDrive/car park/Test videos/park_1.mp4: 384x640 1 EMPTY, 14.3ms\n",
            "video 1/1 (frame 165/952) /content/gdrive/MyDrive/car park/Test videos/park_1.mp4: 384x640 1 EMPTY, 33.2ms\n",
            "video 1/1 (frame 166/952) /content/gdrive/MyDrive/car park/Test videos/park_1.mp4: 384x640 1 EMPTY, 13.8ms\n",
            "video 1/1 (frame 167/952) /content/gdrive/MyDrive/car park/Test videos/park_1.mp4: 384x640 1 EMPTY, 12.8ms\n",
            "video 1/1 (frame 168/952) /content/gdrive/MyDrive/car park/Test videos/park_1.mp4: 384x640 1 EMPTY, 32.5ms\n",
            "video 1/1 (frame 169/952) /content/gdrive/MyDrive/car park/Test videos/park_1.mp4: 384x640 1 EMPTY, 41.1ms\n",
            "video 1/1 (frame 170/952) /content/gdrive/MyDrive/car park/Test videos/park_1.mp4: 384x640 1 EMPTY, 15.3ms\n",
            "video 1/1 (frame 171/952) /content/gdrive/MyDrive/car park/Test videos/park_1.mp4: 384x640 1 EMPTY, 23.1ms\n",
            "video 1/1 (frame 172/952) /content/gdrive/MyDrive/car park/Test videos/park_1.mp4: 384x640 1 EMPTY, 31.8ms\n",
            "video 1/1 (frame 173/952) /content/gdrive/MyDrive/car park/Test videos/park_1.mp4: 384x640 1 EMPTY, 33.9ms\n",
            "video 1/1 (frame 174/952) /content/gdrive/MyDrive/car park/Test videos/park_1.mp4: 384x640 1 EMPTY, 15.3ms\n",
            "video 1/1 (frame 175/952) /content/gdrive/MyDrive/car park/Test videos/park_1.mp4: 384x640 1 EMPTY, 14.3ms\n",
            "video 1/1 (frame 176/952) /content/gdrive/MyDrive/car park/Test videos/park_1.mp4: 384x640 1 EMPTY, 7.7ms\n",
            "video 1/1 (frame 177/952) /content/gdrive/MyDrive/car park/Test videos/park_1.mp4: 384x640 1 EMPTY, 9.9ms\n",
            "video 1/1 (frame 178/952) /content/gdrive/MyDrive/car park/Test videos/park_1.mp4: 384x640 1 EMPTY, 9.8ms\n",
            "video 1/1 (frame 179/952) /content/gdrive/MyDrive/car park/Test videos/park_1.mp4: 384x640 1 EMPTY, 13.9ms\n",
            "video 1/1 (frame 180/952) /content/gdrive/MyDrive/car park/Test videos/park_1.mp4: 384x640 1 EMPTY, 8.2ms\n",
            "video 1/1 (frame 181/952) /content/gdrive/MyDrive/car park/Test videos/park_1.mp4: 384x640 1 EMPTY, 9.4ms\n",
            "video 1/1 (frame 182/952) /content/gdrive/MyDrive/car park/Test videos/park_1.mp4: 384x640 1 EMPTY, 8.0ms\n",
            "video 1/1 (frame 183/952) /content/gdrive/MyDrive/car park/Test videos/park_1.mp4: 384x640 1 EMPTY, 11.2ms\n",
            "video 1/1 (frame 184/952) /content/gdrive/MyDrive/car park/Test videos/park_1.mp4: 384x640 1 EMPTY, 8.2ms\n",
            "video 1/1 (frame 185/952) /content/gdrive/MyDrive/car park/Test videos/park_1.mp4: 384x640 1 EMPTY, 8.0ms\n",
            "video 1/1 (frame 186/952) /content/gdrive/MyDrive/car park/Test videos/park_1.mp4: 384x640 1 EMPTY, 10.2ms\n",
            "video 1/1 (frame 187/952) /content/gdrive/MyDrive/car park/Test videos/park_1.mp4: 384x640 1 EMPTY, 8.6ms\n",
            "video 1/1 (frame 188/952) /content/gdrive/MyDrive/car park/Test videos/park_1.mp4: 384x640 1 EMPTY, 12.8ms\n",
            "video 1/1 (frame 189/952) /content/gdrive/MyDrive/car park/Test videos/park_1.mp4: 384x640 1 EMPTY, 13.3ms\n",
            "video 1/1 (frame 190/952) /content/gdrive/MyDrive/car park/Test videos/park_1.mp4: 384x640 1 EMPTY, 8.5ms\n",
            "video 1/1 (frame 191/952) /content/gdrive/MyDrive/car park/Test videos/park_1.mp4: 384x640 1 EMPTY, 9.4ms\n",
            "video 1/1 (frame 192/952) /content/gdrive/MyDrive/car park/Test videos/park_1.mp4: 384x640 1 EMPTY, 7.9ms\n",
            "video 1/1 (frame 193/952) /content/gdrive/MyDrive/car park/Test videos/park_1.mp4: 384x640 1 EMPTY, 10.6ms\n",
            "video 1/1 (frame 194/952) /content/gdrive/MyDrive/car park/Test videos/park_1.mp4: 384x640 1 EMPTY, 8.1ms\n",
            "video 1/1 (frame 195/952) /content/gdrive/MyDrive/car park/Test videos/park_1.mp4: 384x640 1 EMPTY, 10.0ms\n",
            "video 1/1 (frame 196/952) /content/gdrive/MyDrive/car park/Test videos/park_1.mp4: 384x640 1 EMPTY, 10.3ms\n",
            "video 1/1 (frame 197/952) /content/gdrive/MyDrive/car park/Test videos/park_1.mp4: 384x640 1 EMPTY, 8.1ms\n",
            "video 1/1 (frame 198/952) /content/gdrive/MyDrive/car park/Test videos/park_1.mp4: 384x640 1 EMPTY, 9.9ms\n",
            "video 1/1 (frame 199/952) /content/gdrive/MyDrive/car park/Test videos/park_1.mp4: 384x640 1 EMPTY, 8.1ms\n",
            "video 1/1 (frame 200/952) /content/gdrive/MyDrive/car park/Test videos/park_1.mp4: 384x640 1 EMPTY, 11.0ms\n",
            "video 1/1 (frame 201/952) /content/gdrive/MyDrive/car park/Test videos/park_1.mp4: 384x640 1 EMPTY, 8.0ms\n",
            "video 1/1 (frame 202/952) /content/gdrive/MyDrive/car park/Test videos/park_1.mp4: 384x640 1 EMPTY, 7.9ms\n",
            "video 1/1 (frame 203/952) /content/gdrive/MyDrive/car park/Test videos/park_1.mp4: 384x640 1 EMPTY, 8.1ms\n",
            "video 1/1 (frame 204/952) /content/gdrive/MyDrive/car park/Test videos/park_1.mp4: 384x640 1 EMPTY, 8.2ms\n",
            "video 1/1 (frame 205/952) /content/gdrive/MyDrive/car park/Test videos/park_1.mp4: 384x640 1 EMPTY, 9.7ms\n",
            "video 1/1 (frame 206/952) /content/gdrive/MyDrive/car park/Test videos/park_1.mp4: 384x640 1 EMPTY, 9.8ms\n",
            "video 1/1 (frame 207/952) /content/gdrive/MyDrive/car park/Test videos/park_1.mp4: 384x640 1 EMPTY, 8.8ms\n",
            "video 1/1 (frame 208/952) /content/gdrive/MyDrive/car park/Test videos/park_1.mp4: 384x640 1 EMPTY, 15.4ms\n",
            "video 1/1 (frame 209/952) /content/gdrive/MyDrive/car park/Test videos/park_1.mp4: 384x640 1 EMPTY, 8.7ms\n",
            "video 1/1 (frame 210/952) /content/gdrive/MyDrive/car park/Test videos/park_1.mp4: 384x640 1 EMPTY, 8.5ms\n",
            "video 1/1 (frame 211/952) /content/gdrive/MyDrive/car park/Test videos/park_1.mp4: 384x640 1 EMPTY, 8.2ms\n",
            "video 1/1 (frame 212/952) /content/gdrive/MyDrive/car park/Test videos/park_1.mp4: 384x640 1 EMPTY, 8.4ms\n",
            "video 1/1 (frame 213/952) /content/gdrive/MyDrive/car park/Test videos/park_1.mp4: 384x640 1 EMPTY, 9.6ms\n",
            "video 1/1 (frame 214/952) /content/gdrive/MyDrive/car park/Test videos/park_1.mp4: 384x640 1 EMPTY, 11.2ms\n",
            "video 1/1 (frame 215/952) /content/gdrive/MyDrive/car park/Test videos/park_1.mp4: 384x640 1 EMPTY, 9.8ms\n",
            "video 1/1 (frame 216/952) /content/gdrive/MyDrive/car park/Test videos/park_1.mp4: 384x640 1 EMPTY, 8.1ms\n",
            "video 1/1 (frame 217/952) /content/gdrive/MyDrive/car park/Test videos/park_1.mp4: 384x640 1 EMPTY, 9.1ms\n",
            "video 1/1 (frame 218/952) /content/gdrive/MyDrive/car park/Test videos/park_1.mp4: 384x640 1 EMPTY, 10.8ms\n",
            "video 1/1 (frame 219/952) /content/gdrive/MyDrive/car park/Test videos/park_1.mp4: 384x640 1 EMPTY, 7.8ms\n",
            "video 1/1 (frame 220/952) /content/gdrive/MyDrive/car park/Test videos/park_1.mp4: 384x640 1 EMPTY, 15.1ms\n",
            "video 1/1 (frame 221/952) /content/gdrive/MyDrive/car park/Test videos/park_1.mp4: 384x640 1 EMPTY, 19.3ms\n",
            "video 1/1 (frame 222/952) /content/gdrive/MyDrive/car park/Test videos/park_1.mp4: 384x640 1 EMPTY, 10.8ms\n",
            "video 1/1 (frame 223/952) /content/gdrive/MyDrive/car park/Test videos/park_1.mp4: 384x640 1 EMPTY, 11.7ms\n",
            "video 1/1 (frame 224/952) /content/gdrive/MyDrive/car park/Test videos/park_1.mp4: 384x640 1 EMPTY, 12.2ms\n",
            "video 1/1 (frame 225/952) /content/gdrive/MyDrive/car park/Test videos/park_1.mp4: 384x640 1 EMPTY, 8.1ms\n",
            "video 1/1 (frame 226/952) /content/gdrive/MyDrive/car park/Test videos/park_1.mp4: 384x640 1 EMPTY, 9.4ms\n",
            "video 1/1 (frame 227/952) /content/gdrive/MyDrive/car park/Test videos/park_1.mp4: 384x640 1 EMPTY, 11.7ms\n",
            "video 1/1 (frame 228/952) /content/gdrive/MyDrive/car park/Test videos/park_1.mp4: 384x640 1 EMPTY, 9.6ms\n",
            "video 1/1 (frame 229/952) /content/gdrive/MyDrive/car park/Test videos/park_1.mp4: 384x640 1 EMPTY, 9.8ms\n",
            "video 1/1 (frame 230/952) /content/gdrive/MyDrive/car park/Test videos/park_1.mp4: 384x640 2 EMPTYs, 8.0ms\n",
            "video 1/1 (frame 231/952) /content/gdrive/MyDrive/car park/Test videos/park_1.mp4: 384x640 2 EMPTYs, 8.2ms\n",
            "video 1/1 (frame 232/952) /content/gdrive/MyDrive/car park/Test videos/park_1.mp4: 384x640 1 EMPTY, 7.9ms\n",
            "video 1/1 (frame 233/952) /content/gdrive/MyDrive/car park/Test videos/park_1.mp4: 384x640 2 EMPTYs, 8.7ms\n",
            "video 1/1 (frame 234/952) /content/gdrive/MyDrive/car park/Test videos/park_1.mp4: 384x640 2 EMPTYs, 7.7ms\n",
            "video 1/1 (frame 235/952) /content/gdrive/MyDrive/car park/Test videos/park_1.mp4: 384x640 2 EMPTYs, 9.7ms\n",
            "video 1/1 (frame 236/952) /content/gdrive/MyDrive/car park/Test videos/park_1.mp4: 384x640 2 EMPTYs, 12.6ms\n",
            "video 1/1 (frame 237/952) /content/gdrive/MyDrive/car park/Test videos/park_1.mp4: 384x640 2 EMPTYs, 10.8ms\n",
            "video 1/1 (frame 238/952) /content/gdrive/MyDrive/car park/Test videos/park_1.mp4: 384x640 2 EMPTYs, 13.8ms\n",
            "video 1/1 (frame 239/952) /content/gdrive/MyDrive/car park/Test videos/park_1.mp4: 384x640 2 EMPTYs, 14.0ms\n",
            "video 1/1 (frame 240/952) /content/gdrive/MyDrive/car park/Test videos/park_1.mp4: 384x640 2 EMPTYs, 9.0ms\n",
            "video 1/1 (frame 241/952) /content/gdrive/MyDrive/car park/Test videos/park_1.mp4: 384x640 2 EMPTYs, 10.4ms\n",
            "video 1/1 (frame 242/952) /content/gdrive/MyDrive/car park/Test videos/park_1.mp4: 384x640 2 EMPTYs, 11.3ms\n",
            "video 1/1 (frame 243/952) /content/gdrive/MyDrive/car park/Test videos/park_1.mp4: 384x640 2 EMPTYs, 9.8ms\n",
            "video 1/1 (frame 244/952) /content/gdrive/MyDrive/car park/Test videos/park_1.mp4: 384x640 2 EMPTYs, 8.6ms\n",
            "video 1/1 (frame 245/952) /content/gdrive/MyDrive/car park/Test videos/park_1.mp4: 384x640 2 EMPTYs, 14.4ms\n",
            "video 1/1 (frame 246/952) /content/gdrive/MyDrive/car park/Test videos/park_1.mp4: 384x640 2 EMPTYs, 8.1ms\n",
            "video 1/1 (frame 247/952) /content/gdrive/MyDrive/car park/Test videos/park_1.mp4: 384x640 2 EMPTYs, 11.6ms\n",
            "video 1/1 (frame 248/952) /content/gdrive/MyDrive/car park/Test videos/park_1.mp4: 384x640 2 EMPTYs, 8.4ms\n",
            "video 1/1 (frame 249/952) /content/gdrive/MyDrive/car park/Test videos/park_1.mp4: 384x640 2 EMPTYs, 13.2ms\n",
            "video 1/1 (frame 250/952) /content/gdrive/MyDrive/car park/Test videos/park_1.mp4: 384x640 1 EMPTY, 8.0ms\n",
            "video 1/1 (frame 251/952) /content/gdrive/MyDrive/car park/Test videos/park_1.mp4: 384x640 2 EMPTYs, 10.3ms\n",
            "video 1/1 (frame 252/952) /content/gdrive/MyDrive/car park/Test videos/park_1.mp4: 384x640 1 EMPTY, 8.1ms\n",
            "video 1/1 (frame 253/952) /content/gdrive/MyDrive/car park/Test videos/park_1.mp4: 384x640 1 EMPTY, 8.6ms\n",
            "video 1/1 (frame 254/952) /content/gdrive/MyDrive/car park/Test videos/park_1.mp4: 384x640 1 EMPTY, 10.9ms\n",
            "video 1/1 (frame 255/952) /content/gdrive/MyDrive/car park/Test videos/park_1.mp4: 384x640 1 EMPTY, 7.9ms\n",
            "video 1/1 (frame 256/952) /content/gdrive/MyDrive/car park/Test videos/park_1.mp4: 384x640 1 EMPTY, 10.8ms\n",
            "video 1/1 (frame 257/952) /content/gdrive/MyDrive/car park/Test videos/park_1.mp4: 384x640 2 EMPTYs, 8.0ms\n",
            "video 1/1 (frame 258/952) /content/gdrive/MyDrive/car park/Test videos/park_1.mp4: 384x640 2 EMPTYs, 10.1ms\n",
            "video 1/1 (frame 259/952) /content/gdrive/MyDrive/car park/Test videos/park_1.mp4: 384x640 1 EMPTY, 7.9ms\n",
            "video 1/1 (frame 260/952) /content/gdrive/MyDrive/car park/Test videos/park_1.mp4: 384x640 2 EMPTYs, 10.6ms\n",
            "video 1/1 (frame 261/952) /content/gdrive/MyDrive/car park/Test videos/park_1.mp4: 384x640 2 EMPTYs, 9.9ms\n",
            "video 1/1 (frame 262/952) /content/gdrive/MyDrive/car park/Test videos/park_1.mp4: 384x640 2 EMPTYs, 9.0ms\n",
            "video 1/1 (frame 263/952) /content/gdrive/MyDrive/car park/Test videos/park_1.mp4: 384x640 2 EMPTYs, 8.2ms\n",
            "video 1/1 (frame 264/952) /content/gdrive/MyDrive/car park/Test videos/park_1.mp4: 384x640 2 EMPTYs, 11.1ms\n",
            "video 1/1 (frame 265/952) /content/gdrive/MyDrive/car park/Test videos/park_1.mp4: 384x640 2 EMPTYs, 17.4ms\n",
            "video 1/1 (frame 266/952) /content/gdrive/MyDrive/car park/Test videos/park_1.mp4: 384x640 2 EMPTYs, 15.0ms\n",
            "video 1/1 (frame 267/952) /content/gdrive/MyDrive/car park/Test videos/park_1.mp4: 384x640 2 EMPTYs, 7.9ms\n",
            "video 1/1 (frame 268/952) /content/gdrive/MyDrive/car park/Test videos/park_1.mp4: 384x640 2 EMPTYs, 11.9ms\n",
            "video 1/1 (frame 269/952) /content/gdrive/MyDrive/car park/Test videos/park_1.mp4: 384x640 2 EMPTYs, 8.1ms\n",
            "video 1/1 (frame 270/952) /content/gdrive/MyDrive/car park/Test videos/park_1.mp4: 384x640 2 EMPTYs, 10.4ms\n",
            "video 1/1 (frame 271/952) /content/gdrive/MyDrive/car park/Test videos/park_1.mp4: 384x640 2 EMPTYs, 8.5ms\n",
            "video 1/1 (frame 272/952) /content/gdrive/MyDrive/car park/Test videos/park_1.mp4: 384x640 1 EMPTY, 12.3ms\n",
            "video 1/1 (frame 273/952) /content/gdrive/MyDrive/car park/Test videos/park_1.mp4: 384x640 1 EMPTY, 17.9ms\n",
            "video 1/1 (frame 274/952) /content/gdrive/MyDrive/car park/Test videos/park_1.mp4: 384x640 1 EMPTY, 12.8ms\n",
            "video 1/1 (frame 275/952) /content/gdrive/MyDrive/car park/Test videos/park_1.mp4: 384x640 1 EMPTY, 14.4ms\n",
            "video 1/1 (frame 276/952) /content/gdrive/MyDrive/car park/Test videos/park_1.mp4: 384x640 1 EMPTY, 12.3ms\n",
            "video 1/1 (frame 277/952) /content/gdrive/MyDrive/car park/Test videos/park_1.mp4: 384x640 1 EMPTY, 14.8ms\n",
            "video 1/1 (frame 278/952) /content/gdrive/MyDrive/car park/Test videos/park_1.mp4: 384x640 1 EMPTY, 10.4ms\n",
            "video 1/1 (frame 279/952) /content/gdrive/MyDrive/car park/Test videos/park_1.mp4: 384x640 1 EMPTY, 17.2ms\n",
            "video 1/1 (frame 280/952) /content/gdrive/MyDrive/car park/Test videos/park_1.mp4: 384x640 2 EMPTYs, 11.6ms\n",
            "video 1/1 (frame 281/952) /content/gdrive/MyDrive/car park/Test videos/park_1.mp4: 384x640 2 EMPTYs, 10.4ms\n",
            "video 1/1 (frame 282/952) /content/gdrive/MyDrive/car park/Test videos/park_1.mp4: 384x640 2 EMPTYs, 13.5ms\n",
            "video 1/1 (frame 283/952) /content/gdrive/MyDrive/car park/Test videos/park_1.mp4: 384x640 2 EMPTYs, 10.2ms\n",
            "video 1/1 (frame 284/952) /content/gdrive/MyDrive/car park/Test videos/park_1.mp4: 384x640 2 EMPTYs, 14.3ms\n",
            "video 1/1 (frame 285/952) /content/gdrive/MyDrive/car park/Test videos/park_1.mp4: 384x640 2 EMPTYs, 18.0ms\n",
            "video 1/1 (frame 286/952) /content/gdrive/MyDrive/car park/Test videos/park_1.mp4: 384x640 2 EMPTYs, 9.9ms\n",
            "video 1/1 (frame 287/952) /content/gdrive/MyDrive/car park/Test videos/park_1.mp4: 384x640 2 EMPTYs, 16.6ms\n",
            "video 1/1 (frame 288/952) /content/gdrive/MyDrive/car park/Test videos/park_1.mp4: 384x640 1 EMPTY, 11.3ms\n",
            "video 1/1 (frame 289/952) /content/gdrive/MyDrive/car park/Test videos/park_1.mp4: 384x640 2 EMPTYs, 12.3ms\n",
            "video 1/1 (frame 290/952) /content/gdrive/MyDrive/car park/Test videos/park_1.mp4: 384x640 2 EMPTYs, 12.8ms\n",
            "video 1/1 (frame 291/952) /content/gdrive/MyDrive/car park/Test videos/park_1.mp4: 384x640 2 EMPTYs, 15.1ms\n",
            "video 1/1 (frame 292/952) /content/gdrive/MyDrive/car park/Test videos/park_1.mp4: 384x640 2 EMPTYs, 10.3ms\n",
            "video 1/1 (frame 293/952) /content/gdrive/MyDrive/car park/Test videos/park_1.mp4: 384x640 2 EMPTYs, 11.2ms\n",
            "video 1/1 (frame 294/952) /content/gdrive/MyDrive/car park/Test videos/park_1.mp4: 384x640 2 EMPTYs, 9.9ms\n",
            "video 1/1 (frame 295/952) /content/gdrive/MyDrive/car park/Test videos/park_1.mp4: 384x640 2 EMPTYs, 12.5ms\n",
            "video 1/1 (frame 296/952) /content/gdrive/MyDrive/car park/Test videos/park_1.mp4: 384x640 2 EMPTYs, 10.3ms\n",
            "video 1/1 (frame 297/952) /content/gdrive/MyDrive/car park/Test videos/park_1.mp4: 384x640 2 EMPTYs, 17.5ms\n",
            "video 1/1 (frame 298/952) /content/gdrive/MyDrive/car park/Test videos/park_1.mp4: 384x640 2 EMPTYs, 14.2ms\n",
            "video 1/1 (frame 299/952) /content/gdrive/MyDrive/car park/Test videos/park_1.mp4: 384x640 2 EMPTYs, 11.4ms\n",
            "video 1/1 (frame 300/952) /content/gdrive/MyDrive/car park/Test videos/park_1.mp4: 384x640 2 EMPTYs, 10.0ms\n",
            "video 1/1 (frame 301/952) /content/gdrive/MyDrive/car park/Test videos/park_1.mp4: 384x640 2 EMPTYs, 10.2ms\n",
            "video 1/1 (frame 302/952) /content/gdrive/MyDrive/car park/Test videos/park_1.mp4: 384x640 2 EMPTYs, 12.7ms\n",
            "video 1/1 (frame 303/952) /content/gdrive/MyDrive/car park/Test videos/park_1.mp4: 384x640 2 EMPTYs, 12.6ms\n",
            "video 1/1 (frame 304/952) /content/gdrive/MyDrive/car park/Test videos/park_1.mp4: 384x640 2 EMPTYs, 13.7ms\n",
            "video 1/1 (frame 305/952) /content/gdrive/MyDrive/car park/Test videos/park_1.mp4: 384x640 2 EMPTYs, 12.8ms\n",
            "video 1/1 (frame 306/952) /content/gdrive/MyDrive/car park/Test videos/park_1.mp4: 384x640 2 EMPTYs, 11.3ms\n",
            "video 1/1 (frame 307/952) /content/gdrive/MyDrive/car park/Test videos/park_1.mp4: 384x640 2 EMPTYs, 13.0ms\n",
            "video 1/1 (frame 308/952) /content/gdrive/MyDrive/car park/Test videos/park_1.mp4: 384x640 2 EMPTYs, 10.6ms\n",
            "video 1/1 (frame 309/952) /content/gdrive/MyDrive/car park/Test videos/park_1.mp4: 384x640 2 EMPTYs, 13.7ms\n",
            "video 1/1 (frame 310/952) /content/gdrive/MyDrive/car park/Test videos/park_1.mp4: 384x640 2 EMPTYs, 11.6ms\n",
            "video 1/1 (frame 311/952) /content/gdrive/MyDrive/car park/Test videos/park_1.mp4: 384x640 2 EMPTYs, 11.3ms\n",
            "video 1/1 (frame 312/952) /content/gdrive/MyDrive/car park/Test videos/park_1.mp4: 384x640 1 OCCUPIED, 2 EMPTYs, 10.4ms\n",
            "video 1/1 (frame 313/952) /content/gdrive/MyDrive/car park/Test videos/park_1.mp4: 384x640 1 OCCUPIED, 2 EMPTYs, 11.9ms\n",
            "video 1/1 (frame 314/952) /content/gdrive/MyDrive/car park/Test videos/park_1.mp4: 384x640 2 EMPTYs, 11.9ms\n",
            "video 1/1 (frame 315/952) /content/gdrive/MyDrive/car park/Test videos/park_1.mp4: 384x640 2 EMPTYs, 11.3ms\n",
            "video 1/1 (frame 316/952) /content/gdrive/MyDrive/car park/Test videos/park_1.mp4: 384x640 2 EMPTYs, 10.1ms\n",
            "video 1/1 (frame 317/952) /content/gdrive/MyDrive/car park/Test videos/park_1.mp4: 384x640 2 EMPTYs, 10.7ms\n",
            "video 1/1 (frame 318/952) /content/gdrive/MyDrive/car park/Test videos/park_1.mp4: 384x640 2 EMPTYs, 15.3ms\n",
            "video 1/1 (frame 319/952) /content/gdrive/MyDrive/car park/Test videos/park_1.mp4: 384x640 2 EMPTYs, 9.9ms\n",
            "video 1/1 (frame 320/952) /content/gdrive/MyDrive/car park/Test videos/park_1.mp4: 384x640 1 OCCUPIED, 2 EMPTYs, 10.4ms\n",
            "video 1/1 (frame 321/952) /content/gdrive/MyDrive/car park/Test videos/park_1.mp4: 384x640 2 EMPTYs, 10.3ms\n",
            "video 1/1 (frame 322/952) /content/gdrive/MyDrive/car park/Test videos/park_1.mp4: 384x640 2 EMPTYs, 9.8ms\n",
            "video 1/1 (frame 323/952) /content/gdrive/MyDrive/car park/Test videos/park_1.mp4: 384x640 2 EMPTYs, 11.5ms\n",
            "video 1/1 (frame 324/952) /content/gdrive/MyDrive/car park/Test videos/park_1.mp4: 384x640 1 OCCUPIED, 2 EMPTYs, 11.3ms\n",
            "video 1/1 (frame 325/952) /content/gdrive/MyDrive/car park/Test videos/park_1.mp4: 384x640 2 EMPTYs, 12.3ms\n",
            "video 1/1 (frame 326/952) /content/gdrive/MyDrive/car park/Test videos/park_1.mp4: 384x640 1 OCCUPIED, 2 EMPTYs, 11.6ms\n",
            "video 1/1 (frame 327/952) /content/gdrive/MyDrive/car park/Test videos/park_1.mp4: 384x640 1 OCCUPIED, 2 EMPTYs, 12.4ms\n",
            "video 1/1 (frame 328/952) /content/gdrive/MyDrive/car park/Test videos/park_1.mp4: 384x640 1 OCCUPIED, 2 EMPTYs, 10.3ms\n",
            "video 1/1 (frame 329/952) /content/gdrive/MyDrive/car park/Test videos/park_1.mp4: 384x640 1 OCCUPIED, 2 EMPTYs, 12.2ms\n",
            "video 1/1 (frame 330/952) /content/gdrive/MyDrive/car park/Test videos/park_1.mp4: 384x640 1 OCCUPIED, 2 EMPTYs, 16.5ms\n",
            "video 1/1 (frame 331/952) /content/gdrive/MyDrive/car park/Test videos/park_1.mp4: 384x640 1 OCCUPIED, 2 EMPTYs, 12.8ms\n",
            "video 1/1 (frame 332/952) /content/gdrive/MyDrive/car park/Test videos/park_1.mp4: 384x640 1 OCCUPIED, 2 EMPTYs, 13.8ms\n",
            "video 1/1 (frame 333/952) /content/gdrive/MyDrive/car park/Test videos/park_1.mp4: 384x640 1 OCCUPIED, 2 EMPTYs, 10.9ms\n",
            "video 1/1 (frame 334/952) /content/gdrive/MyDrive/car park/Test videos/park_1.mp4: 384x640 1 OCCUPIED, 2 EMPTYs, 16.4ms\n",
            "video 1/1 (frame 335/952) /content/gdrive/MyDrive/car park/Test videos/park_1.mp4: 384x640 1 OCCUPIED, 2 EMPTYs, 17.4ms\n",
            "video 1/1 (frame 336/952) /content/gdrive/MyDrive/car park/Test videos/park_1.mp4: 384x640 1 OCCUPIED, 2 EMPTYs, 10.5ms\n",
            "video 1/1 (frame 337/952) /content/gdrive/MyDrive/car park/Test videos/park_1.mp4: 384x640 1 OCCUPIED, 2 EMPTYs, 15.4ms\n",
            "video 1/1 (frame 338/952) /content/gdrive/MyDrive/car park/Test videos/park_1.mp4: 384x640 1 OCCUPIED, 2 EMPTYs, 12.7ms\n",
            "video 1/1 (frame 339/952) /content/gdrive/MyDrive/car park/Test videos/park_1.mp4: 384x640 1 OCCUPIED, 2 EMPTYs, 18.0ms\n",
            "video 1/1 (frame 340/952) /content/gdrive/MyDrive/car park/Test videos/park_1.mp4: 384x640 1 OCCUPIED, 2 EMPTYs, 14.4ms\n",
            "video 1/1 (frame 341/952) /content/gdrive/MyDrive/car park/Test videos/park_1.mp4: 384x640 1 OCCUPIED, 2 EMPTYs, 15.8ms\n",
            "video 1/1 (frame 342/952) /content/gdrive/MyDrive/car park/Test videos/park_1.mp4: 384x640 1 OCCUPIED, 2 EMPTYs, 14.1ms\n",
            "video 1/1 (frame 343/952) /content/gdrive/MyDrive/car park/Test videos/park_1.mp4: 384x640 1 OCCUPIED, 2 EMPTYs, 13.0ms\n",
            "video 1/1 (frame 344/952) /content/gdrive/MyDrive/car park/Test videos/park_1.mp4: 384x640 1 OCCUPIED, 2 EMPTYs, 13.4ms\n",
            "video 1/1 (frame 345/952) /content/gdrive/MyDrive/car park/Test videos/park_1.mp4: 384x640 1 OCCUPIED, 2 EMPTYs, 12.6ms\n",
            "video 1/1 (frame 346/952) /content/gdrive/MyDrive/car park/Test videos/park_1.mp4: 384x640 1 OCCUPIED, 2 EMPTYs, 13.8ms\n",
            "video 1/1 (frame 347/952) /content/gdrive/MyDrive/car park/Test videos/park_1.mp4: 384x640 1 OCCUPIED, 2 EMPTYs, 14.7ms\n",
            "video 1/1 (frame 348/952) /content/gdrive/MyDrive/car park/Test videos/park_1.mp4: 384x640 1 OCCUPIED, 2 EMPTYs, 16.3ms\n",
            "video 1/1 (frame 349/952) /content/gdrive/MyDrive/car park/Test videos/park_1.mp4: 384x640 1 OCCUPIED, 2 EMPTYs, 15.4ms\n",
            "video 1/1 (frame 350/952) /content/gdrive/MyDrive/car park/Test videos/park_1.mp4: 384x640 1 OCCUPIED, 2 EMPTYs, 15.6ms\n",
            "video 1/1 (frame 351/952) /content/gdrive/MyDrive/car park/Test videos/park_1.mp4: 384x640 1 OCCUPIED, 2 EMPTYs, 15.4ms\n",
            "video 1/1 (frame 352/952) /content/gdrive/MyDrive/car park/Test videos/park_1.mp4: 384x640 1 OCCUPIED, 2 EMPTYs, 14.7ms\n",
            "video 1/1 (frame 353/952) /content/gdrive/MyDrive/car park/Test videos/park_1.mp4: 384x640 1 OCCUPIED, 2 EMPTYs, 9.8ms\n",
            "video 1/1 (frame 354/952) /content/gdrive/MyDrive/car park/Test videos/park_1.mp4: 384x640 1 OCCUPIED, 2 EMPTYs, 11.6ms\n",
            "video 1/1 (frame 355/952) /content/gdrive/MyDrive/car park/Test videos/park_1.mp4: 384x640 1 OCCUPIED, 2 EMPTYs, 11.8ms\n",
            "video 1/1 (frame 356/952) /content/gdrive/MyDrive/car park/Test videos/park_1.mp4: 384x640 1 OCCUPIED, 2 EMPTYs, 8.1ms\n",
            "video 1/1 (frame 357/952) /content/gdrive/MyDrive/car park/Test videos/park_1.mp4: 384x640 1 OCCUPIED, 2 EMPTYs, 8.0ms\n",
            "video 1/1 (frame 358/952) /content/gdrive/MyDrive/car park/Test videos/park_1.mp4: 384x640 1 OCCUPIED, 2 EMPTYs, 8.2ms\n",
            "video 1/1 (frame 359/952) /content/gdrive/MyDrive/car park/Test videos/park_1.mp4: 384x640 1 OCCUPIED, 2 EMPTYs, 9.7ms\n",
            "video 1/1 (frame 360/952) /content/gdrive/MyDrive/car park/Test videos/park_1.mp4: 384x640 1 OCCUPIED, 2 EMPTYs, 8.6ms\n",
            "video 1/1 (frame 361/952) /content/gdrive/MyDrive/car park/Test videos/park_1.mp4: 384x640 1 OCCUPIED, 2 EMPTYs, 10.9ms\n",
            "video 1/1 (frame 362/952) /content/gdrive/MyDrive/car park/Test videos/park_1.mp4: 384x640 1 OCCUPIED, 2 EMPTYs, 7.8ms\n",
            "video 1/1 (frame 363/952) /content/gdrive/MyDrive/car park/Test videos/park_1.mp4: 384x640 1 OCCUPIED, 2 EMPTYs, 8.6ms\n",
            "video 1/1 (frame 364/952) /content/gdrive/MyDrive/car park/Test videos/park_1.mp4: 384x640 1 OCCUPIED, 2 EMPTYs, 10.4ms\n",
            "video 1/1 (frame 365/952) /content/gdrive/MyDrive/car park/Test videos/park_1.mp4: 384x640 1 OCCUPIED, 2 EMPTYs, 12.7ms\n",
            "video 1/1 (frame 366/952) /content/gdrive/MyDrive/car park/Test videos/park_1.mp4: 384x640 1 OCCUPIED, 2 EMPTYs, 9.1ms\n",
            "video 1/1 (frame 367/952) /content/gdrive/MyDrive/car park/Test videos/park_1.mp4: 384x640 1 OCCUPIED, 2 EMPTYs, 8.9ms\n",
            "video 1/1 (frame 368/952) /content/gdrive/MyDrive/car park/Test videos/park_1.mp4: 384x640 1 OCCUPIED, 2 EMPTYs, 11.5ms\n",
            "video 1/1 (frame 369/952) /content/gdrive/MyDrive/car park/Test videos/park_1.mp4: 384x640 1 OCCUPIED, 1 EMPTY, 9.3ms\n",
            "video 1/1 (frame 370/952) /content/gdrive/MyDrive/car park/Test videos/park_1.mp4: 384x640 1 OCCUPIED, 2 EMPTYs, 8.0ms\n",
            "video 1/1 (frame 371/952) /content/gdrive/MyDrive/car park/Test videos/park_1.mp4: 384x640 1 OCCUPIED, 2 EMPTYs, 11.0ms\n",
            "video 1/1 (frame 372/952) /content/gdrive/MyDrive/car park/Test videos/park_1.mp4: 384x640 1 OCCUPIED, 2 EMPTYs, 11.4ms\n",
            "video 1/1 (frame 373/952) /content/gdrive/MyDrive/car park/Test videos/park_1.mp4: 384x640 1 OCCUPIED, 2 EMPTYs, 8.6ms\n",
            "video 1/1 (frame 374/952) /content/gdrive/MyDrive/car park/Test videos/park_1.mp4: 384x640 1 OCCUPIED, 2 EMPTYs, 10.9ms\n",
            "video 1/1 (frame 375/952) /content/gdrive/MyDrive/car park/Test videos/park_1.mp4: 384x640 1 OCCUPIED, 2 EMPTYs, 15.0ms\n",
            "video 1/1 (frame 376/952) /content/gdrive/MyDrive/car park/Test videos/park_1.mp4: 384x640 1 OCCUPIED, 1 EMPTY, 10.7ms\n",
            "video 1/1 (frame 377/952) /content/gdrive/MyDrive/car park/Test videos/park_1.mp4: 384x640 1 OCCUPIED, 1 EMPTY, 11.0ms\n",
            "video 1/1 (frame 378/952) /content/gdrive/MyDrive/car park/Test videos/park_1.mp4: 384x640 1 OCCUPIED, 1 EMPTY, 10.7ms\n",
            "video 1/1 (frame 379/952) /content/gdrive/MyDrive/car park/Test videos/park_1.mp4: 384x640 1 OCCUPIED, 1 EMPTY, 7.9ms\n",
            "video 1/1 (frame 380/952) /content/gdrive/MyDrive/car park/Test videos/park_1.mp4: 384x640 1 OCCUPIED, 1 EMPTY, 8.1ms\n",
            "video 1/1 (frame 381/952) /content/gdrive/MyDrive/car park/Test videos/park_1.mp4: 384x640 1 OCCUPIED, 1 EMPTY, 10.2ms\n",
            "video 1/1 (frame 382/952) /content/gdrive/MyDrive/car park/Test videos/park_1.mp4: 384x640 1 OCCUPIED, 1 EMPTY, 8.1ms\n",
            "video 1/1 (frame 383/952) /content/gdrive/MyDrive/car park/Test videos/park_1.mp4: 384x640 1 OCCUPIED, 1 EMPTY, 10.6ms\n",
            "video 1/1 (frame 384/952) /content/gdrive/MyDrive/car park/Test videos/park_1.mp4: 384x640 1 OCCUPIED, 1 EMPTY, 8.4ms\n",
            "video 1/1 (frame 385/952) /content/gdrive/MyDrive/car park/Test videos/park_1.mp4: 384x640 1 OCCUPIED, 1 EMPTY, 8.0ms\n",
            "video 1/1 (frame 386/952) /content/gdrive/MyDrive/car park/Test videos/park_1.mp4: 384x640 1 OCCUPIED, 1 EMPTY, 10.0ms\n",
            "video 1/1 (frame 387/952) /content/gdrive/MyDrive/car park/Test videos/park_1.mp4: 384x640 1 OCCUPIED, 1 EMPTY, 10.5ms\n",
            "video 1/1 (frame 388/952) /content/gdrive/MyDrive/car park/Test videos/park_1.mp4: 384x640 1 OCCUPIED, 1 EMPTY, 9.2ms\n",
            "video 1/1 (frame 389/952) /content/gdrive/MyDrive/car park/Test videos/park_1.mp4: 384x640 1 OCCUPIED, 1 EMPTY, 8.7ms\n",
            "video 1/1 (frame 390/952) /content/gdrive/MyDrive/car park/Test videos/park_1.mp4: 384x640 1 OCCUPIED, 1 EMPTY, 7.9ms\n",
            "video 1/1 (frame 391/952) /content/gdrive/MyDrive/car park/Test videos/park_1.mp4: 384x640 1 OCCUPIED, 1 EMPTY, 7.9ms\n",
            "video 1/1 (frame 392/952) /content/gdrive/MyDrive/car park/Test videos/park_1.mp4: 384x640 1 OCCUPIED, 1 EMPTY, 8.1ms\n",
            "video 1/1 (frame 393/952) /content/gdrive/MyDrive/car park/Test videos/park_1.mp4: 384x640 1 OCCUPIED, 1 EMPTY, 8.8ms\n",
            "video 1/1 (frame 394/952) /content/gdrive/MyDrive/car park/Test videos/park_1.mp4: 384x640 1 OCCUPIED, 1 EMPTY, 9.8ms\n",
            "video 1/1 (frame 395/952) /content/gdrive/MyDrive/car park/Test videos/park_1.mp4: 384x640 1 OCCUPIED, 1 EMPTY, 8.0ms\n",
            "video 1/1 (frame 396/952) /content/gdrive/MyDrive/car park/Test videos/park_1.mp4: 384x640 1 OCCUPIED, 1 EMPTY, 8.1ms\n",
            "video 1/1 (frame 397/952) /content/gdrive/MyDrive/car park/Test videos/park_1.mp4: 384x640 1 OCCUPIED, 1 EMPTY, 8.2ms\n",
            "video 1/1 (frame 398/952) /content/gdrive/MyDrive/car park/Test videos/park_1.mp4: 384x640 1 OCCUPIED, 1 EMPTY, 8.3ms\n",
            "video 1/1 (frame 399/952) /content/gdrive/MyDrive/car park/Test videos/park_1.mp4: 384x640 1 OCCUPIED, 1 EMPTY, 8.7ms\n",
            "video 1/1 (frame 400/952) /content/gdrive/MyDrive/car park/Test videos/park_1.mp4: 384x640 1 OCCUPIED, 1 EMPTY, 8.6ms\n",
            "video 1/1 (frame 401/952) /content/gdrive/MyDrive/car park/Test videos/park_1.mp4: 384x640 1 OCCUPIED, 1 EMPTY, 10.5ms\n",
            "video 1/1 (frame 402/952) /content/gdrive/MyDrive/car park/Test videos/park_1.mp4: 384x640 1 OCCUPIED, 1 EMPTY, 18.0ms\n",
            "video 1/1 (frame 403/952) /content/gdrive/MyDrive/car park/Test videos/park_1.mp4: 384x640 1 OCCUPIED, 1 EMPTY, 8.1ms\n",
            "video 1/1 (frame 404/952) /content/gdrive/MyDrive/car park/Test videos/park_1.mp4: 384x640 1 OCCUPIED, 1 EMPTY, 10.2ms\n",
            "video 1/1 (frame 405/952) /content/gdrive/MyDrive/car park/Test videos/park_1.mp4: 384x640 1 OCCUPIED, 1 EMPTY, 8.7ms\n",
            "video 1/1 (frame 406/952) /content/gdrive/MyDrive/car park/Test videos/park_1.mp4: 384x640 1 OCCUPIED, 1 EMPTY, 11.8ms\n",
            "video 1/1 (frame 407/952) /content/gdrive/MyDrive/car park/Test videos/park_1.mp4: 384x640 1 OCCUPIED, 1 EMPTY, 9.7ms\n",
            "video 1/1 (frame 408/952) /content/gdrive/MyDrive/car park/Test videos/park_1.mp4: 384x640 1 OCCUPIED, 1 EMPTY, 8.4ms\n",
            "video 1/1 (frame 409/952) /content/gdrive/MyDrive/car park/Test videos/park_1.mp4: 384x640 1 OCCUPIED, 1 EMPTY, 9.9ms\n",
            "video 1/1 (frame 410/952) /content/gdrive/MyDrive/car park/Test videos/park_1.mp4: 384x640 1 OCCUPIED, 1 EMPTY, 8.6ms\n",
            "video 1/1 (frame 411/952) /content/gdrive/MyDrive/car park/Test videos/park_1.mp4: 384x640 1 OCCUPIED, 1 EMPTY, 9.3ms\n",
            "video 1/1 (frame 412/952) /content/gdrive/MyDrive/car park/Test videos/park_1.mp4: 384x640 1 OCCUPIED, 1 EMPTY, 8.7ms\n",
            "video 1/1 (frame 413/952) /content/gdrive/MyDrive/car park/Test videos/park_1.mp4: 384x640 1 OCCUPIED, 1 EMPTY, 10.8ms\n",
            "video 1/1 (frame 414/952) /content/gdrive/MyDrive/car park/Test videos/park_1.mp4: 384x640 1 OCCUPIED, 1 EMPTY, 8.0ms\n",
            "video 1/1 (frame 415/952) /content/gdrive/MyDrive/car park/Test videos/park_1.mp4: 384x640 1 OCCUPIED, 1 EMPTY, 10.5ms\n",
            "video 1/1 (frame 416/952) /content/gdrive/MyDrive/car park/Test videos/park_1.mp4: 384x640 1 OCCUPIED, 1 EMPTY, 8.1ms\n",
            "video 1/1 (frame 417/952) /content/gdrive/MyDrive/car park/Test videos/park_1.mp4: 384x640 1 OCCUPIED, 1 EMPTY, 8.0ms\n",
            "video 1/1 (frame 418/952) /content/gdrive/MyDrive/car park/Test videos/park_1.mp4: 384x640 1 OCCUPIED, 1 EMPTY, 8.2ms\n",
            "video 1/1 (frame 419/952) /content/gdrive/MyDrive/car park/Test videos/park_1.mp4: 384x640 1 OCCUPIED, 1 EMPTY, 8.5ms\n",
            "video 1/1 (frame 420/952) /content/gdrive/MyDrive/car park/Test videos/park_1.mp4: 384x640 1 OCCUPIED, 1 EMPTY, 8.4ms\n",
            "video 1/1 (frame 421/952) /content/gdrive/MyDrive/car park/Test videos/park_1.mp4: 384x640 1 OCCUPIED, 1 EMPTY, 8.3ms\n",
            "video 1/1 (frame 422/952) /content/gdrive/MyDrive/car park/Test videos/park_1.mp4: 384x640 1 OCCUPIED, 1 EMPTY, 7.9ms\n",
            "video 1/1 (frame 423/952) /content/gdrive/MyDrive/car park/Test videos/park_1.mp4: 384x640 1 OCCUPIED, 1 EMPTY, 9.5ms\n",
            "video 1/1 (frame 424/952) /content/gdrive/MyDrive/car park/Test videos/park_1.mp4: 384x640 1 OCCUPIED, 1 EMPTY, 8.3ms\n",
            "video 1/1 (frame 425/952) /content/gdrive/MyDrive/car park/Test videos/park_1.mp4: 384x640 1 OCCUPIED, 1 EMPTY, 8.6ms\n",
            "video 1/1 (frame 426/952) /content/gdrive/MyDrive/car park/Test videos/park_1.mp4: 384x640 1 OCCUPIED, 1 EMPTY, 8.8ms\n",
            "video 1/1 (frame 427/952) /content/gdrive/MyDrive/car park/Test videos/park_1.mp4: 384x640 1 OCCUPIED, 1 EMPTY, 11.7ms\n",
            "video 1/1 (frame 428/952) /content/gdrive/MyDrive/car park/Test videos/park_1.mp4: 384x640 1 OCCUPIED, 1 EMPTY, 8.1ms\n",
            "video 1/1 (frame 429/952) /content/gdrive/MyDrive/car park/Test videos/park_1.mp4: 384x640 1 OCCUPIED, 1 EMPTY, 8.2ms\n",
            "video 1/1 (frame 430/952) /content/gdrive/MyDrive/car park/Test videos/park_1.mp4: 384x640 1 OCCUPIED, 1 EMPTY, 8.3ms\n",
            "video 1/1 (frame 431/952) /content/gdrive/MyDrive/car park/Test videos/park_1.mp4: 384x640 1 OCCUPIED, 1 EMPTY, 7.9ms\n",
            "video 1/1 (frame 432/952) /content/gdrive/MyDrive/car park/Test videos/park_1.mp4: 384x640 1 OCCUPIED, 1 EMPTY, 10.4ms\n",
            "video 1/1 (frame 433/952) /content/gdrive/MyDrive/car park/Test videos/park_1.mp4: 384x640 1 OCCUPIED, 1 EMPTY, 7.9ms\n",
            "video 1/1 (frame 434/952) /content/gdrive/MyDrive/car park/Test videos/park_1.mp4: 384x640 1 OCCUPIED, 1 EMPTY, 8.3ms\n",
            "video 1/1 (frame 435/952) /content/gdrive/MyDrive/car park/Test videos/park_1.mp4: 384x640 1 OCCUPIED, 1 EMPTY, 8.2ms\n",
            "video 1/1 (frame 436/952) /content/gdrive/MyDrive/car park/Test videos/park_1.mp4: 384x640 1 OCCUPIED, 1 EMPTY, 9.9ms\n",
            "video 1/1 (frame 437/952) /content/gdrive/MyDrive/car park/Test videos/park_1.mp4: 384x640 1 OCCUPIED, 1 EMPTY, 8.3ms\n",
            "video 1/1 (frame 438/952) /content/gdrive/MyDrive/car park/Test videos/park_1.mp4: 384x640 1 OCCUPIED, 1 EMPTY, 8.2ms\n",
            "video 1/1 (frame 439/952) /content/gdrive/MyDrive/car park/Test videos/park_1.mp4: 384x640 1 OCCUPIED, 1 EMPTY, 8.2ms\n",
            "video 1/1 (frame 440/952) /content/gdrive/MyDrive/car park/Test videos/park_1.mp4: 384x640 1 OCCUPIED, 1 EMPTY, 8.2ms\n",
            "video 1/1 (frame 441/952) /content/gdrive/MyDrive/car park/Test videos/park_1.mp4: 384x640 1 OCCUPIED, 1 EMPTY, 8.4ms\n",
            "video 1/1 (frame 442/952) /content/gdrive/MyDrive/car park/Test videos/park_1.mp4: 384x640 1 OCCUPIED, 1 EMPTY, 11.4ms\n",
            "video 1/1 (frame 443/952) /content/gdrive/MyDrive/car park/Test videos/park_1.mp4: 384x640 1 OCCUPIED, 1 EMPTY, 11.1ms\n",
            "video 1/1 (frame 444/952) /content/gdrive/MyDrive/car park/Test videos/park_1.mp4: 384x640 1 OCCUPIED, 1 EMPTY, 10.9ms\n",
            "video 1/1 (frame 445/952) /content/gdrive/MyDrive/car park/Test videos/park_1.mp4: 384x640 1 OCCUPIED, 1 EMPTY, 10.8ms\n",
            "video 1/1 (frame 446/952) /content/gdrive/MyDrive/car park/Test videos/park_1.mp4: 384x640 1 OCCUPIED, 1 EMPTY, 9.3ms\n",
            "video 1/1 (frame 447/952) /content/gdrive/MyDrive/car park/Test videos/park_1.mp4: 384x640 1 OCCUPIED, 1 EMPTY, 8.8ms\n",
            "video 1/1 (frame 448/952) /content/gdrive/MyDrive/car park/Test videos/park_1.mp4: 384x640 1 OCCUPIED, 1 EMPTY, 8.0ms\n",
            "video 1/1 (frame 449/952) /content/gdrive/MyDrive/car park/Test videos/park_1.mp4: 384x640 1 OCCUPIED, 1 EMPTY, 8.4ms\n",
            "video 1/1 (frame 450/952) /content/gdrive/MyDrive/car park/Test videos/park_1.mp4: 384x640 1 OCCUPIED, 1 EMPTY, 9.3ms\n",
            "video 1/1 (frame 451/952) /content/gdrive/MyDrive/car park/Test videos/park_1.mp4: 384x640 1 OCCUPIED, 1 EMPTY, 10.3ms\n",
            "video 1/1 (frame 452/952) /content/gdrive/MyDrive/car park/Test videos/park_1.mp4: 384x640 1 OCCUPIED, 1 EMPTY, 11.1ms\n",
            "video 1/1 (frame 453/952) /content/gdrive/MyDrive/car park/Test videos/park_1.mp4: 384x640 1 OCCUPIED, 1 EMPTY, 11.7ms\n",
            "video 1/1 (frame 454/952) /content/gdrive/MyDrive/car park/Test videos/park_1.mp4: 384x640 1 OCCUPIED, 1 EMPTY, 8.5ms\n",
            "video 1/1 (frame 455/952) /content/gdrive/MyDrive/car park/Test videos/park_1.mp4: 384x640 1 OCCUPIED, 1 EMPTY, 8.3ms\n",
            "video 1/1 (frame 456/952) /content/gdrive/MyDrive/car park/Test videos/park_1.mp4: 384x640 1 OCCUPIED, 1 EMPTY, 11.4ms\n",
            "video 1/1 (frame 457/952) /content/gdrive/MyDrive/car park/Test videos/park_1.mp4: 384x640 1 OCCUPIED, 1 EMPTY, 15.9ms\n",
            "video 1/1 (frame 458/952) /content/gdrive/MyDrive/car park/Test videos/park_1.mp4: 384x640 1 OCCUPIED, 1 EMPTY, 12.5ms\n",
            "video 1/1 (frame 459/952) /content/gdrive/MyDrive/car park/Test videos/park_1.mp4: 384x640 1 OCCUPIED, 1 EMPTY, 11.2ms\n",
            "video 1/1 (frame 460/952) /content/gdrive/MyDrive/car park/Test videos/park_1.mp4: 384x640 1 OCCUPIED, 1 EMPTY, 8.0ms\n",
            "video 1/1 (frame 461/952) /content/gdrive/MyDrive/car park/Test videos/park_1.mp4: 384x640 1 OCCUPIED, 1 EMPTY, 8.2ms\n",
            "video 1/1 (frame 462/952) /content/gdrive/MyDrive/car park/Test videos/park_1.mp4: 384x640 1 OCCUPIED, 1 EMPTY, 15.6ms\n",
            "video 1/1 (frame 463/952) /content/gdrive/MyDrive/car park/Test videos/park_1.mp4: 384x640 1 OCCUPIED, 1 EMPTY, 8.5ms\n",
            "video 1/1 (frame 464/952) /content/gdrive/MyDrive/car park/Test videos/park_1.mp4: 384x640 1 OCCUPIED, 1 EMPTY, 11.2ms\n",
            "video 1/1 (frame 465/952) /content/gdrive/MyDrive/car park/Test videos/park_1.mp4: 384x640 1 OCCUPIED, 1 EMPTY, 11.5ms\n",
            "video 1/1 (frame 466/952) /content/gdrive/MyDrive/car park/Test videos/park_1.mp4: 384x640 1 OCCUPIED, 1 EMPTY, 8.2ms\n",
            "video 1/1 (frame 467/952) /content/gdrive/MyDrive/car park/Test videos/park_1.mp4: 384x640 1 OCCUPIED, 1 EMPTY, 7.8ms\n",
            "video 1/1 (frame 468/952) /content/gdrive/MyDrive/car park/Test videos/park_1.mp4: 384x640 1 OCCUPIED, 1 EMPTY, 8.4ms\n",
            "video 1/1 (frame 469/952) /content/gdrive/MyDrive/car park/Test videos/park_1.mp4: 384x640 1 OCCUPIED, 1 EMPTY, 9.0ms\n",
            "video 1/1 (frame 470/952) /content/gdrive/MyDrive/car park/Test videos/park_1.mp4: 384x640 1 OCCUPIED, 1 EMPTY, 7.8ms\n",
            "video 1/1 (frame 471/952) /content/gdrive/MyDrive/car park/Test videos/park_1.mp4: 384x640 1 OCCUPIED, 1 EMPTY, 12.8ms\n",
            "video 1/1 (frame 472/952) /content/gdrive/MyDrive/car park/Test videos/park_1.mp4: 384x640 1 OCCUPIED, 1 EMPTY, 8.8ms\n",
            "video 1/1 (frame 473/952) /content/gdrive/MyDrive/car park/Test videos/park_1.mp4: 384x640 1 OCCUPIED, 1 EMPTY, 10.9ms\n",
            "video 1/1 (frame 474/952) /content/gdrive/MyDrive/car park/Test videos/park_1.mp4: 384x640 1 OCCUPIED, 1 EMPTY, 10.6ms\n",
            "video 1/1 (frame 475/952) /content/gdrive/MyDrive/car park/Test videos/park_1.mp4: 384x640 1 OCCUPIED, 1 EMPTY, 12.2ms\n",
            "video 1/1 (frame 476/952) /content/gdrive/MyDrive/car park/Test videos/park_1.mp4: 384x640 1 OCCUPIED, 1 EMPTY, 13.1ms\n",
            "video 1/1 (frame 477/952) /content/gdrive/MyDrive/car park/Test videos/park_1.mp4: 384x640 1 OCCUPIED, 2 EMPTYs, 11.1ms\n",
            "video 1/1 (frame 478/952) /content/gdrive/MyDrive/car park/Test videos/park_1.mp4: 384x640 1 OCCUPIED, 2 EMPTYs, 10.1ms\n",
            "video 1/1 (frame 479/952) /content/gdrive/MyDrive/car park/Test videos/park_1.mp4: 384x640 1 OCCUPIED, 2 EMPTYs, 14.0ms\n",
            "video 1/1 (frame 480/952) /content/gdrive/MyDrive/car park/Test videos/park_1.mp4: 384x640 1 OCCUPIED, 2 EMPTYs, 20.8ms\n",
            "video 1/1 (frame 481/952) /content/gdrive/MyDrive/car park/Test videos/park_1.mp4: 384x640 1 OCCUPIED, 1 EMPTY, 11.1ms\n",
            "video 1/1 (frame 482/952) /content/gdrive/MyDrive/car park/Test videos/park_1.mp4: 384x640 1 OCCUPIED, 1 EMPTY, 8.0ms\n",
            "video 1/1 (frame 483/952) /content/gdrive/MyDrive/car park/Test videos/park_1.mp4: 384x640 1 OCCUPIED, 1 EMPTY, 12.0ms\n",
            "video 1/1 (frame 484/952) /content/gdrive/MyDrive/car park/Test videos/park_1.mp4: 384x640 1 OCCUPIED, 2 EMPTYs, 12.2ms\n",
            "video 1/1 (frame 485/952) /content/gdrive/MyDrive/car park/Test videos/park_1.mp4: 384x640 1 OCCUPIED, 1 EMPTY, 7.7ms\n",
            "video 1/1 (frame 486/952) /content/gdrive/MyDrive/car park/Test videos/park_1.mp4: 384x640 1 OCCUPIED, 1 EMPTY, 10.2ms\n",
            "video 1/1 (frame 487/952) /content/gdrive/MyDrive/car park/Test videos/park_1.mp4: 384x640 1 OCCUPIED, 1 EMPTY, 8.0ms\n",
            "video 1/1 (frame 488/952) /content/gdrive/MyDrive/car park/Test videos/park_1.mp4: 384x640 1 OCCUPIED, 2 EMPTYs, 10.5ms\n",
            "video 1/1 (frame 489/952) /content/gdrive/MyDrive/car park/Test videos/park_1.mp4: 384x640 1 OCCUPIED, 2 EMPTYs, 8.1ms\n",
            "video 1/1 (frame 490/952) /content/gdrive/MyDrive/car park/Test videos/park_1.mp4: 384x640 1 OCCUPIED, 2 EMPTYs, 10.7ms\n",
            "video 1/1 (frame 491/952) /content/gdrive/MyDrive/car park/Test videos/park_1.mp4: 384x640 1 OCCUPIED, 2 EMPTYs, 10.5ms\n",
            "video 1/1 (frame 492/952) /content/gdrive/MyDrive/car park/Test videos/park_1.mp4: 384x640 1 OCCUPIED, 2 EMPTYs, 8.4ms\n",
            "video 1/1 (frame 493/952) /content/gdrive/MyDrive/car park/Test videos/park_1.mp4: 384x640 1 OCCUPIED, 2 EMPTYs, 8.2ms\n",
            "video 1/1 (frame 494/952) /content/gdrive/MyDrive/car park/Test videos/park_1.mp4: 384x640 1 OCCUPIED, 1 EMPTY, 10.3ms\n",
            "video 1/1 (frame 495/952) /content/gdrive/MyDrive/car park/Test videos/park_1.mp4: 384x640 1 OCCUPIED, 2 EMPTYs, 8.3ms\n",
            "video 1/1 (frame 496/952) /content/gdrive/MyDrive/car park/Test videos/park_1.mp4: 384x640 1 OCCUPIED, 2 EMPTYs, 10.8ms\n",
            "video 1/1 (frame 497/952) /content/gdrive/MyDrive/car park/Test videos/park_1.mp4: 384x640 1 OCCUPIED, 2 EMPTYs, 8.4ms\n",
            "video 1/1 (frame 498/952) /content/gdrive/MyDrive/car park/Test videos/park_1.mp4: 384x640 1 OCCUPIED, 2 EMPTYs, 8.4ms\n",
            "video 1/1 (frame 499/952) /content/gdrive/MyDrive/car park/Test videos/park_1.mp4: 384x640 1 OCCUPIED, 2 EMPTYs, 8.5ms\n",
            "video 1/1 (frame 500/952) /content/gdrive/MyDrive/car park/Test videos/park_1.mp4: 384x640 1 OCCUPIED, 2 EMPTYs, 8.7ms\n",
            "video 1/1 (frame 501/952) /content/gdrive/MyDrive/car park/Test videos/park_1.mp4: 384x640 1 OCCUPIED, 2 EMPTYs, 8.3ms\n",
            "video 1/1 (frame 502/952) /content/gdrive/MyDrive/car park/Test videos/park_1.mp4: 384x640 1 OCCUPIED, 2 EMPTYs, 10.6ms\n",
            "video 1/1 (frame 503/952) /content/gdrive/MyDrive/car park/Test videos/park_1.mp4: 384x640 1 OCCUPIED, 2 EMPTYs, 8.2ms\n",
            "video 1/1 (frame 504/952) /content/gdrive/MyDrive/car park/Test videos/park_1.mp4: 384x640 1 OCCUPIED, 2 EMPTYs, 8.0ms\n",
            "video 1/1 (frame 505/952) /content/gdrive/MyDrive/car park/Test videos/park_1.mp4: 384x640 1 OCCUPIED, 1 EMPTY, 8.4ms\n",
            "video 1/1 (frame 506/952) /content/gdrive/MyDrive/car park/Test videos/park_1.mp4: 384x640 1 OCCUPIED, 1 EMPTY, 8.0ms\n",
            "video 1/1 (frame 507/952) /content/gdrive/MyDrive/car park/Test videos/park_1.mp4: 384x640 1 OCCUPIED, 2 EMPTYs, 8.5ms\n",
            "video 1/1 (frame 508/952) /content/gdrive/MyDrive/car park/Test videos/park_1.mp4: 384x640 1 OCCUPIED, 2 EMPTYs, 9.1ms\n",
            "video 1/1 (frame 509/952) /content/gdrive/MyDrive/car park/Test videos/park_1.mp4: 384x640 1 OCCUPIED, 2 EMPTYs, 8.3ms\n",
            "video 1/1 (frame 510/952) /content/gdrive/MyDrive/car park/Test videos/park_1.mp4: 384x640 1 OCCUPIED, 2 EMPTYs, 8.3ms\n",
            "video 1/1 (frame 511/952) /content/gdrive/MyDrive/car park/Test videos/park_1.mp4: 384x640 1 OCCUPIED, 2 EMPTYs, 13.6ms\n",
            "video 1/1 (frame 512/952) /content/gdrive/MyDrive/car park/Test videos/park_1.mp4: 384x640 1 OCCUPIED, 2 EMPTYs, 8.1ms\n",
            "video 1/1 (frame 513/952) /content/gdrive/MyDrive/car park/Test videos/park_1.mp4: 384x640 1 OCCUPIED, 2 EMPTYs, 8.6ms\n",
            "video 1/1 (frame 514/952) /content/gdrive/MyDrive/car park/Test videos/park_1.mp4: 384x640 1 OCCUPIED, 2 EMPTYs, 8.3ms\n",
            "video 1/1 (frame 515/952) /content/gdrive/MyDrive/car park/Test videos/park_1.mp4: 384x640 1 OCCUPIED, 2 EMPTYs, 10.0ms\n",
            "video 1/1 (frame 516/952) /content/gdrive/MyDrive/car park/Test videos/park_1.mp4: 384x640 1 OCCUPIED, 2 EMPTYs, 8.5ms\n",
            "video 1/1 (frame 517/952) /content/gdrive/MyDrive/car park/Test videos/park_1.mp4: 384x640 1 OCCUPIED, 2 EMPTYs, 8.3ms\n",
            "video 1/1 (frame 518/952) /content/gdrive/MyDrive/car park/Test videos/park_1.mp4: 384x640 1 OCCUPIED, 1 EMPTY, 9.7ms\n",
            "video 1/1 (frame 519/952) /content/gdrive/MyDrive/car park/Test videos/park_1.mp4: 384x640 1 OCCUPIED, 1 EMPTY, 7.8ms\n",
            "video 1/1 (frame 520/952) /content/gdrive/MyDrive/car park/Test videos/park_1.mp4: 384x640 1 OCCUPIED, 1 EMPTY, 7.3ms\n",
            "video 1/1 (frame 521/952) /content/gdrive/MyDrive/car park/Test videos/park_1.mp4: 384x640 1 OCCUPIED, 1 EMPTY, 9.4ms\n",
            "video 1/1 (frame 522/952) /content/gdrive/MyDrive/car park/Test videos/park_1.mp4: 384x640 1 OCCUPIED, 1 EMPTY, 8.1ms\n",
            "video 1/1 (frame 523/952) /content/gdrive/MyDrive/car park/Test videos/park_1.mp4: 384x640 1 OCCUPIED, 1 EMPTY, 8.5ms\n",
            "video 1/1 (frame 524/952) /content/gdrive/MyDrive/car park/Test videos/park_1.mp4: 384x640 1 OCCUPIED, 1 EMPTY, 7.9ms\n",
            "video 1/1 (frame 525/952) /content/gdrive/MyDrive/car park/Test videos/park_1.mp4: 384x640 1 OCCUPIED, 1 EMPTY, 8.0ms\n",
            "video 1/1 (frame 526/952) /content/gdrive/MyDrive/car park/Test videos/park_1.mp4: 384x640 1 OCCUPIED, 1 EMPTY, 7.8ms\n",
            "video 1/1 (frame 527/952) /content/gdrive/MyDrive/car park/Test videos/park_1.mp4: 384x640 1 OCCUPIED, 1 EMPTY, 8.9ms\n",
            "video 1/1 (frame 528/952) /content/gdrive/MyDrive/car park/Test videos/park_1.mp4: 384x640 1 OCCUPIED, 1 EMPTY, 10.4ms\n",
            "video 1/1 (frame 529/952) /content/gdrive/MyDrive/car park/Test videos/park_1.mp4: 384x640 1 OCCUPIED, 1 EMPTY, 7.9ms\n",
            "video 1/1 (frame 530/952) /content/gdrive/MyDrive/car park/Test videos/park_1.mp4: 384x640 1 OCCUPIED, 1 EMPTY, 12.2ms\n",
            "video 1/1 (frame 531/952) /content/gdrive/MyDrive/car park/Test videos/park_1.mp4: 384x640 1 OCCUPIED, 1 EMPTY, 8.1ms\n",
            "video 1/1 (frame 532/952) /content/gdrive/MyDrive/car park/Test videos/park_1.mp4: 384x640 1 OCCUPIED, 1 EMPTY, 8.1ms\n",
            "video 1/1 (frame 533/952) /content/gdrive/MyDrive/car park/Test videos/park_1.mp4: 384x640 1 OCCUPIED, 1 EMPTY, 8.1ms\n",
            "video 1/1 (frame 534/952) /content/gdrive/MyDrive/car park/Test videos/park_1.mp4: 384x640 1 OCCUPIED, 1 EMPTY, 10.8ms\n",
            "video 1/1 (frame 535/952) /content/gdrive/MyDrive/car park/Test videos/park_1.mp4: 384x640 1 OCCUPIED, 1 EMPTY, 8.5ms\n",
            "video 1/1 (frame 536/952) /content/gdrive/MyDrive/car park/Test videos/park_1.mp4: 384x640 1 OCCUPIED, 1 EMPTY, 12.6ms\n",
            "video 1/1 (frame 537/952) /content/gdrive/MyDrive/car park/Test videos/park_1.mp4: 384x640 1 OCCUPIED, 1 EMPTY, 11.4ms\n",
            "video 1/1 (frame 538/952) /content/gdrive/MyDrive/car park/Test videos/park_1.mp4: 384x640 1 OCCUPIED, 1 EMPTY, 14.0ms\n",
            "video 1/1 (frame 539/952) /content/gdrive/MyDrive/car park/Test videos/park_1.mp4: 384x640 1 OCCUPIED, 1 EMPTY, 10.4ms\n",
            "video 1/1 (frame 540/952) /content/gdrive/MyDrive/car park/Test videos/park_1.mp4: 384x640 1 OCCUPIED, 1 EMPTY, 8.1ms\n",
            "video 1/1 (frame 541/952) /content/gdrive/MyDrive/car park/Test videos/park_1.mp4: 384x640 1 OCCUPIED, 1 EMPTY, 8.1ms\n",
            "video 1/1 (frame 542/952) /content/gdrive/MyDrive/car park/Test videos/park_1.mp4: 384x640 1 OCCUPIED, 1 EMPTY, 11.4ms\n",
            "video 1/1 (frame 543/952) /content/gdrive/MyDrive/car park/Test videos/park_1.mp4: 384x640 1 OCCUPIED, 1 EMPTY, 11.5ms\n",
            "video 1/1 (frame 544/952) /content/gdrive/MyDrive/car park/Test videos/park_1.mp4: 384x640 1 OCCUPIED, 1 EMPTY, 12.7ms\n",
            "video 1/1 (frame 545/952) /content/gdrive/MyDrive/car park/Test videos/park_1.mp4: 384x640 1 OCCUPIED, 2 EMPTYs, 10.6ms\n",
            "video 1/1 (frame 546/952) /content/gdrive/MyDrive/car park/Test videos/park_1.mp4: 384x640 1 OCCUPIED, 1 EMPTY, 8.2ms\n",
            "video 1/1 (frame 547/952) /content/gdrive/MyDrive/car park/Test videos/park_1.mp4: 384x640 1 OCCUPIED, 1 EMPTY, 8.7ms\n",
            "video 1/1 (frame 548/952) /content/gdrive/MyDrive/car park/Test videos/park_1.mp4: 384x640 1 OCCUPIED, 2 EMPTYs, 8.4ms\n",
            "video 1/1 (frame 549/952) /content/gdrive/MyDrive/car park/Test videos/park_1.mp4: 384x640 1 OCCUPIED, 2 EMPTYs, 13.4ms\n",
            "video 1/1 (frame 550/952) /content/gdrive/MyDrive/car park/Test videos/park_1.mp4: 384x640 1 OCCUPIED, 2 EMPTYs, 8.5ms\n",
            "video 1/1 (frame 551/952) /content/gdrive/MyDrive/car park/Test videos/park_1.mp4: 384x640 1 OCCUPIED, 2 EMPTYs, 9.0ms\n",
            "video 1/1 (frame 552/952) /content/gdrive/MyDrive/car park/Test videos/park_1.mp4: 384x640 1 OCCUPIED, 2 EMPTYs, 9.6ms\n",
            "video 1/1 (frame 553/952) /content/gdrive/MyDrive/car park/Test videos/park_1.mp4: 384x640 1 OCCUPIED, 2 EMPTYs, 10.1ms\n",
            "video 1/1 (frame 554/952) /content/gdrive/MyDrive/car park/Test videos/park_1.mp4: 384x640 1 OCCUPIED, 2 EMPTYs, 9.0ms\n",
            "video 1/1 (frame 555/952) /content/gdrive/MyDrive/car park/Test videos/park_1.mp4: 384x640 1 OCCUPIED, 2 EMPTYs, 11.7ms\n",
            "video 1/1 (frame 556/952) /content/gdrive/MyDrive/car park/Test videos/park_1.mp4: 384x640 1 OCCUPIED, 2 EMPTYs, 8.2ms\n",
            "video 1/1 (frame 557/952) /content/gdrive/MyDrive/car park/Test videos/park_1.mp4: 384x640 1 OCCUPIED, 2 EMPTYs, 10.8ms\n",
            "video 1/1 (frame 558/952) /content/gdrive/MyDrive/car park/Test videos/park_1.mp4: 384x640 1 OCCUPIED, 2 EMPTYs, 11.1ms\n",
            "video 1/1 (frame 559/952) /content/gdrive/MyDrive/car park/Test videos/park_1.mp4: 384x640 1 OCCUPIED, 2 EMPTYs, 12.9ms\n",
            "video 1/1 (frame 560/952) /content/gdrive/MyDrive/car park/Test videos/park_1.mp4: 384x640 1 OCCUPIED, 2 EMPTYs, 9.2ms\n",
            "video 1/1 (frame 561/952) /content/gdrive/MyDrive/car park/Test videos/park_1.mp4: 384x640 1 OCCUPIED, 1 EMPTY, 10.7ms\n",
            "video 1/1 (frame 562/952) /content/gdrive/MyDrive/car park/Test videos/park_1.mp4: 384x640 1 OCCUPIED, 1 EMPTY, 8.1ms\n",
            "video 1/1 (frame 563/952) /content/gdrive/MyDrive/car park/Test videos/park_1.mp4: 384x640 1 OCCUPIED, 1 EMPTY, 8.4ms\n",
            "video 1/1 (frame 564/952) /content/gdrive/MyDrive/car park/Test videos/park_1.mp4: 384x640 1 OCCUPIED, 1 EMPTY, 8.8ms\n",
            "video 1/1 (frame 565/952) /content/gdrive/MyDrive/car park/Test videos/park_1.mp4: 384x640 1 OCCUPIED, 1 EMPTY, 16.1ms\n",
            "video 1/1 (frame 566/952) /content/gdrive/MyDrive/car park/Test videos/park_1.mp4: 384x640 1 OCCUPIED, 1 EMPTY, 9.2ms\n",
            "video 1/1 (frame 567/952) /content/gdrive/MyDrive/car park/Test videos/park_1.mp4: 384x640 1 OCCUPIED, 1 EMPTY, 12.2ms\n",
            "video 1/1 (frame 568/952) /content/gdrive/MyDrive/car park/Test videos/park_1.mp4: 384x640 1 OCCUPIED, 1 EMPTY, 9.7ms\n",
            "video 1/1 (frame 569/952) /content/gdrive/MyDrive/car park/Test videos/park_1.mp4: 384x640 1 OCCUPIED, 1 EMPTY, 10.6ms\n",
            "video 1/1 (frame 570/952) /content/gdrive/MyDrive/car park/Test videos/park_1.mp4: 384x640 1 OCCUPIED, 1 EMPTY, 7.7ms\n",
            "video 1/1 (frame 571/952) /content/gdrive/MyDrive/car park/Test videos/park_1.mp4: 384x640 1 OCCUPIED, 1 EMPTY, 8.3ms\n",
            "video 1/1 (frame 572/952) /content/gdrive/MyDrive/car park/Test videos/park_1.mp4: 384x640 1 OCCUPIED, 1 EMPTY, 8.2ms\n",
            "video 1/1 (frame 573/952) /content/gdrive/MyDrive/car park/Test videos/park_1.mp4: 384x640 1 OCCUPIED, 1 EMPTY, 8.6ms\n",
            "video 1/1 (frame 574/952) /content/gdrive/MyDrive/car park/Test videos/park_1.mp4: 384x640 1 OCCUPIED, 1 EMPTY, 8.3ms\n",
            "video 1/1 (frame 575/952) /content/gdrive/MyDrive/car park/Test videos/park_1.mp4: 384x640 1 OCCUPIED, 1 EMPTY, 11.9ms\n",
            "video 1/1 (frame 576/952) /content/gdrive/MyDrive/car park/Test videos/park_1.mp4: 384x640 1 OCCUPIED, 1 EMPTY, 9.3ms\n",
            "video 1/1 (frame 577/952) /content/gdrive/MyDrive/car park/Test videos/park_1.mp4: 384x640 1 OCCUPIED, 1 EMPTY, 8.3ms\n",
            "video 1/1 (frame 578/952) /content/gdrive/MyDrive/car park/Test videos/park_1.mp4: 384x640 1 OCCUPIED, 1 EMPTY, 8.4ms\n",
            "video 1/1 (frame 579/952) /content/gdrive/MyDrive/car park/Test videos/park_1.mp4: 384x640 1 OCCUPIED, 1 EMPTY, 8.1ms\n",
            "video 1/1 (frame 580/952) /content/gdrive/MyDrive/car park/Test videos/park_1.mp4: 384x640 1 OCCUPIED, 1 EMPTY, 8.9ms\n",
            "video 1/1 (frame 581/952) /content/gdrive/MyDrive/car park/Test videos/park_1.mp4: 384x640 1 OCCUPIED, 1 EMPTY, 8.7ms\n",
            "video 1/1 (frame 582/952) /content/gdrive/MyDrive/car park/Test videos/park_1.mp4: 384x640 1 OCCUPIED, 1 EMPTY, 10.1ms\n",
            "video 1/1 (frame 583/952) /content/gdrive/MyDrive/car park/Test videos/park_1.mp4: 384x640 1 OCCUPIED, 1 EMPTY, 15.0ms\n",
            "video 1/1 (frame 584/952) /content/gdrive/MyDrive/car park/Test videos/park_1.mp4: 384x640 1 OCCUPIED, 1 EMPTY, 9.0ms\n",
            "video 1/1 (frame 585/952) /content/gdrive/MyDrive/car park/Test videos/park_1.mp4: 384x640 1 OCCUPIED, 1 EMPTY, 7.8ms\n",
            "video 1/1 (frame 586/952) /content/gdrive/MyDrive/car park/Test videos/park_1.mp4: 384x640 1 OCCUPIED, 1 EMPTY, 8.5ms\n",
            "video 1/1 (frame 587/952) /content/gdrive/MyDrive/car park/Test videos/park_1.mp4: 384x640 1 OCCUPIED, 1 EMPTY, 9.2ms\n",
            "video 1/1 (frame 588/952) /content/gdrive/MyDrive/car park/Test videos/park_1.mp4: 384x640 1 OCCUPIED, 1 EMPTY, 8.4ms\n",
            "video 1/1 (frame 589/952) /content/gdrive/MyDrive/car park/Test videos/park_1.mp4: 384x640 1 OCCUPIED, 1 EMPTY, 9.9ms\n",
            "video 1/1 (frame 590/952) /content/gdrive/MyDrive/car park/Test videos/park_1.mp4: 384x640 1 OCCUPIED, 1 EMPTY, 8.5ms\n",
            "video 1/1 (frame 591/952) /content/gdrive/MyDrive/car park/Test videos/park_1.mp4: 384x640 1 OCCUPIED, 1 EMPTY, 10.1ms\n",
            "video 1/1 (frame 592/952) /content/gdrive/MyDrive/car park/Test videos/park_1.mp4: 384x640 1 OCCUPIED, 1 EMPTY, 8.4ms\n",
            "video 1/1 (frame 593/952) /content/gdrive/MyDrive/car park/Test videos/park_1.mp4: 384x640 1 OCCUPIED, 1 EMPTY, 11.5ms\n",
            "video 1/1 (frame 594/952) /content/gdrive/MyDrive/car park/Test videos/park_1.mp4: 384x640 1 OCCUPIED, 1 EMPTY, 7.8ms\n",
            "video 1/1 (frame 595/952) /content/gdrive/MyDrive/car park/Test videos/park_1.mp4: 384x640 1 OCCUPIED, 1 EMPTY, 7.9ms\n",
            "video 1/1 (frame 596/952) /content/gdrive/MyDrive/car park/Test videos/park_1.mp4: 384x640 1 OCCUPIED, 1 EMPTY, 7.8ms\n",
            "video 1/1 (frame 597/952) /content/gdrive/MyDrive/car park/Test videos/park_1.mp4: 384x640 1 OCCUPIED, 1 EMPTY, 9.3ms\n",
            "video 1/1 (frame 598/952) /content/gdrive/MyDrive/car park/Test videos/park_1.mp4: 384x640 1 OCCUPIED, 1 EMPTY, 8.4ms\n",
            "video 1/1 (frame 599/952) /content/gdrive/MyDrive/car park/Test videos/park_1.mp4: 384x640 1 OCCUPIED, 1 EMPTY, 7.9ms\n",
            "video 1/1 (frame 600/952) /content/gdrive/MyDrive/car park/Test videos/park_1.mp4: 384x640 1 OCCUPIED, 1 EMPTY, 12.6ms\n",
            "video 1/1 (frame 601/952) /content/gdrive/MyDrive/car park/Test videos/park_1.mp4: 384x640 1 OCCUPIED, 1 EMPTY, 8.4ms\n",
            "video 1/1 (frame 602/952) /content/gdrive/MyDrive/car park/Test videos/park_1.mp4: 384x640 1 OCCUPIED, 1 EMPTY, 8.4ms\n",
            "video 1/1 (frame 603/952) /content/gdrive/MyDrive/car park/Test videos/park_1.mp4: 384x640 1 OCCUPIED, 1 EMPTY, 8.4ms\n",
            "video 1/1 (frame 604/952) /content/gdrive/MyDrive/car park/Test videos/park_1.mp4: 384x640 1 OCCUPIED, 1 EMPTY, 10.3ms\n",
            "video 1/1 (frame 605/952) /content/gdrive/MyDrive/car park/Test videos/park_1.mp4: 384x640 1 OCCUPIED, 1 EMPTY, 10.6ms\n",
            "video 1/1 (frame 606/952) /content/gdrive/MyDrive/car park/Test videos/park_1.mp4: 384x640 1 OCCUPIED, 1 EMPTY, 11.6ms\n",
            "video 1/1 (frame 607/952) /content/gdrive/MyDrive/car park/Test videos/park_1.mp4: 384x640 1 OCCUPIED, 1 EMPTY, 9.3ms\n",
            "video 1/1 (frame 608/952) /content/gdrive/MyDrive/car park/Test videos/park_1.mp4: 384x640 1 OCCUPIED, 1 EMPTY, 8.0ms\n",
            "video 1/1 (frame 609/952) /content/gdrive/MyDrive/car park/Test videos/park_1.mp4: 384x640 1 OCCUPIED, 1 EMPTY, 8.3ms\n",
            "video 1/1 (frame 610/952) /content/gdrive/MyDrive/car park/Test videos/park_1.mp4: 384x640 1 OCCUPIED, 1 EMPTY, 9.8ms\n",
            "video 1/1 (frame 611/952) /content/gdrive/MyDrive/car park/Test videos/park_1.mp4: 384x640 1 OCCUPIED, 1 EMPTY, 8.4ms\n",
            "video 1/1 (frame 612/952) /content/gdrive/MyDrive/car park/Test videos/park_1.mp4: 384x640 1 OCCUPIED, 1 EMPTY, 8.3ms\n",
            "video 1/1 (frame 613/952) /content/gdrive/MyDrive/car park/Test videos/park_1.mp4: 384x640 1 OCCUPIED, 1 EMPTY, 11.4ms\n",
            "video 1/1 (frame 614/952) /content/gdrive/MyDrive/car park/Test videos/park_1.mp4: 384x640 1 OCCUPIED, 1 EMPTY, 8.7ms\n",
            "video 1/1 (frame 615/952) /content/gdrive/MyDrive/car park/Test videos/park_1.mp4: 384x640 1 OCCUPIED, 1 EMPTY, 17.6ms\n",
            "video 1/1 (frame 616/952) /content/gdrive/MyDrive/car park/Test videos/park_1.mp4: 384x640 1 OCCUPIED, 1 EMPTY, 12.6ms\n",
            "video 1/1 (frame 617/952) /content/gdrive/MyDrive/car park/Test videos/park_1.mp4: 384x640 1 OCCUPIED, 1 EMPTY, 17.2ms\n",
            "video 1/1 (frame 618/952) /content/gdrive/MyDrive/car park/Test videos/park_1.mp4: 384x640 1 OCCUPIED, 1 EMPTY, 17.5ms\n",
            "video 1/1 (frame 619/952) /content/gdrive/MyDrive/car park/Test videos/park_1.mp4: 384x640 1 OCCUPIED, 1 EMPTY, 14.2ms\n",
            "video 1/1 (frame 620/952) /content/gdrive/MyDrive/car park/Test videos/park_1.mp4: 384x640 1 OCCUPIED, 1 EMPTY, 13.0ms\n",
            "video 1/1 (frame 621/952) /content/gdrive/MyDrive/car park/Test videos/park_1.mp4: 384x640 1 OCCUPIED, 1 EMPTY, 12.2ms\n",
            "video 1/1 (frame 622/952) /content/gdrive/MyDrive/car park/Test videos/park_1.mp4: 384x640 1 OCCUPIED, 1 EMPTY, 11.8ms\n",
            "video 1/1 (frame 623/952) /content/gdrive/MyDrive/car park/Test videos/park_1.mp4: 384x640 1 OCCUPIED, 1 EMPTY, 12.7ms\n",
            "video 1/1 (frame 624/952) /content/gdrive/MyDrive/car park/Test videos/park_1.mp4: 384x640 1 OCCUPIED, 1 EMPTY, 16.8ms\n",
            "video 1/1 (frame 625/952) /content/gdrive/MyDrive/car park/Test videos/park_1.mp4: 384x640 1 OCCUPIED, 1 EMPTY, 11.9ms\n",
            "video 1/1 (frame 626/952) /content/gdrive/MyDrive/car park/Test videos/park_1.mp4: 384x640 1 OCCUPIED, 1 EMPTY, 12.9ms\n",
            "video 1/1 (frame 627/952) /content/gdrive/MyDrive/car park/Test videos/park_1.mp4: 384x640 1 OCCUPIED, 1 EMPTY, 11.4ms\n",
            "video 1/1 (frame 628/952) /content/gdrive/MyDrive/car park/Test videos/park_1.mp4: 384x640 1 OCCUPIED, 1 EMPTY, 17.8ms\n",
            "video 1/1 (frame 629/952) /content/gdrive/MyDrive/car park/Test videos/park_1.mp4: 384x640 1 OCCUPIED, 1 EMPTY, 11.0ms\n",
            "video 1/1 (frame 630/952) /content/gdrive/MyDrive/car park/Test videos/park_1.mp4: 384x640 1 OCCUPIED, 1 EMPTY, 15.6ms\n",
            "video 1/1 (frame 631/952) /content/gdrive/MyDrive/car park/Test videos/park_1.mp4: 384x640 1 OCCUPIED, 1 EMPTY, 11.6ms\n",
            "video 1/1 (frame 632/952) /content/gdrive/MyDrive/car park/Test videos/park_1.mp4: 384x640 1 OCCUPIED, 1 EMPTY, 11.8ms\n",
            "video 1/1 (frame 633/952) /content/gdrive/MyDrive/car park/Test videos/park_1.mp4: 384x640 1 OCCUPIED, 1 EMPTY, 16.0ms\n",
            "video 1/1 (frame 634/952) /content/gdrive/MyDrive/car park/Test videos/park_1.mp4: 384x640 1 OCCUPIED, 1 EMPTY, 12.4ms\n",
            "video 1/1 (frame 635/952) /content/gdrive/MyDrive/car park/Test videos/park_1.mp4: 384x640 1 OCCUPIED, 1 EMPTY, 12.6ms\n",
            "video 1/1 (frame 636/952) /content/gdrive/MyDrive/car park/Test videos/park_1.mp4: 384x640 1 OCCUPIED, 1 EMPTY, 10.8ms\n",
            "video 1/1 (frame 637/952) /content/gdrive/MyDrive/car park/Test videos/park_1.mp4: 384x640 1 OCCUPIED, 1 EMPTY, 18.5ms\n",
            "video 1/1 (frame 638/952) /content/gdrive/MyDrive/car park/Test videos/park_1.mp4: 384x640 1 OCCUPIED, 1 EMPTY, 10.1ms\n",
            "video 1/1 (frame 639/952) /content/gdrive/MyDrive/car park/Test videos/park_1.mp4: 384x640 1 OCCUPIED, 1 EMPTY, 18.5ms\n",
            "video 1/1 (frame 640/952) /content/gdrive/MyDrive/car park/Test videos/park_1.mp4: 384x640 1 OCCUPIED, 1 EMPTY, 17.8ms\n",
            "video 1/1 (frame 641/952) /content/gdrive/MyDrive/car park/Test videos/park_1.mp4: 384x640 1 OCCUPIED, 1 EMPTY, 18.2ms\n",
            "video 1/1 (frame 642/952) /content/gdrive/MyDrive/car park/Test videos/park_1.mp4: 384x640 1 OCCUPIED, 1 EMPTY, 14.3ms\n",
            "video 1/1 (frame 643/952) /content/gdrive/MyDrive/car park/Test videos/park_1.mp4: 384x640 1 OCCUPIED, 1 EMPTY, 11.7ms\n",
            "video 1/1 (frame 644/952) /content/gdrive/MyDrive/car park/Test videos/park_1.mp4: 384x640 1 OCCUPIED, 1 EMPTY, 11.5ms\n",
            "video 1/1 (frame 645/952) /content/gdrive/MyDrive/car park/Test videos/park_1.mp4: 384x640 1 OCCUPIED, 1 EMPTY, 13.9ms\n",
            "video 1/1 (frame 646/952) /content/gdrive/MyDrive/car park/Test videos/park_1.mp4: 384x640 1 OCCUPIED, 1 EMPTY, 13.2ms\n",
            "video 1/1 (frame 647/952) /content/gdrive/MyDrive/car park/Test videos/park_1.mp4: 384x640 1 OCCUPIED, 1 EMPTY, 12.2ms\n",
            "video 1/1 (frame 648/952) /content/gdrive/MyDrive/car park/Test videos/park_1.mp4: 384x640 1 EMPTY, 13.8ms\n",
            "video 1/1 (frame 649/952) /content/gdrive/MyDrive/car park/Test videos/park_1.mp4: 384x640 1 EMPTY, 12.2ms\n",
            "video 1/1 (frame 650/952) /content/gdrive/MyDrive/car park/Test videos/park_1.mp4: 384x640 1 EMPTY, 15.8ms\n",
            "video 1/1 (frame 651/952) /content/gdrive/MyDrive/car park/Test videos/park_1.mp4: 384x640 1 EMPTY, 10.9ms\n",
            "video 1/1 (frame 652/952) /content/gdrive/MyDrive/car park/Test videos/park_1.mp4: 384x640 1 OCCUPIED, 1 EMPTY, 12.8ms\n",
            "video 1/1 (frame 653/952) /content/gdrive/MyDrive/car park/Test videos/park_1.mp4: 384x640 1 OCCUPIED, 1 EMPTY, 16.4ms\n",
            "video 1/1 (frame 654/952) /content/gdrive/MyDrive/car park/Test videos/park_1.mp4: 384x640 1 OCCUPIED, 1 EMPTY, 10.7ms\n",
            "video 1/1 (frame 655/952) /content/gdrive/MyDrive/car park/Test videos/park_1.mp4: 384x640 1 OCCUPIED, 1 EMPTY, 17.1ms\n",
            "video 1/1 (frame 656/952) /content/gdrive/MyDrive/car park/Test videos/park_1.mp4: 384x640 1 OCCUPIED, 1 EMPTY, 10.9ms\n",
            "video 1/1 (frame 657/952) /content/gdrive/MyDrive/car park/Test videos/park_1.mp4: 384x640 1 OCCUPIED, 1 EMPTY, 10.1ms\n",
            "video 1/1 (frame 658/952) /content/gdrive/MyDrive/car park/Test videos/park_1.mp4: 384x640 1 OCCUPIED, 1 EMPTY, 10.4ms\n",
            "video 1/1 (frame 659/952) /content/gdrive/MyDrive/car park/Test videos/park_1.mp4: 384x640 1 OCCUPIED, 1 EMPTY, 10.3ms\n",
            "video 1/1 (frame 660/952) /content/gdrive/MyDrive/car park/Test videos/park_1.mp4: 384x640 1 OCCUPIED, 1 EMPTY, 22.5ms\n",
            "video 1/1 (frame 661/952) /content/gdrive/MyDrive/car park/Test videos/park_1.mp4: 384x640 1 OCCUPIED, 1 EMPTY, 16.2ms\n",
            "video 1/1 (frame 662/952) /content/gdrive/MyDrive/car park/Test videos/park_1.mp4: 384x640 1 OCCUPIED, 1 EMPTY, 10.1ms\n",
            "video 1/1 (frame 663/952) /content/gdrive/MyDrive/car park/Test videos/park_1.mp4: 384x640 1 OCCUPIED, 1 EMPTY, 12.2ms\n",
            "video 1/1 (frame 664/952) /content/gdrive/MyDrive/car park/Test videos/park_1.mp4: 384x640 1 OCCUPIED, 1 EMPTY, 11.1ms\n",
            "video 1/1 (frame 665/952) /content/gdrive/MyDrive/car park/Test videos/park_1.mp4: 384x640 1 OCCUPIED, 1 EMPTY, 10.6ms\n",
            "video 1/1 (frame 666/952) /content/gdrive/MyDrive/car park/Test videos/park_1.mp4: 384x640 1 OCCUPIED, 1 EMPTY, 9.9ms\n",
            "video 1/1 (frame 667/952) /content/gdrive/MyDrive/car park/Test videos/park_1.mp4: 384x640 1 OCCUPIED, 1 EMPTY, 11.4ms\n",
            "video 1/1 (frame 668/952) /content/gdrive/MyDrive/car park/Test videos/park_1.mp4: 384x640 1 EMPTY, 9.9ms\n",
            "video 1/1 (frame 669/952) /content/gdrive/MyDrive/car park/Test videos/park_1.mp4: 384x640 1 EMPTY, 16.3ms\n",
            "video 1/1 (frame 670/952) /content/gdrive/MyDrive/car park/Test videos/park_1.mp4: 384x640 1 OCCUPIED, 1 EMPTY, 10.3ms\n",
            "video 1/1 (frame 671/952) /content/gdrive/MyDrive/car park/Test videos/park_1.mp4: 384x640 1 EMPTY, 11.6ms\n",
            "video 1/1 (frame 672/952) /content/gdrive/MyDrive/car park/Test videos/park_1.mp4: 384x640 1 EMPTY, 10.0ms\n",
            "video 1/1 (frame 673/952) /content/gdrive/MyDrive/car park/Test videos/park_1.mp4: 384x640 1 EMPTY, 12.1ms\n",
            "video 1/1 (frame 674/952) /content/gdrive/MyDrive/car park/Test videos/park_1.mp4: 384x640 1 EMPTY, 14.1ms\n",
            "video 1/1 (frame 675/952) /content/gdrive/MyDrive/car park/Test videos/park_1.mp4: 384x640 1 OCCUPIED, 1 EMPTY, 15.3ms\n",
            "video 1/1 (frame 676/952) /content/gdrive/MyDrive/car park/Test videos/park_1.mp4: 384x640 1 OCCUPIED, 1 EMPTY, 21.3ms\n",
            "video 1/1 (frame 677/952) /content/gdrive/MyDrive/car park/Test videos/park_1.mp4: 384x640 1 OCCUPIED, 1 EMPTY, 17.8ms\n",
            "video 1/1 (frame 678/952) /content/gdrive/MyDrive/car park/Test videos/park_1.mp4: 384x640 1 OCCUPIED, 1 EMPTY, 13.5ms\n",
            "video 1/1 (frame 679/952) /content/gdrive/MyDrive/car park/Test videos/park_1.mp4: 384x640 1 OCCUPIED, 1 EMPTY, 13.4ms\n",
            "video 1/1 (frame 680/952) /content/gdrive/MyDrive/car park/Test videos/park_1.mp4: 384x640 1 OCCUPIED, 1 EMPTY, 12.5ms\n",
            "video 1/1 (frame 681/952) /content/gdrive/MyDrive/car park/Test videos/park_1.mp4: 384x640 1 OCCUPIED, 1 EMPTY, 12.6ms\n",
            "video 1/1 (frame 682/952) /content/gdrive/MyDrive/car park/Test videos/park_1.mp4: 384x640 1 OCCUPIED, 1 EMPTY, 14.5ms\n",
            "video 1/1 (frame 683/952) /content/gdrive/MyDrive/car park/Test videos/park_1.mp4: 384x640 1 OCCUPIED, 1 EMPTY, 14.9ms\n",
            "video 1/1 (frame 684/952) /content/gdrive/MyDrive/car park/Test videos/park_1.mp4: 384x640 1 OCCUPIED, 1 EMPTY, 11.6ms\n",
            "video 1/1 (frame 685/952) /content/gdrive/MyDrive/car park/Test videos/park_1.mp4: 384x640 1 OCCUPIED, 1 EMPTY, 16.7ms\n",
            "video 1/1 (frame 686/952) /content/gdrive/MyDrive/car park/Test videos/park_1.mp4: 384x640 1 OCCUPIED, 1 EMPTY, 13.0ms\n",
            "video 1/1 (frame 687/952) /content/gdrive/MyDrive/car park/Test videos/park_1.mp4: 384x640 1 OCCUPIED, 1 EMPTY, 12.9ms\n",
            "video 1/1 (frame 688/952) /content/gdrive/MyDrive/car park/Test videos/park_1.mp4: 384x640 1 OCCUPIED, 1 EMPTY, 15.6ms\n",
            "video 1/1 (frame 689/952) /content/gdrive/MyDrive/car park/Test videos/park_1.mp4: 384x640 1 OCCUPIED, 1 EMPTY, 13.8ms\n",
            "video 1/1 (frame 690/952) /content/gdrive/MyDrive/car park/Test videos/park_1.mp4: 384x640 1 OCCUPIED, 1 EMPTY, 14.1ms\n",
            "video 1/1 (frame 691/952) /content/gdrive/MyDrive/car park/Test videos/park_1.mp4: 384x640 1 OCCUPIED, 1 EMPTY, 19.3ms\n",
            "video 1/1 (frame 692/952) /content/gdrive/MyDrive/car park/Test videos/park_1.mp4: 384x640 1 OCCUPIED, 1 EMPTY, 14.8ms\n",
            "video 1/1 (frame 693/952) /content/gdrive/MyDrive/car park/Test videos/park_1.mp4: 384x640 1 OCCUPIED, 1 EMPTY, 17.7ms\n",
            "video 1/1 (frame 694/952) /content/gdrive/MyDrive/car park/Test videos/park_1.mp4: 384x640 1 OCCUPIED, 1 EMPTY, 16.6ms\n",
            "video 1/1 (frame 695/952) /content/gdrive/MyDrive/car park/Test videos/park_1.mp4: 384x640 1 OCCUPIED, 1 EMPTY, 11.2ms\n",
            "video 1/1 (frame 696/952) /content/gdrive/MyDrive/car park/Test videos/park_1.mp4: 384x640 1 OCCUPIED, 1 EMPTY, 10.3ms\n",
            "video 1/1 (frame 697/952) /content/gdrive/MyDrive/car park/Test videos/park_1.mp4: 384x640 1 OCCUPIED, 1 EMPTY, 9.4ms\n",
            "video 1/1 (frame 698/952) /content/gdrive/MyDrive/car park/Test videos/park_1.mp4: 384x640 1 OCCUPIED, 1 EMPTY, 10.5ms\n",
            "video 1/1 (frame 699/952) /content/gdrive/MyDrive/car park/Test videos/park_1.mp4: 384x640 1 OCCUPIED, 1 EMPTY, 8.1ms\n",
            "video 1/1 (frame 700/952) /content/gdrive/MyDrive/car park/Test videos/park_1.mp4: 384x640 1 OCCUPIED, 1 EMPTY, 10.0ms\n",
            "video 1/1 (frame 701/952) /content/gdrive/MyDrive/car park/Test videos/park_1.mp4: 384x640 1 OCCUPIED, 1 EMPTY, 14.1ms\n",
            "video 1/1 (frame 702/952) /content/gdrive/MyDrive/car park/Test videos/park_1.mp4: 384x640 1 OCCUPIED, 1 EMPTY, 8.1ms\n",
            "video 1/1 (frame 703/952) /content/gdrive/MyDrive/car park/Test videos/park_1.mp4: 384x640 1 OCCUPIED, 1 EMPTY, 9.1ms\n",
            "video 1/1 (frame 704/952) /content/gdrive/MyDrive/car park/Test videos/park_1.mp4: 384x640 1 OCCUPIED, 1 EMPTY, 8.0ms\n",
            "video 1/1 (frame 705/952) /content/gdrive/MyDrive/car park/Test videos/park_1.mp4: 384x640 1 OCCUPIED, 1 EMPTY, 7.9ms\n",
            "video 1/1 (frame 706/952) /content/gdrive/MyDrive/car park/Test videos/park_1.mp4: 384x640 1 OCCUPIED, 1 EMPTY, 7.9ms\n",
            "video 1/1 (frame 707/952) /content/gdrive/MyDrive/car park/Test videos/park_1.mp4: 384x640 1 OCCUPIED, 1 EMPTY, 8.1ms\n",
            "video 1/1 (frame 708/952) /content/gdrive/MyDrive/car park/Test videos/park_1.mp4: 384x640 1 OCCUPIED, 1 EMPTY, 8.1ms\n",
            "video 1/1 (frame 709/952) /content/gdrive/MyDrive/car park/Test videos/park_1.mp4: 384x640 1 OCCUPIED, 1 EMPTY, 8.4ms\n",
            "video 1/1 (frame 710/952) /content/gdrive/MyDrive/car park/Test videos/park_1.mp4: 384x640 1 OCCUPIED, 1 EMPTY, 12.3ms\n",
            "video 1/1 (frame 711/952) /content/gdrive/MyDrive/car park/Test videos/park_1.mp4: 384x640 1 OCCUPIED, 1 EMPTY, 11.3ms\n",
            "video 1/1 (frame 712/952) /content/gdrive/MyDrive/car park/Test videos/park_1.mp4: 384x640 1 OCCUPIED, 1 EMPTY, 13.7ms\n",
            "video 1/1 (frame 713/952) /content/gdrive/MyDrive/car park/Test videos/park_1.mp4: 384x640 1 OCCUPIED, 1 EMPTY, 8.1ms\n",
            "video 1/1 (frame 714/952) /content/gdrive/MyDrive/car park/Test videos/park_1.mp4: 384x640 1 OCCUPIED, 1 EMPTY, 11.2ms\n",
            "video 1/1 (frame 715/952) /content/gdrive/MyDrive/car park/Test videos/park_1.mp4: 384x640 1 OCCUPIED, 1 EMPTY, 11.6ms\n",
            "video 1/1 (frame 716/952) /content/gdrive/MyDrive/car park/Test videos/park_1.mp4: 384x640 1 OCCUPIED, 1 EMPTY, 9.0ms\n",
            "video 1/1 (frame 717/952) /content/gdrive/MyDrive/car park/Test videos/park_1.mp4: 384x640 1 OCCUPIED, 1 EMPTY, 9.0ms\n",
            "video 1/1 (frame 718/952) /content/gdrive/MyDrive/car park/Test videos/park_1.mp4: 384x640 1 OCCUPIED, 1 EMPTY, 7.7ms\n",
            "video 1/1 (frame 719/952) /content/gdrive/MyDrive/car park/Test videos/park_1.mp4: 384x640 1 OCCUPIED, 1 EMPTY, 8.6ms\n",
            "video 1/1 (frame 720/952) /content/gdrive/MyDrive/car park/Test videos/park_1.mp4: 384x640 1 OCCUPIED, 1 EMPTY, 10.3ms\n",
            "video 1/1 (frame 721/952) /content/gdrive/MyDrive/car park/Test videos/park_1.mp4: 384x640 1 EMPTY, 8.4ms\n",
            "video 1/1 (frame 722/952) /content/gdrive/MyDrive/car park/Test videos/park_1.mp4: 384x640 1 EMPTY, 8.3ms\n",
            "video 1/1 (frame 723/952) /content/gdrive/MyDrive/car park/Test videos/park_1.mp4: 384x640 1 EMPTY, 8.8ms\n",
            "video 1/1 (frame 724/952) /content/gdrive/MyDrive/car park/Test videos/park_1.mp4: 384x640 1 EMPTY, 9.3ms\n",
            "video 1/1 (frame 725/952) /content/gdrive/MyDrive/car park/Test videos/park_1.mp4: 384x640 1 EMPTY, 10.2ms\n",
            "video 1/1 (frame 726/952) /content/gdrive/MyDrive/car park/Test videos/park_1.mp4: 384x640 1 EMPTY, 8.0ms\n",
            "video 1/1 (frame 727/952) /content/gdrive/MyDrive/car park/Test videos/park_1.mp4: 384x640 1 EMPTY, 8.4ms\n",
            "video 1/1 (frame 728/952) /content/gdrive/MyDrive/car park/Test videos/park_1.mp4: 384x640 1 EMPTY, 10.1ms\n",
            "video 1/1 (frame 729/952) /content/gdrive/MyDrive/car park/Test videos/park_1.mp4: 384x640 1 EMPTY, 11.5ms\n",
            "video 1/1 (frame 730/952) /content/gdrive/MyDrive/car park/Test videos/park_1.mp4: 384x640 1 EMPTY, 11.3ms\n",
            "video 1/1 (frame 731/952) /content/gdrive/MyDrive/car park/Test videos/park_1.mp4: 384x640 2 EMPTYs, 9.1ms\n",
            "video 1/1 (frame 732/952) /content/gdrive/MyDrive/car park/Test videos/park_1.mp4: 384x640 2 EMPTYs, 10.3ms\n",
            "video 1/1 (frame 733/952) /content/gdrive/MyDrive/car park/Test videos/park_1.mp4: 384x640 1 EMPTY, 8.2ms\n",
            "video 1/1 (frame 734/952) /content/gdrive/MyDrive/car park/Test videos/park_1.mp4: 384x640 1 EMPTY, 8.6ms\n",
            "video 1/1 (frame 735/952) /content/gdrive/MyDrive/car park/Test videos/park_1.mp4: 384x640 1 EMPTY, 7.9ms\n",
            "video 1/1 (frame 736/952) /content/gdrive/MyDrive/car park/Test videos/park_1.mp4: 384x640 1 EMPTY, 13.7ms\n",
            "video 1/1 (frame 737/952) /content/gdrive/MyDrive/car park/Test videos/park_1.mp4: 384x640 1 EMPTY, 7.8ms\n",
            "video 1/1 (frame 738/952) /content/gdrive/MyDrive/car park/Test videos/park_1.mp4: 384x640 1 EMPTY, 12.4ms\n",
            "video 1/1 (frame 739/952) /content/gdrive/MyDrive/car park/Test videos/park_1.mp4: 384x640 1 EMPTY, 8.5ms\n",
            "video 1/1 (frame 740/952) /content/gdrive/MyDrive/car park/Test videos/park_1.mp4: 384x640 1 EMPTY, 12.2ms\n",
            "video 1/1 (frame 741/952) /content/gdrive/MyDrive/car park/Test videos/park_1.mp4: 384x640 1 EMPTY, 10.8ms\n",
            "video 1/1 (frame 742/952) /content/gdrive/MyDrive/car park/Test videos/park_1.mp4: 384x640 1 EMPTY, 11.5ms\n",
            "video 1/1 (frame 743/952) /content/gdrive/MyDrive/car park/Test videos/park_1.mp4: 384x640 1 EMPTY, 8.3ms\n",
            "video 1/1 (frame 744/952) /content/gdrive/MyDrive/car park/Test videos/park_1.mp4: 384x640 1 EMPTY, 8.6ms\n",
            "video 1/1 (frame 745/952) /content/gdrive/MyDrive/car park/Test videos/park_1.mp4: 384x640 1 EMPTY, 9.9ms\n",
            "video 1/1 (frame 746/952) /content/gdrive/MyDrive/car park/Test videos/park_1.mp4: 384x640 1 EMPTY, 12.4ms\n",
            "video 1/1 (frame 747/952) /content/gdrive/MyDrive/car park/Test videos/park_1.mp4: 384x640 1 EMPTY, 12.4ms\n",
            "video 1/1 (frame 748/952) /content/gdrive/MyDrive/car park/Test videos/park_1.mp4: 384x640 1 EMPTY, 8.7ms\n",
            "video 1/1 (frame 749/952) /content/gdrive/MyDrive/car park/Test videos/park_1.mp4: 384x640 1 OCCUPIED, 1 EMPTY, 8.0ms\n",
            "video 1/1 (frame 750/952) /content/gdrive/MyDrive/car park/Test videos/park_1.mp4: 384x640 1 OCCUPIED, 1 EMPTY, 8.1ms\n",
            "video 1/1 (frame 751/952) /content/gdrive/MyDrive/car park/Test videos/park_1.mp4: 384x640 1 OCCUPIED, 1 EMPTY, 7.9ms\n",
            "video 1/1 (frame 752/952) /content/gdrive/MyDrive/car park/Test videos/park_1.mp4: 384x640 1 OCCUPIED, 1 EMPTY, 8.4ms\n",
            "video 1/1 (frame 753/952) /content/gdrive/MyDrive/car park/Test videos/park_1.mp4: 384x640 1 OCCUPIED, 1 EMPTY, 8.1ms\n",
            "video 1/1 (frame 754/952) /content/gdrive/MyDrive/car park/Test videos/park_1.mp4: 384x640 1 EMPTY, 9.2ms\n",
            "video 1/1 (frame 755/952) /content/gdrive/MyDrive/car park/Test videos/park_1.mp4: 384x640 1 EMPTY, 8.9ms\n",
            "video 1/1 (frame 756/952) /content/gdrive/MyDrive/car park/Test videos/park_1.mp4: 384x640 1 EMPTY, 13.3ms\n",
            "video 1/1 (frame 757/952) /content/gdrive/MyDrive/car park/Test videos/park_1.mp4: 384x640 1 EMPTY, 9.2ms\n",
            "video 1/1 (frame 758/952) /content/gdrive/MyDrive/car park/Test videos/park_1.mp4: 384x640 1 EMPTY, 8.5ms\n",
            "video 1/1 (frame 759/952) /content/gdrive/MyDrive/car park/Test videos/park_1.mp4: 384x640 1 EMPTY, 8.1ms\n",
            "video 1/1 (frame 760/952) /content/gdrive/MyDrive/car park/Test videos/park_1.mp4: 384x640 1 OCCUPIED, 1 EMPTY, 10.6ms\n",
            "video 1/1 (frame 761/952) /content/gdrive/MyDrive/car park/Test videos/park_1.mp4: 384x640 1 OCCUPIED, 1 EMPTY, 7.8ms\n",
            "video 1/1 (frame 762/952) /content/gdrive/MyDrive/car park/Test videos/park_1.mp4: 384x640 1 OCCUPIED, 1 EMPTY, 8.1ms\n",
            "video 1/1 (frame 763/952) /content/gdrive/MyDrive/car park/Test videos/park_1.mp4: 384x640 1 EMPTY, 8.0ms\n",
            "video 1/1 (frame 764/952) /content/gdrive/MyDrive/car park/Test videos/park_1.mp4: 384x640 1 EMPTY, 12.8ms\n",
            "video 1/1 (frame 765/952) /content/gdrive/MyDrive/car park/Test videos/park_1.mp4: 384x640 1 EMPTY, 8.9ms\n",
            "video 1/1 (frame 766/952) /content/gdrive/MyDrive/car park/Test videos/park_1.mp4: 384x640 1 EMPTY, 11.8ms\n",
            "video 1/1 (frame 767/952) /content/gdrive/MyDrive/car park/Test videos/park_1.mp4: 384x640 1 EMPTY, 7.7ms\n",
            "video 1/1 (frame 768/952) /content/gdrive/MyDrive/car park/Test videos/park_1.mp4: 384x640 1 EMPTY, 10.5ms\n",
            "video 1/1 (frame 769/952) /content/gdrive/MyDrive/car park/Test videos/park_1.mp4: 384x640 1 EMPTY, 8.2ms\n",
            "video 1/1 (frame 770/952) /content/gdrive/MyDrive/car park/Test videos/park_1.mp4: 384x640 1 EMPTY, 13.6ms\n",
            "video 1/1 (frame 771/952) /content/gdrive/MyDrive/car park/Test videos/park_1.mp4: 384x640 1 EMPTY, 8.7ms\n",
            "video 1/1 (frame 772/952) /content/gdrive/MyDrive/car park/Test videos/park_1.mp4: 384x640 1 EMPTY, 12.2ms\n",
            "video 1/1 (frame 773/952) /content/gdrive/MyDrive/car park/Test videos/park_1.mp4: 384x640 1 EMPTY, 9.2ms\n",
            "video 1/1 (frame 774/952) /content/gdrive/MyDrive/car park/Test videos/park_1.mp4: 384x640 1 EMPTY, 9.2ms\n",
            "video 1/1 (frame 775/952) /content/gdrive/MyDrive/car park/Test videos/park_1.mp4: 384x640 1 EMPTY, 11.7ms\n",
            "video 1/1 (frame 776/952) /content/gdrive/MyDrive/car park/Test videos/park_1.mp4: 384x640 1 EMPTY, 9.6ms\n",
            "video 1/1 (frame 777/952) /content/gdrive/MyDrive/car park/Test videos/park_1.mp4: 384x640 1 EMPTY, 8.4ms\n",
            "video 1/1 (frame 778/952) /content/gdrive/MyDrive/car park/Test videos/park_1.mp4: 384x640 1 EMPTY, 9.8ms\n",
            "video 1/1 (frame 779/952) /content/gdrive/MyDrive/car park/Test videos/park_1.mp4: 384x640 1 EMPTY, 12.0ms\n",
            "video 1/1 (frame 780/952) /content/gdrive/MyDrive/car park/Test videos/park_1.mp4: 384x640 1 EMPTY, 8.0ms\n",
            "video 1/1 (frame 781/952) /content/gdrive/MyDrive/car park/Test videos/park_1.mp4: 384x640 1 EMPTY, 8.7ms\n",
            "video 1/1 (frame 782/952) /content/gdrive/MyDrive/car park/Test videos/park_1.mp4: 384x640 1 EMPTY, 8.2ms\n",
            "video 1/1 (frame 783/952) /content/gdrive/MyDrive/car park/Test videos/park_1.mp4: 384x640 1 EMPTY, 8.8ms\n",
            "video 1/1 (frame 784/952) /content/gdrive/MyDrive/car park/Test videos/park_1.mp4: 384x640 1 EMPTY, 13.0ms\n",
            "video 1/1 (frame 785/952) /content/gdrive/MyDrive/car park/Test videos/park_1.mp4: 384x640 1 EMPTY, 11.7ms\n",
            "video 1/1 (frame 786/952) /content/gdrive/MyDrive/car park/Test videos/park_1.mp4: 384x640 1 EMPTY, 10.4ms\n",
            "video 1/1 (frame 787/952) /content/gdrive/MyDrive/car park/Test videos/park_1.mp4: 384x640 1 EMPTY, 9.5ms\n",
            "video 1/1 (frame 788/952) /content/gdrive/MyDrive/car park/Test videos/park_1.mp4: 384x640 1 EMPTY, 8.5ms\n",
            "video 1/1 (frame 789/952) /content/gdrive/MyDrive/car park/Test videos/park_1.mp4: 384x640 1 EMPTY, 10.8ms\n",
            "video 1/1 (frame 790/952) /content/gdrive/MyDrive/car park/Test videos/park_1.mp4: 384x640 1 EMPTY, 8.4ms\n",
            "video 1/1 (frame 791/952) /content/gdrive/MyDrive/car park/Test videos/park_1.mp4: 384x640 1 EMPTY, 8.0ms\n",
            "video 1/1 (frame 792/952) /content/gdrive/MyDrive/car park/Test videos/park_1.mp4: 384x640 1 EMPTY, 8.1ms\n",
            "video 1/1 (frame 793/952) /content/gdrive/MyDrive/car park/Test videos/park_1.mp4: 384x640 1 EMPTY, 9.3ms\n",
            "video 1/1 (frame 794/952) /content/gdrive/MyDrive/car park/Test videos/park_1.mp4: 384x640 1 EMPTY, 9.8ms\n",
            "video 1/1 (frame 795/952) /content/gdrive/MyDrive/car park/Test videos/park_1.mp4: 384x640 1 EMPTY, 14.2ms\n",
            "video 1/1 (frame 796/952) /content/gdrive/MyDrive/car park/Test videos/park_1.mp4: 384x640 1 EMPTY, 10.9ms\n",
            "video 1/1 (frame 797/952) /content/gdrive/MyDrive/car park/Test videos/park_1.mp4: 384x640 1 EMPTY, 8.7ms\n",
            "video 1/1 (frame 798/952) /content/gdrive/MyDrive/car park/Test videos/park_1.mp4: 384x640 1 EMPTY, 8.6ms\n",
            "video 1/1 (frame 799/952) /content/gdrive/MyDrive/car park/Test videos/park_1.mp4: 384x640 1 EMPTY, 10.5ms\n",
            "video 1/1 (frame 800/952) /content/gdrive/MyDrive/car park/Test videos/park_1.mp4: 384x640 1 OCCUPIED, 2 EMPTYs, 8.2ms\n",
            "video 1/1 (frame 801/952) /content/gdrive/MyDrive/car park/Test videos/park_1.mp4: 384x640 1 OCCUPIED, 2 EMPTYs, 9.0ms\n",
            "video 1/1 (frame 802/952) /content/gdrive/MyDrive/car park/Test videos/park_1.mp4: 384x640 2 EMPTYs, 8.6ms\n",
            "video 1/1 (frame 803/952) /content/gdrive/MyDrive/car park/Test videos/park_1.mp4: 384x640 2 EMPTYs, 13.5ms\n",
            "video 1/1 (frame 804/952) /content/gdrive/MyDrive/car park/Test videos/park_1.mp4: 384x640 2 EMPTYs, 8.0ms\n",
            "video 1/1 (frame 805/952) /content/gdrive/MyDrive/car park/Test videos/park_1.mp4: 384x640 2 EMPTYs, 8.8ms\n",
            "video 1/1 (frame 806/952) /content/gdrive/MyDrive/car park/Test videos/park_1.mp4: 384x640 2 EMPTYs, 8.4ms\n",
            "video 1/1 (frame 807/952) /content/gdrive/MyDrive/car park/Test videos/park_1.mp4: 384x640 2 EMPTYs, 7.9ms\n",
            "video 1/1 (frame 808/952) /content/gdrive/MyDrive/car park/Test videos/park_1.mp4: 384x640 2 EMPTYs, 8.7ms\n",
            "video 1/1 (frame 809/952) /content/gdrive/MyDrive/car park/Test videos/park_1.mp4: 384x640 2 EMPTYs, 8.9ms\n",
            "video 1/1 (frame 810/952) /content/gdrive/MyDrive/car park/Test videos/park_1.mp4: 384x640 2 EMPTYs, 8.4ms\n",
            "video 1/1 (frame 811/952) /content/gdrive/MyDrive/car park/Test videos/park_1.mp4: 384x640 2 EMPTYs, 8.6ms\n",
            "video 1/1 (frame 812/952) /content/gdrive/MyDrive/car park/Test videos/park_1.mp4: 384x640 2 EMPTYs, 8.6ms\n",
            "video 1/1 (frame 813/952) /content/gdrive/MyDrive/car park/Test videos/park_1.mp4: 384x640 2 EMPTYs, 12.8ms\n",
            "video 1/1 (frame 814/952) /content/gdrive/MyDrive/car park/Test videos/park_1.mp4: 384x640 2 EMPTYs, 11.1ms\n",
            "video 1/1 (frame 815/952) /content/gdrive/MyDrive/car park/Test videos/park_1.mp4: 384x640 2 EMPTYs, 11.6ms\n",
            "video 1/1 (frame 816/952) /content/gdrive/MyDrive/car park/Test videos/park_1.mp4: 384x640 1 EMPTY, 8.3ms\n",
            "video 1/1 (frame 817/952) /content/gdrive/MyDrive/car park/Test videos/park_1.mp4: 384x640 1 EMPTY, 14.4ms\n",
            "video 1/1 (frame 818/952) /content/gdrive/MyDrive/car park/Test videos/park_1.mp4: 384x640 1 EMPTY, 8.9ms\n",
            "video 1/1 (frame 819/952) /content/gdrive/MyDrive/car park/Test videos/park_1.mp4: 384x640 1 EMPTY, 13.7ms\n",
            "video 1/1 (frame 820/952) /content/gdrive/MyDrive/car park/Test videos/park_1.mp4: 384x640 1 EMPTY, 14.0ms\n",
            "video 1/1 (frame 821/952) /content/gdrive/MyDrive/car park/Test videos/park_1.mp4: 384x640 1 EMPTY, 11.1ms\n",
            "video 1/1 (frame 822/952) /content/gdrive/MyDrive/car park/Test videos/park_1.mp4: 384x640 1 EMPTY, 9.5ms\n",
            "video 1/1 (frame 823/952) /content/gdrive/MyDrive/car park/Test videos/park_1.mp4: 384x640 1 EMPTY, 12.2ms\n",
            "video 1/1 (frame 824/952) /content/gdrive/MyDrive/car park/Test videos/park_1.mp4: 384x640 1 EMPTY, 8.3ms\n",
            "video 1/1 (frame 825/952) /content/gdrive/MyDrive/car park/Test videos/park_1.mp4: 384x640 1 EMPTY, 8.6ms\n",
            "video 1/1 (frame 826/952) /content/gdrive/MyDrive/car park/Test videos/park_1.mp4: 384x640 1 EMPTY, 8.6ms\n",
            "video 1/1 (frame 827/952) /content/gdrive/MyDrive/car park/Test videos/park_1.mp4: 384x640 1 EMPTY, 8.7ms\n",
            "video 1/1 (frame 828/952) /content/gdrive/MyDrive/car park/Test videos/park_1.mp4: 384x640 1 EMPTY, 8.7ms\n",
            "video 1/1 (frame 829/952) /content/gdrive/MyDrive/car park/Test videos/park_1.mp4: 384x640 1 EMPTY, 9.1ms\n",
            "video 1/1 (frame 830/952) /content/gdrive/MyDrive/car park/Test videos/park_1.mp4: 384x640 1 EMPTY, 8.4ms\n",
            "video 1/1 (frame 831/952) /content/gdrive/MyDrive/car park/Test videos/park_1.mp4: 384x640 1 EMPTY, 8.2ms\n",
            "video 1/1 (frame 832/952) /content/gdrive/MyDrive/car park/Test videos/park_1.mp4: 384x640 2 EMPTYs, 8.6ms\n",
            "video 1/1 (frame 833/952) /content/gdrive/MyDrive/car park/Test videos/park_1.mp4: 384x640 2 EMPTYs, 11.5ms\n",
            "video 1/1 (frame 834/952) /content/gdrive/MyDrive/car park/Test videos/park_1.mp4: 384x640 2 EMPTYs, 8.1ms\n",
            "video 1/1 (frame 835/952) /content/gdrive/MyDrive/car park/Test videos/park_1.mp4: 384x640 2 EMPTYs, 8.2ms\n",
            "video 1/1 (frame 836/952) /content/gdrive/MyDrive/car park/Test videos/park_1.mp4: 384x640 2 EMPTYs, 8.4ms\n",
            "video 1/1 (frame 837/952) /content/gdrive/MyDrive/car park/Test videos/park_1.mp4: 384x640 2 EMPTYs, 8.8ms\n",
            "video 1/1 (frame 838/952) /content/gdrive/MyDrive/car park/Test videos/park_1.mp4: 384x640 1 EMPTY, 11.2ms\n",
            "video 1/1 (frame 839/952) /content/gdrive/MyDrive/car park/Test videos/park_1.mp4: 384x640 1 EMPTY, 13.6ms\n",
            "video 1/1 (frame 840/952) /content/gdrive/MyDrive/car park/Test videos/park_1.mp4: 384x640 1 EMPTY, 8.0ms\n",
            "video 1/1 (frame 841/952) /content/gdrive/MyDrive/car park/Test videos/park_1.mp4: 384x640 1 EMPTY, 8.4ms\n",
            "video 1/1 (frame 842/952) /content/gdrive/MyDrive/car park/Test videos/park_1.mp4: 384x640 1 EMPTY, 8.0ms\n",
            "video 1/1 (frame 843/952) /content/gdrive/MyDrive/car park/Test videos/park_1.mp4: 384x640 1 EMPTY, 8.0ms\n",
            "video 1/1 (frame 844/952) /content/gdrive/MyDrive/car park/Test videos/park_1.mp4: 384x640 1 EMPTY, 9.2ms\n",
            "video 1/1 (frame 845/952) /content/gdrive/MyDrive/car park/Test videos/park_1.mp4: 384x640 1 EMPTY, 7.7ms\n",
            "video 1/1 (frame 846/952) /content/gdrive/MyDrive/car park/Test videos/park_1.mp4: 384x640 1 EMPTY, 7.6ms\n",
            "video 1/1 (frame 847/952) /content/gdrive/MyDrive/car park/Test videos/park_1.mp4: 384x640 1 EMPTY, 9.5ms\n",
            "video 1/1 (frame 848/952) /content/gdrive/MyDrive/car park/Test videos/park_1.mp4: 384x640 1 EMPTY, 7.9ms\n",
            "video 1/1 (frame 849/952) /content/gdrive/MyDrive/car park/Test videos/park_1.mp4: 384x640 1 EMPTY, 7.9ms\n",
            "video 1/1 (frame 850/952) /content/gdrive/MyDrive/car park/Test videos/park_1.mp4: 384x640 1 EMPTY, 10.6ms\n",
            "video 1/1 (frame 851/952) /content/gdrive/MyDrive/car park/Test videos/park_1.mp4: 384x640 1 EMPTY, 8.9ms\n",
            "video 1/1 (frame 852/952) /content/gdrive/MyDrive/car park/Test videos/park_1.mp4: 384x640 1 EMPTY, 8.2ms\n",
            "video 1/1 (frame 853/952) /content/gdrive/MyDrive/car park/Test videos/park_1.mp4: 384x640 1 EMPTY, 8.9ms\n",
            "video 1/1 (frame 854/952) /content/gdrive/MyDrive/car park/Test videos/park_1.mp4: 384x640 1 EMPTY, 11.1ms\n",
            "video 1/1 (frame 855/952) /content/gdrive/MyDrive/car park/Test videos/park_1.mp4: 384x640 1 EMPTY, 8.3ms\n",
            "video 1/1 (frame 856/952) /content/gdrive/MyDrive/car park/Test videos/park_1.mp4: 384x640 1 EMPTY, 10.7ms\n",
            "video 1/1 (frame 857/952) /content/gdrive/MyDrive/car park/Test videos/park_1.mp4: 384x640 1 EMPTY, 8.7ms\n",
            "video 1/1 (frame 858/952) /content/gdrive/MyDrive/car park/Test videos/park_1.mp4: 384x640 1 EMPTY, 9.9ms\n",
            "video 1/1 (frame 859/952) /content/gdrive/MyDrive/car park/Test videos/park_1.mp4: 384x640 1 EMPTY, 8.6ms\n",
            "video 1/1 (frame 860/952) /content/gdrive/MyDrive/car park/Test videos/park_1.mp4: 384x640 1 EMPTY, 11.3ms\n",
            "video 1/1 (frame 861/952) /content/gdrive/MyDrive/car park/Test videos/park_1.mp4: 384x640 1 EMPTY, 9.5ms\n",
            "video 1/1 (frame 862/952) /content/gdrive/MyDrive/car park/Test videos/park_1.mp4: 384x640 1 EMPTY, 11.0ms\n",
            "video 1/1 (frame 863/952) /content/gdrive/MyDrive/car park/Test videos/park_1.mp4: 384x640 1 EMPTY, 9.3ms\n",
            "video 1/1 (frame 864/952) /content/gdrive/MyDrive/car park/Test videos/park_1.mp4: 384x640 1 EMPTY, 12.6ms\n",
            "video 1/1 (frame 865/952) /content/gdrive/MyDrive/car park/Test videos/park_1.mp4: 384x640 1 EMPTY, 9.8ms\n",
            "video 1/1 (frame 866/952) /content/gdrive/MyDrive/car park/Test videos/park_1.mp4: 384x640 1 EMPTY, 8.3ms\n",
            "video 1/1 (frame 867/952) /content/gdrive/MyDrive/car park/Test videos/park_1.mp4: 384x640 1 EMPTY, 18.0ms\n",
            "video 1/1 (frame 868/952) /content/gdrive/MyDrive/car park/Test videos/park_1.mp4: 384x640 1 EMPTY, 8.9ms\n",
            "video 1/1 (frame 869/952) /content/gdrive/MyDrive/car park/Test videos/park_1.mp4: 384x640 1 EMPTY, 7.8ms\n",
            "video 1/1 (frame 870/952) /content/gdrive/MyDrive/car park/Test videos/park_1.mp4: 384x640 1 EMPTY, 7.7ms\n",
            "video 1/1 (frame 871/952) /content/gdrive/MyDrive/car park/Test videos/park_1.mp4: 384x640 1 EMPTY, 8.0ms\n",
            "video 1/1 (frame 872/952) /content/gdrive/MyDrive/car park/Test videos/park_1.mp4: 384x640 1 EMPTY, 9.8ms\n",
            "video 1/1 (frame 873/952) /content/gdrive/MyDrive/car park/Test videos/park_1.mp4: 384x640 1 EMPTY, 8.0ms\n",
            "video 1/1 (frame 874/952) /content/gdrive/MyDrive/car park/Test videos/park_1.mp4: 384x640 1 EMPTY, 12.1ms\n",
            "video 1/1 (frame 875/952) /content/gdrive/MyDrive/car park/Test videos/park_1.mp4: 384x640 1 EMPTY, 10.2ms\n",
            "video 1/1 (frame 876/952) /content/gdrive/MyDrive/car park/Test videos/park_1.mp4: 384x640 1 EMPTY, 10.6ms\n",
            "video 1/1 (frame 877/952) /content/gdrive/MyDrive/car park/Test videos/park_1.mp4: 384x640 1 EMPTY, 8.2ms\n",
            "video 1/1 (frame 878/952) /content/gdrive/MyDrive/car park/Test videos/park_1.mp4: 384x640 1 EMPTY, 13.1ms\n",
            "video 1/1 (frame 879/952) /content/gdrive/MyDrive/car park/Test videos/park_1.mp4: 384x640 1 EMPTY, 8.9ms\n",
            "video 1/1 (frame 880/952) /content/gdrive/MyDrive/car park/Test videos/park_1.mp4: 384x640 1 EMPTY, 12.7ms\n",
            "video 1/1 (frame 881/952) /content/gdrive/MyDrive/car park/Test videos/park_1.mp4: 384x640 1 EMPTY, 11.6ms\n",
            "video 1/1 (frame 882/952) /content/gdrive/MyDrive/car park/Test videos/park_1.mp4: 384x640 1 EMPTY, 10.2ms\n",
            "video 1/1 (frame 883/952) /content/gdrive/MyDrive/car park/Test videos/park_1.mp4: 384x640 1 EMPTY, 10.8ms\n",
            "video 1/1 (frame 884/952) /content/gdrive/MyDrive/car park/Test videos/park_1.mp4: 384x640 1 EMPTY, 12.2ms\n",
            "video 1/1 (frame 885/952) /content/gdrive/MyDrive/car park/Test videos/park_1.mp4: 384x640 1 EMPTY, 10.5ms\n",
            "video 1/1 (frame 886/952) /content/gdrive/MyDrive/car park/Test videos/park_1.mp4: 384x640 1 EMPTY, 8.4ms\n",
            "video 1/1 (frame 887/952) /content/gdrive/MyDrive/car park/Test videos/park_1.mp4: 384x640 1 EMPTY, 10.0ms\n",
            "video 1/1 (frame 888/952) /content/gdrive/MyDrive/car park/Test videos/park_1.mp4: 384x640 1 EMPTY, 8.3ms\n",
            "video 1/1 (frame 889/952) /content/gdrive/MyDrive/car park/Test videos/park_1.mp4: 384x640 1 EMPTY, 11.3ms\n",
            "video 1/1 (frame 890/952) /content/gdrive/MyDrive/car park/Test videos/park_1.mp4: 384x640 1 EMPTY, 10.3ms\n",
            "video 1/1 (frame 891/952) /content/gdrive/MyDrive/car park/Test videos/park_1.mp4: 384x640 1 EMPTY, 10.9ms\n",
            "video 1/1 (frame 892/952) /content/gdrive/MyDrive/car park/Test videos/park_1.mp4: 384x640 1 EMPTY, 8.3ms\n",
            "video 1/1 (frame 893/952) /content/gdrive/MyDrive/car park/Test videos/park_1.mp4: 384x640 1 EMPTY, 11.4ms\n",
            "video 1/1 (frame 894/952) /content/gdrive/MyDrive/car park/Test videos/park_1.mp4: 384x640 1 EMPTY, 8.5ms\n",
            "video 1/1 (frame 895/952) /content/gdrive/MyDrive/car park/Test videos/park_1.mp4: 384x640 1 EMPTY, 12.7ms\n",
            "video 1/1 (frame 896/952) /content/gdrive/MyDrive/car park/Test videos/park_1.mp4: 384x640 1 EMPTY, 8.7ms\n",
            "video 1/1 (frame 897/952) /content/gdrive/MyDrive/car park/Test videos/park_1.mp4: 384x640 1 EMPTY, 8.6ms\n",
            "video 1/1 (frame 898/952) /content/gdrive/MyDrive/car park/Test videos/park_1.mp4: 384x640 1 EMPTY, 8.2ms\n",
            "video 1/1 (frame 899/952) /content/gdrive/MyDrive/car park/Test videos/park_1.mp4: 384x640 1 EMPTY, 11.2ms\n",
            "video 1/1 (frame 900/952) /content/gdrive/MyDrive/car park/Test videos/park_1.mp4: 384x640 1 EMPTY, 8.1ms\n",
            "video 1/1 (frame 901/952) /content/gdrive/MyDrive/car park/Test videos/park_1.mp4: 384x640 1 EMPTY, 10.1ms\n",
            "video 1/1 (frame 902/952) /content/gdrive/MyDrive/car park/Test videos/park_1.mp4: 384x640 1 EMPTY, 8.2ms\n",
            "video 1/1 (frame 903/952) /content/gdrive/MyDrive/car park/Test videos/park_1.mp4: 384x640 1 EMPTY, 12.1ms\n",
            "video 1/1 (frame 904/952) /content/gdrive/MyDrive/car park/Test videos/park_1.mp4: 384x640 1 EMPTY, 8.8ms\n",
            "video 1/1 (frame 905/952) /content/gdrive/MyDrive/car park/Test videos/park_1.mp4: 384x640 1 EMPTY, 9.6ms\n",
            "video 1/1 (frame 906/952) /content/gdrive/MyDrive/car park/Test videos/park_1.mp4: 384x640 1 EMPTY, 8.0ms\n",
            "video 1/1 (frame 907/952) /content/gdrive/MyDrive/car park/Test videos/park_1.mp4: 384x640 1 EMPTY, 10.9ms\n",
            "video 1/1 (frame 908/952) /content/gdrive/MyDrive/car park/Test videos/park_1.mp4: 384x640 1 EMPTY, 8.5ms\n",
            "video 1/1 (frame 909/952) /content/gdrive/MyDrive/car park/Test videos/park_1.mp4: 384x640 1 EMPTY, 8.1ms\n",
            "video 1/1 (frame 910/952) /content/gdrive/MyDrive/car park/Test videos/park_1.mp4: 384x640 1 EMPTY, 9.0ms\n",
            "video 1/1 (frame 911/952) /content/gdrive/MyDrive/car park/Test videos/park_1.mp4: 384x640 1 EMPTY, 8.1ms\n",
            "video 1/1 (frame 912/952) /content/gdrive/MyDrive/car park/Test videos/park_1.mp4: 384x640 1 EMPTY, 8.2ms\n",
            "video 1/1 (frame 913/952) /content/gdrive/MyDrive/car park/Test videos/park_1.mp4: 384x640 1 EMPTY, 8.8ms\n",
            "video 1/1 (frame 914/952) /content/gdrive/MyDrive/car park/Test videos/park_1.mp4: 384x640 1 EMPTY, 8.7ms\n",
            "video 1/1 (frame 915/952) /content/gdrive/MyDrive/car park/Test videos/park_1.mp4: 384x640 1 EMPTY, 8.2ms\n",
            "video 1/1 (frame 916/952) /content/gdrive/MyDrive/car park/Test videos/park_1.mp4: 384x640 1 EMPTY, 9.0ms\n",
            "video 1/1 (frame 917/952) /content/gdrive/MyDrive/car park/Test videos/park_1.mp4: 384x640 1 EMPTY, 8.2ms\n",
            "video 1/1 (frame 918/952) /content/gdrive/MyDrive/car park/Test videos/park_1.mp4: 384x640 1 EMPTY, 8.6ms\n",
            "video 1/1 (frame 919/952) /content/gdrive/MyDrive/car park/Test videos/park_1.mp4: 384x640 1 EMPTY, 8.6ms\n",
            "video 1/1 (frame 920/952) /content/gdrive/MyDrive/car park/Test videos/park_1.mp4: 384x640 1 EMPTY, 8.2ms\n",
            "video 1/1 (frame 921/952) /content/gdrive/MyDrive/car park/Test videos/park_1.mp4: 384x640 1 EMPTY, 8.3ms\n",
            "video 1/1 (frame 922/952) /content/gdrive/MyDrive/car park/Test videos/park_1.mp4: 384x640 1 EMPTY, 17.1ms\n",
            "video 1/1 (frame 923/952) /content/gdrive/MyDrive/car park/Test videos/park_1.mp4: 384x640 1 EMPTY, 9.5ms\n",
            "video 1/1 (frame 924/952) /content/gdrive/MyDrive/car park/Test videos/park_1.mp4: 384x640 1 EMPTY, 8.0ms\n",
            "video 1/1 (frame 925/952) /content/gdrive/MyDrive/car park/Test videos/park_1.mp4: 384x640 1 EMPTY, 8.0ms\n",
            "video 1/1 (frame 926/952) /content/gdrive/MyDrive/car park/Test videos/park_1.mp4: 384x640 1 EMPTY, 8.8ms\n",
            "video 1/1 (frame 927/952) /content/gdrive/MyDrive/car park/Test videos/park_1.mp4: 384x640 1 EMPTY, 14.1ms\n",
            "video 1/1 (frame 928/952) /content/gdrive/MyDrive/car park/Test videos/park_1.mp4: 384x640 1 EMPTY, 12.0ms\n",
            "video 1/1 (frame 929/952) /content/gdrive/MyDrive/car park/Test videos/park_1.mp4: 384x640 1 EMPTY, 8.3ms\n",
            "video 1/1 (frame 930/952) /content/gdrive/MyDrive/car park/Test videos/park_1.mp4: 384x640 1 EMPTY, 10.8ms\n",
            "video 1/1 (frame 931/952) /content/gdrive/MyDrive/car park/Test videos/park_1.mp4: 384x640 1 EMPTY, 8.5ms\n",
            "video 1/1 (frame 932/952) /content/gdrive/MyDrive/car park/Test videos/park_1.mp4: 384x640 1 EMPTY, 8.4ms\n",
            "video 1/1 (frame 933/952) /content/gdrive/MyDrive/car park/Test videos/park_1.mp4: 384x640 1 EMPTY, 12.3ms\n",
            "video 1/1 (frame 934/952) /content/gdrive/MyDrive/car park/Test videos/park_1.mp4: 384x640 1 EMPTY, 9.4ms\n",
            "video 1/1 (frame 935/952) /content/gdrive/MyDrive/car park/Test videos/park_1.mp4: 384x640 1 EMPTY, 14.8ms\n",
            "video 1/1 (frame 936/952) /content/gdrive/MyDrive/car park/Test videos/park_1.mp4: 384x640 1 EMPTY, 10.4ms\n",
            "video 1/1 (frame 937/952) /content/gdrive/MyDrive/car park/Test videos/park_1.mp4: 384x640 1 EMPTY, 12.8ms\n",
            "video 1/1 (frame 938/952) /content/gdrive/MyDrive/car park/Test videos/park_1.mp4: 384x640 1 EMPTY, 8.5ms\n",
            "video 1/1 (frame 939/952) /content/gdrive/MyDrive/car park/Test videos/park_1.mp4: 384x640 1 EMPTY, 9.4ms\n",
            "video 1/1 (frame 940/952) /content/gdrive/MyDrive/car park/Test videos/park_1.mp4: 384x640 1 EMPTY, 11.3ms\n",
            "video 1/1 (frame 941/952) /content/gdrive/MyDrive/car park/Test videos/park_1.mp4: 384x640 1 EMPTY, 8.3ms\n",
            "video 1/1 (frame 942/952) /content/gdrive/MyDrive/car park/Test videos/park_1.mp4: 384x640 1 EMPTY, 9.3ms\n",
            "video 1/1 (frame 943/952) /content/gdrive/MyDrive/car park/Test videos/park_1.mp4: 384x640 1 EMPTY, 7.9ms\n",
            "video 1/1 (frame 944/952) /content/gdrive/MyDrive/car park/Test videos/park_1.mp4: 384x640 1 EMPTY, 8.6ms\n",
            "video 1/1 (frame 945/952) /content/gdrive/MyDrive/car park/Test videos/park_1.mp4: 384x640 1 EMPTY, 8.0ms\n",
            "video 1/1 (frame 946/952) /content/gdrive/MyDrive/car park/Test videos/park_1.mp4: 384x640 1 EMPTY, 13.3ms\n",
            "video 1/1 (frame 947/952) /content/gdrive/MyDrive/car park/Test videos/park_1.mp4: 384x640 1 EMPTY, 14.7ms\n",
            "video 1/1 (frame 948/952) /content/gdrive/MyDrive/car park/Test videos/park_1.mp4: 384x640 1 EMPTY, 11.7ms\n",
            "video 1/1 (frame 949/952) /content/gdrive/MyDrive/car park/Test videos/park_1.mp4: 384x640 1 EMPTY, 8.7ms\n",
            "video 1/1 (frame 950/952) /content/gdrive/MyDrive/car park/Test videos/park_1.mp4: 384x640 1 EMPTY, 10.7ms\n",
            "video 1/1 (frame 951/952) /content/gdrive/MyDrive/car park/Test videos/park_1.mp4: 384x640 1 EMPTY, 10.1ms\n",
            "video 1/1 (frame 952/952) /content/gdrive/MyDrive/car park/Test videos/park_1.mp4: 384x640 1 EMPTY, 8.6ms\n",
            "Speed: 2.5ms preprocess, 13.0ms inference, 3.1ms postprocess per image at shape (1, 3, 384, 640)\n",
            "Results saved to \u001b[1mruns/detect/predict3\u001b[0m\n"
          ]
        }
      ]
    },
    {
      "cell_type": "code",
      "source": [
        "# 2nd prediction\n",
        "results = model('/content/gdrive/MyDrive/car park/Test videos/park_2.mp4', show =True, save= True)"
      ],
      "metadata": {
        "colab": {
          "base_uri": "https://localhost:8080/"
        },
        "id": "4eSJsDIYbB4Z",
        "outputId": "bc9a26f0-0766-4e84-894a-683816d92b24"
      },
      "execution_count": null,
      "outputs": [
        {
          "output_type": "stream",
          "name": "stdout",
          "text": [
            "\n",
            "\n",
            "WARNING ⚠️ inference results will accumulate in RAM unless `stream=True` is passed, causing potential out-of-memory\n",
            "errors for large sources or long-running streams and videos. See https://docs.ultralytics.com/modes/predict/ for help.\n",
            "\n",
            "Example:\n",
            "    results = model(source=..., stream=True)  # generator of Results objects\n",
            "    for r in results:\n",
            "        boxes = r.boxes  # Boxes object for bbox outputs\n",
            "        masks = r.masks  # Masks object for segment masks outputs\n",
            "        probs = r.probs  # Class probabilities for classification outputs\n",
            "\n"
          ]
        }
      ]
    },
    {
      "cell_type": "code",
      "source": [],
      "metadata": {
        "id": "CxaETkTvbsv_"
      },
      "execution_count": null,
      "outputs": []
    }
  ]
}